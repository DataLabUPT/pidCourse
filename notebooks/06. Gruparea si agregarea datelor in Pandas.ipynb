{
 "cells": [
  {
   "cell_type": "markdown",
   "id": "c5e3fc1f",
   "metadata": {},
   "source": [
    "## Gruparea si agregarea datelor in Pandas"
   ]
  },
  {
   "cell_type": "code",
   "execution_count": 86,
   "id": "b8f6be55",
   "metadata": {},
   "outputs": [],
   "source": [
    "import pandas as pd"
   ]
  },
  {
   "cell_type": "markdown",
   "id": "ea8688c2",
   "metadata": {},
   "source": [
    "### Cuprins\n",
    "1. [Introducere](#intro)\n",
    "2. [Agregarea datelor](#agg)\n",
    "3. [Gruparea datelor](#group)"
   ]
  },
  {
   "cell_type": "markdown",
   "id": "68b3df70",
   "metadata": {},
   "source": [
    "### Introducere <a name=\"intro\"></a>"
   ]
  },
  {
   "cell_type": "markdown",
   "id": "377d2234",
   "metadata": {},
   "source": [
    "Un element esential in analiza datelor il reprezinta agregarea eficienta a acestora. Agregarea datelor reprezinta procesul prin care date brute, uneori preluate din mai multe surse, sunt organizate si exprimate intr-o forma mai cuprinzatoare si mai usor de utilizat (consumat).\n",
    "\n",
    "De exemplu, datele brute pot fi agregate pe o anumita perioada de timp pentru a furniza valori statistice, precum: suma, media, maximul, minimul sau numarul de valori."
   ]
  },
  {
   "cell_type": "markdown",
   "id": "e749f9e5",
   "metadata": {},
   "source": [
    "Organizatia Natiunilor Unite pentru Alimentatie si Agricultura (FAO) este o agentie specializata a Natiunilor Unite. Scopul organizatiei este acela de a asigura securitatea alimentara si accesul regulat la hrana de calitate pentru a duce o viata activa si sanatoasa. [About FAO, Food and Agriculture Organization of the United Nations](http://www.fao.org/about/en/)\n",
    "\n",
    "FAO ofera acces gratuit la date privind alimentatia si agricultura pentru peste 245 de tari si teritorii din 1961 pana in prezent. Un astfel de set de date a fost descarcat din cadrul platformei de date a organizatiei [FAOSTAT](https://www.fao.org/faostat/en/#data). Setul de date cuprinde suprafata recoltata, randamentul si productia pentru culturi de cereale (orz, porumb, ovaz, orez, secara si grau) din mai multe state europene (Italia, Franta, Germania, Polonia, Spania si Romania), pentru perioada 1961-2020. Stabilirea elementelor care vor fi disponibile la nivelul setului de date s-a realizat in cadrul platformei de date a FAO, la adresa [FAOSTAT: Crops and livestock products](https://www.fao.org/faostat/en/#data/QCL)."
   ]
  },
  {
   "cell_type": "markdown",
   "id": "403a5aff",
   "metadata": {},
   "source": [
    "![fao-logo-en.svg](../images/fao-logo-en.svg)\n",
    "<!-- ![fao-logo-en.svg](https://www.fao.org/images/corporatelibraries/fao-logo/fao-logo-en.svg) -->"
   ]
  },
  {
   "cell_type": "markdown",
   "id": "84435c83",
   "metadata": {},
   "source": [
    "FAOSTAT: crops and livestock products\n",
    "\n",
    "* URL: https://www.fao.org/faostat/en/#data/QCL\n",
    "* Country: France, Germany, Italy, Poland, Romania, Spain \n",
    "* Elements: area harvested, yield, production quantity\n",
    "* Items: Barley, Maize, Oats, Rice, Rye, Wheat \n",
    "* Years: 1961-2020\n",
    "* Last update: 17.02.2022"
   ]
  },
  {
   "cell_type": "code",
   "execution_count": 87,
   "id": "be10d2c3",
   "metadata": {},
   "outputs": [],
   "source": [
    "df = pd.read_csv(\"../data/faostat.csv\", header=0)"
   ]
  },
  {
   "cell_type": "markdown",
   "id": "cc5a42de",
   "metadata": {},
   "source": [
    "Apeland metoda [pandas.DataFrame.info()](https://pandas.pydata.org/docs/reference/api/pandas.DataFrame.info.html) pentru structura de date de tip DataFrame (df) obtinem informatiile generale cu privire la structura de date, precum tipul de date al valorilor de la nivelul coloanelor, denumirile coloanelor, valorile nenule."
   ]
  },
  {
   "cell_type": "code",
   "execution_count": 88,
   "id": "5ea2a8ce",
   "metadata": {},
   "outputs": [
    {
     "name": "stdout",
     "output_type": "stream",
     "text": [
      "<class 'pandas.core.frame.DataFrame'>\n",
      "RangeIndex: 6132 entries, 0 to 6131\n",
      "Data columns (total 14 columns):\n",
      " #   Column            Non-Null Count  Dtype \n",
      "---  ------            --------------  ----- \n",
      " 0   Domain Code       6132 non-null   object\n",
      " 1   Domain            6132 non-null   object\n",
      " 2   Area Code (FAO)   6132 non-null   int64 \n",
      " 3   Area              6132 non-null   object\n",
      " 4   Element Code      6132 non-null   int64 \n",
      " 5   Element           6132 non-null   object\n",
      " 6   Item Code (FAO)   6132 non-null   int64 \n",
      " 7   Item              6132 non-null   object\n",
      " 8   Year Code         6132 non-null   int64 \n",
      " 9   Year              6132 non-null   int64 \n",
      " 10  Unit              6132 non-null   object\n",
      " 11  Value             6132 non-null   int64 \n",
      " 12  Flag              2059 non-null   object\n",
      " 13  Flag Description  6132 non-null   object\n",
      "dtypes: int64(6), object(8)\n",
      "memory usage: 670.8+ KB\n"
     ]
    }
   ],
   "source": [
    "df.info()"
   ]
  },
  {
   "cell_type": "code",
   "execution_count": 89,
   "id": "586585d1",
   "metadata": {},
   "outputs": [
    {
     "data": {
      "text/plain": [
       "Index(['Domain Code', 'Domain', 'Area Code (FAO)', 'Area', 'Element Code',\n",
       "       'Element', 'Item Code (FAO)', 'Item', 'Year Code', 'Year', 'Unit',\n",
       "       'Value', 'Flag', 'Flag Description'],\n",
       "      dtype='object')"
      ]
     },
     "execution_count": 89,
     "metadata": {},
     "output_type": "execute_result"
    }
   ],
   "source": [
    "df.columns"
   ]
  },
  {
   "cell_type": "markdown",
   "id": "0e7710e6",
   "metadata": {},
   "source": [
    "Pentru simplificarea denumirilor unor coloane, <i>Area Code (FAO)</i> si <i>Item Code (FAO)</i>, eliminam de la nivelul acestora sirul de caractere (FAO). In acest scop pot fi utilizate metode pentru procesarea obiectelor de tip sir de caractere din limbajul Python, precum: [str.lstrip()](https://docs.python.org/3/library/stdtypes.html#str.lstrip), [str.rstrip()](https://docs.python.org/3/library/stdtypes.html#str.rstrip) sau [str.replace()](https://docs.python.org/3/library/stdtypes.html#str.replace)."
   ]
  },
  {
   "cell_type": "markdown",
   "id": "67b39269",
   "metadata": {},
   "source": [
    "Metoda [str.rstrip()](https://docs.python.org/3/library/stdtypes.html#str.rstrip) este utilizata pentru a elimina caractere (in cazul nostru <i>(FAO)</i>), de la finalul unui sir de caractere. Pentru a redenumi toate coloanele de la nivelul structurii de date de tip DataFrame (df), vom aplica metoda [str.rstrip()](https://docs.python.org/3/library/stdtypes.html#str.rstrip) pentru fiecare nume de coloane, dupa cum urmeaza."
   ]
  },
  {
   "cell_type": "code",
   "execution_count": 90,
   "id": "5c05f99d",
   "metadata": {},
   "outputs": [],
   "source": [
    "df.columns = df.columns.str.rstrip(' (FAO)')"
   ]
  },
  {
   "cell_type": "markdown",
   "id": "f99da327",
   "metadata": {},
   "source": [
    "Incepand cu versiunea 3.9, limbajul Python introduce doua noi functii pentru eliminarea sufixelor/prefixelor dintr-un sir de caractere: [str.removesuffix()](https://docs.python.org/3/library/stdtypes.html#str.removesuffix), respectiv [str.removeprefix()](https://docs.python.org/3/library/stdtypes.html#str.removeprefix). Problema anterioara poate fi rezolvata si prin apelarea metodei [str.removesuffix()](https://docs.python.org/3/library/stdtypes.html#str.removesuffix) pentru fiecare nume de coloana de la nivelul structurii de date.\n",
    "\n",
    "Aplicarea metodei [str.removesuffix()](https://docs.python.org/3/library/stdtypes.html#str.removesuffix) se realizeaza in acest caz prin intermediul expresiilor lambda si a functiei [map()](https://docs.python.org/3/library/functions.html#map). Pentru detalii in legatura cu utilizarea expresiilor lambda puteti consulta materialul [Elemente de programare functionala in Python](https://uncoded.ro/elemente-de-programare-functionala-in-python/)."
   ]
  },
  {
   "cell_type": "code",
   "execution_count": 91,
   "id": "004be18b",
   "metadata": {},
   "outputs": [],
   "source": [
    "# df.columns = df.columns.map(lambda x: x.removesuffix(' (FAO)'))"
   ]
  },
  {
   "cell_type": "code",
   "execution_count": 92,
   "id": "8c8f0794",
   "metadata": {},
   "outputs": [
    {
     "data": {
      "text/html": [
       "<div>\n",
       "<style scoped>\n",
       "    .dataframe tbody tr th:only-of-type {\n",
       "        vertical-align: middle;\n",
       "    }\n",
       "\n",
       "    .dataframe tbody tr th {\n",
       "        vertical-align: top;\n",
       "    }\n",
       "\n",
       "    .dataframe thead th {\n",
       "        text-align: right;\n",
       "    }\n",
       "</style>\n",
       "<table border=\"1\" class=\"dataframe\">\n",
       "  <thead>\n",
       "    <tr style=\"text-align: right;\">\n",
       "      <th></th>\n",
       "      <th>Domain Code</th>\n",
       "      <th>Domain</th>\n",
       "      <th>Area Code</th>\n",
       "      <th>Area</th>\n",
       "      <th>Element Code</th>\n",
       "      <th>Element</th>\n",
       "      <th>Item Code</th>\n",
       "      <th>Item</th>\n",
       "      <th>Year Code</th>\n",
       "      <th>Year</th>\n",
       "      <th>Unit</th>\n",
       "      <th>Value</th>\n",
       "      <th>Flag</th>\n",
       "      <th>Flag Description</th>\n",
       "    </tr>\n",
       "  </thead>\n",
       "  <tbody>\n",
       "    <tr>\n",
       "      <th>0</th>\n",
       "      <td>QCL</td>\n",
       "      <td>Crops and livestock products</td>\n",
       "      <td>68</td>\n",
       "      <td>France</td>\n",
       "      <td>5312</td>\n",
       "      <td>Area harvested</td>\n",
       "      <td>44</td>\n",
       "      <td>Barley</td>\n",
       "      <td>1961</td>\n",
       "      <td>1961</td>\n",
       "      <td>ha</td>\n",
       "      <td>2259100</td>\n",
       "      <td>NaN</td>\n",
       "      <td>Official data</td>\n",
       "    </tr>\n",
       "    <tr>\n",
       "      <th>1</th>\n",
       "      <td>QCL</td>\n",
       "      <td>Crops and livestock products</td>\n",
       "      <td>68</td>\n",
       "      <td>France</td>\n",
       "      <td>5312</td>\n",
       "      <td>Area harvested</td>\n",
       "      <td>44</td>\n",
       "      <td>Barley</td>\n",
       "      <td>1962</td>\n",
       "      <td>1962</td>\n",
       "      <td>ha</td>\n",
       "      <td>2176500</td>\n",
       "      <td>NaN</td>\n",
       "      <td>Official data</td>\n",
       "    </tr>\n",
       "    <tr>\n",
       "      <th>2</th>\n",
       "      <td>QCL</td>\n",
       "      <td>Crops and livestock products</td>\n",
       "      <td>68</td>\n",
       "      <td>France</td>\n",
       "      <td>5312</td>\n",
       "      <td>Area harvested</td>\n",
       "      <td>44</td>\n",
       "      <td>Barley</td>\n",
       "      <td>1963</td>\n",
       "      <td>1963</td>\n",
       "      <td>ha</td>\n",
       "      <td>2538500</td>\n",
       "      <td>NaN</td>\n",
       "      <td>Official data</td>\n",
       "    </tr>\n",
       "    <tr>\n",
       "      <th>3</th>\n",
       "      <td>QCL</td>\n",
       "      <td>Crops and livestock products</td>\n",
       "      <td>68</td>\n",
       "      <td>France</td>\n",
       "      <td>5312</td>\n",
       "      <td>Area harvested</td>\n",
       "      <td>44</td>\n",
       "      <td>Barley</td>\n",
       "      <td>1964</td>\n",
       "      <td>1964</td>\n",
       "      <td>ha</td>\n",
       "      <td>2360100</td>\n",
       "      <td>NaN</td>\n",
       "      <td>Official data</td>\n",
       "    </tr>\n",
       "    <tr>\n",
       "      <th>4</th>\n",
       "      <td>QCL</td>\n",
       "      <td>Crops and livestock products</td>\n",
       "      <td>68</td>\n",
       "      <td>France</td>\n",
       "      <td>5312</td>\n",
       "      <td>Area harvested</td>\n",
       "      <td>44</td>\n",
       "      <td>Barley</td>\n",
       "      <td>1965</td>\n",
       "      <td>1965</td>\n",
       "      <td>ha</td>\n",
       "      <td>2429800</td>\n",
       "      <td>NaN</td>\n",
       "      <td>Official data</td>\n",
       "    </tr>\n",
       "  </tbody>\n",
       "</table>\n",
       "</div>"
      ],
      "text/plain": [
       "  Domain Code                        Domain  Area Code    Area  Element Code  \\\n",
       "0         QCL  Crops and livestock products         68  France          5312   \n",
       "1         QCL  Crops and livestock products         68  France          5312   \n",
       "2         QCL  Crops and livestock products         68  France          5312   \n",
       "3         QCL  Crops and livestock products         68  France          5312   \n",
       "4         QCL  Crops and livestock products         68  France          5312   \n",
       "\n",
       "          Element  Item Code    Item  Year Code  Year Unit    Value Flag  \\\n",
       "0  Area harvested         44  Barley       1961  1961   ha  2259100  NaN   \n",
       "1  Area harvested         44  Barley       1962  1962   ha  2176500  NaN   \n",
       "2  Area harvested         44  Barley       1963  1963   ha  2538500  NaN   \n",
       "3  Area harvested         44  Barley       1964  1964   ha  2360100  NaN   \n",
       "4  Area harvested         44  Barley       1965  1965   ha  2429800  NaN   \n",
       "\n",
       "  Flag Description  \n",
       "0    Official data  \n",
       "1    Official data  \n",
       "2    Official data  \n",
       "3    Official data  \n",
       "4    Official data  "
      ]
     },
     "execution_count": 92,
     "metadata": {},
     "output_type": "execute_result"
    }
   ],
   "source": [
    "df.head()"
   ]
  },
  {
   "cell_type": "markdown",
   "id": "ca2cd2a8",
   "metadata": {},
   "source": [
    "Coloanele <i>Domain Code</i>, <i>Area Code</i>, <i>Element Code</i>, <i>Item Code</i> si <i>Year Code</i> contin codari specifice organizatiei FAO, pentru diverse elemente prezente la nivelul setului de date (domeniu date, stat, tip raportare, tip cultura, an raportare), motiv pentru care le vom elimina de la nivelul setului prin intermediul metodei [pandas.DataFrame.drop()](https://pandas.pydata.org/docs/reference/api/pandas.DataFrame.drop.html)."
   ]
  },
  {
   "cell_type": "markdown",
   "id": "af293c6a",
   "metadata": {},
   "source": [
    "Metoda [pandas.DataFrame.drop()](https://pandas.pydata.org/docs/reference/api/pandas.DataFrame.drop.html) elimina de la nivelul randurilor sau coloanelor etichetele specificate. Prin precizarea parametrului <i>axis</i> cu valorile <i>0</i> sau <i>index</i> sunt eliminate etichete de la nivelul randurilor, in timp ce valorile <i>1</i> sau <i>columns</i> determina eliminarea etichetelor de la nivelul coloanelor. "
   ]
  },
  {
   "cell_type": "code",
   "execution_count": 93,
   "id": "24f9f0be",
   "metadata": {},
   "outputs": [],
   "source": [
    "df.drop(['Domain Code', 'Area Code', 'Element Code', 'Item Code', 'Year Code'], axis=1, inplace=True)"
   ]
  },
  {
   "cell_type": "markdown",
   "id": "1edff470",
   "metadata": {},
   "source": [
    "Parametrul <i>inplace</i> detine implicit valoarea <i>False</i> si determina returnarea unei copii ca urmare a apelului metodei care il contine. Daca acesta are valoarea <i>True</i>, operatia va fi efectuata cu salvarea rezultatului la nivelul structurii de date.   "
   ]
  },
  {
   "cell_type": "markdown",
   "id": "47e3a781",
   "metadata": {},
   "source": [
    "Coloanele <i>Flag</i> si <i>Flag Description</i> ofera informatii cu privire la sursa datelor. Valorile posibile pentru aceste coloana sunt disponibile in tabelul de mai jos:\n",
    "\n",
    "| Flag | Flag description |\n",
    "| --- | --- |\n",
    "| A | valori agregate; pot include date oficiale, semioficiale, estimate sau calculate |\n",
    "| FC | date calculate |\n",
    "| M | date indisponibile |\n",
    "| Im | date FAO bazate pe metodologia de imputare |\n",
    "| F | estimare FAO |\n",
    "| | date oficiale |\n",
    "|* | date neoficiale |\n"
   ]
  },
  {
   "cell_type": "code",
   "execution_count": 94,
   "id": "fc83373b",
   "metadata": {},
   "outputs": [
    {
     "data": {
      "text/plain": [
       "array([nan, 'Fc', 'F', '*'], dtype=object)"
      ]
     },
     "execution_count": 94,
     "metadata": {},
     "output_type": "execute_result"
    }
   ],
   "source": [
    "df['Flag'].unique()"
   ]
  },
  {
   "cell_type": "code",
   "execution_count": 95,
   "id": "19608727",
   "metadata": {
    "scrolled": true
   },
   "outputs": [
    {
     "data": {
      "text/plain": [
       "array(['Official data', 'Calculated data', 'FAO estimate',\n",
       "       'Unofficial figure'], dtype=object)"
      ]
     },
     "execution_count": 95,
     "metadata": {},
     "output_type": "execute_result"
    }
   ],
   "source": [
    "df['Flag Description'].unique()"
   ]
  },
  {
   "cell_type": "markdown",
   "id": "2d607083",
   "metadata": {},
   "source": [
    "Eliminam de la nivelul setului de date si coloanele <i>Domain</i>, <i>Flag</i> si <i>Flag Description</i>, deoarece aceste nu prezinta relevanta in agregarea datelor."
   ]
  },
  {
   "cell_type": "code",
   "execution_count": 96,
   "id": "55bbc4a6",
   "metadata": {},
   "outputs": [],
   "source": [
    "df.drop(['Domain', 'Flag', 'Flag Description'], axis=1, inplace=True)"
   ]
  },
  {
   "cell_type": "markdown",
   "id": "00c44499",
   "metadata": {},
   "source": [
    "Unitatile de masura utilizate pentru cele trei tipuri de raportari/elemente (<i>Area harvested</i>, <i>Yield</i>, <i>Production</i>) sunt <i>ha</i>, <i>hg/ha</i>, respectiv <i>tonnes</i>. "
   ]
  },
  {
   "cell_type": "code",
   "execution_count": 97,
   "id": "773fa145",
   "metadata": {},
   "outputs": [
    {
     "data": {
      "text/plain": [
       "array(['ha', 'hg/ha', 'tonnes'], dtype=object)"
      ]
     },
     "execution_count": 97,
     "metadata": {},
     "output_type": "execute_result"
    }
   ],
   "source": [
    "df['Unit'].unique()"
   ]
  },
  {
   "cell_type": "markdown",
   "id": "3e8e2dfc",
   "metadata": {},
   "source": [
    "Pentru raportarea randamentului este necesara conversia valorilor in tone la hectar. In acest sens, valorile din coloana <i>Value</i> pentru inregistrarile care au in vedere randamentul (<i>Yield</i>) trebuie impartite la 10000. Dupa realizarea conversiei, si valorile de la nivelul coloanei <i>Unit</i> trebuiesc actualizate la valoarea <i>tonnes/ha</i> pentru inregistrarile care au in vedere randamentul (<i>Yield</i>)."
   ]
  },
  {
   "cell_type": "code",
   "execution_count": 98,
   "id": "665fca8b",
   "metadata": {},
   "outputs": [],
   "source": [
    "df['Value'] = df['Value'].astype(float)\n",
    "df.loc[(df['Element']=='Yield'), 'Value'] = df['Value']/10000"
   ]
  },
  {
   "cell_type": "code",
   "execution_count": 99,
   "id": "fabf47dc",
   "metadata": {},
   "outputs": [],
   "source": [
    "df.loc[(df['Element']=='Yield'), 'Unit'] = 'tonnes/ha'"
   ]
  },
  {
   "cell_type": "code",
   "execution_count": 100,
   "id": "c048ed06",
   "metadata": {},
   "outputs": [
    {
     "data": {
      "text/plain": [
       "array(['France', 'Germany', 'Italy', 'Poland', 'Romania', 'Spain'],\n",
       "      dtype=object)"
      ]
     },
     "execution_count": 100,
     "metadata": {},
     "output_type": "execute_result"
    }
   ],
   "source": [
    "df['Area'].unique()"
   ]
  },
  {
   "cell_type": "code",
   "execution_count": 101,
   "id": "d5299021",
   "metadata": {
    "scrolled": true
   },
   "outputs": [
    {
     "data": {
      "text/plain": [
       "array(['Area harvested', 'Yield', 'Production'], dtype=object)"
      ]
     },
     "execution_count": 101,
     "metadata": {},
     "output_type": "execute_result"
    }
   ],
   "source": [
    "df['Element'].unique()"
   ]
  },
  {
   "cell_type": "code",
   "execution_count": 102,
   "id": "25d3f142",
   "metadata": {
    "scrolled": true
   },
   "outputs": [
    {
     "data": {
      "text/plain": [
       "array(['Barley', 'Maize', 'Oats', 'Rice, paddy', 'Rye', 'Wheat'],\n",
       "      dtype=object)"
      ]
     },
     "execution_count": 102,
     "metadata": {},
     "output_type": "execute_result"
    }
   ],
   "source": [
    "df['Item'].unique()"
   ]
  },
  {
   "cell_type": "markdown",
   "id": "49ecaf9e",
   "metadata": {},
   "source": [
    "Observam faptul ca la nivelul setului de date sunt disponibile mai multe coloane care prezinta date categorice, si anume: <i>Area</i>, <i>Element</i>, <i>Item</i>, <i>Year</i>, <i>Unit</i>. Conversia acestor coloane la tipul <i>category</i> se poate realiza prin intermediul metodei [pandas.DataFrame.astype()](https://pandas.pydata.org/docs/reference/api/pandas.DataFrame.astype.html), metoda care permite trecerea unui obiect Pandas la un tip de date specificat explicit."
   ]
  },
  {
   "cell_type": "code",
   "execution_count": 103,
   "id": "d0fd7a4c",
   "metadata": {},
   "outputs": [],
   "source": [
    "category = ['Area', 'Element', 'Item', 'Year', 'Unit']\n",
    "df[category] = df[category].astype('category')"
   ]
  },
  {
   "cell_type": "code",
   "execution_count": 104,
   "id": "c0908276",
   "metadata": {},
   "outputs": [
    {
     "data": {
      "text/html": [
       "<div>\n",
       "<style scoped>\n",
       "    .dataframe tbody tr th:only-of-type {\n",
       "        vertical-align: middle;\n",
       "    }\n",
       "\n",
       "    .dataframe tbody tr th {\n",
       "        vertical-align: top;\n",
       "    }\n",
       "\n",
       "    .dataframe thead th {\n",
       "        text-align: right;\n",
       "    }\n",
       "</style>\n",
       "<table border=\"1\" class=\"dataframe\">\n",
       "  <thead>\n",
       "    <tr style=\"text-align: right;\">\n",
       "      <th></th>\n",
       "      <th>Area</th>\n",
       "      <th>Element</th>\n",
       "      <th>Item</th>\n",
       "      <th>Year</th>\n",
       "      <th>Unit</th>\n",
       "      <th>Value</th>\n",
       "    </tr>\n",
       "  </thead>\n",
       "  <tbody>\n",
       "    <tr>\n",
       "      <th>1327</th>\n",
       "      <td>Germany</td>\n",
       "      <td>Yield</td>\n",
       "      <td>Maize</td>\n",
       "      <td>1968</td>\n",
       "      <td>tonnes/ha</td>\n",
       "      <td>4.894300e+00</td>\n",
       "    </tr>\n",
       "    <tr>\n",
       "      <th>1339</th>\n",
       "      <td>Germany</td>\n",
       "      <td>Yield</td>\n",
       "      <td>Maize</td>\n",
       "      <td>1980</td>\n",
       "      <td>tonnes/ha</td>\n",
       "      <td>5.643500e+00</td>\n",
       "    </tr>\n",
       "    <tr>\n",
       "      <th>1446</th>\n",
       "      <td>Germany</td>\n",
       "      <td>Area harvested</td>\n",
       "      <td>Oats</td>\n",
       "      <td>1967</td>\n",
       "      <td>ha</td>\n",
       "      <td>1.077720e+06</td>\n",
       "    </tr>\n",
       "    <tr>\n",
       "      <th>1637</th>\n",
       "      <td>Germany</td>\n",
       "      <td>Area harvested</td>\n",
       "      <td>Rye</td>\n",
       "      <td>1972</td>\n",
       "      <td>ha</td>\n",
       "      <td>1.489460e+06</td>\n",
       "    </tr>\n",
       "    <tr>\n",
       "      <th>5102</th>\n",
       "      <td>Spain</td>\n",
       "      <td>Area harvested</td>\n",
       "      <td>Barley</td>\n",
       "      <td>2011</td>\n",
       "      <td>ha</td>\n",
       "      <td>2.700679e+06</td>\n",
       "    </tr>\n",
       "  </tbody>\n",
       "</table>\n",
       "</div>"
      ],
      "text/plain": [
       "         Area         Element    Item  Year       Unit         Value\n",
       "1327  Germany           Yield   Maize  1968  tonnes/ha  4.894300e+00\n",
       "1339  Germany           Yield   Maize  1980  tonnes/ha  5.643500e+00\n",
       "1446  Germany  Area harvested    Oats  1967         ha  1.077720e+06\n",
       "1637  Germany  Area harvested     Rye  1972         ha  1.489460e+06\n",
       "5102    Spain  Area harvested  Barley  2011         ha  2.700679e+06"
      ]
     },
     "execution_count": 104,
     "metadata": {},
     "output_type": "execute_result"
    }
   ],
   "source": [
    "df.sample(5)"
   ]
  },
  {
   "cell_type": "markdown",
   "id": "cb8c0602",
   "metadata": {},
   "source": [
    "Inregistrarile de la nivelul structurii de date de tip DataFrame contin pentru fiecare stat, tip de cultura si an, trei tipuri de raportari: suprafata cultivata, randamentul si productia. \n",
    "\n",
    "Dorim sa obtinem o noua structura de tip DataFrame care sa contina pentru fiecare stat, tip de cultura si an coloane corespunzatoare celor trei tipuri de raportari. In acest scop, extragem prin intermediul metodei [pandas.DataFrame.query()](https://pandas.pydata.org/docs/reference/api/pandas.DataFrame.query.html) in trei subseturi distincte inregistrarile ce corespund fiecarui tip de raportare. In fiecare structura de date nou obtinuta redenumim coloana <i>Value</i> folosind numele raporortarilor (<i>Area harvasted</i>, <i>Yield</i>, respectiv <i>Production</i>) si stergem coloanele <i>Element</i> si <i>Unit</i>."
   ]
  },
  {
   "cell_type": "code",
   "execution_count": 105,
   "id": "fabe24ae",
   "metadata": {},
   "outputs": [],
   "source": [
    "data_frames = []\n",
    "for element in df['Element'].unique():\n",
    "    data_frames.append(df.query(\"Element == @element\").rename(columns={'Value':element}).drop(['Element', 'Unit'], axis=1))"
   ]
  },
  {
   "cell_type": "markdown",
   "id": "8be2dae9",
   "metadata": {},
   "source": [
    "Subseturile sunt adaugate ca si elemente ale structurii de date de tip list, numita data_frames, cu ajutorul metodei [list.append()](https://docs.python.org/3/tutorial/datastructures.html)."
   ]
  },
  {
   "cell_type": "code",
   "execution_count": 106,
   "id": "60cb69ca",
   "metadata": {},
   "outputs": [
    {
     "data": {
      "text/plain": [
       "(         Area         Item  Year  Area harvested\n",
       " 239    France        Maize  2020       1691130.0\n",
       " 2932    Italy        Wheat  2007       2100437.0\n",
       " 2364    Italy         Oats  1979        222098.0\n",
       " 3271   Poland        Maize  1986         22233.0\n",
       " 4520  Romania  Rice, paddy  1969         28969.0,\n",
       "          Area    Item  Year   Yield\n",
       " 4061  Romania  Barley  1990  3.5775\n",
       " 4801  Romania     Rye  2010  2.3742\n",
       " 2065    Italy  Barley  1980  2.8739\n",
       " 4230  Romania   Maize  1979  3.5539\n",
       " 5499    Spain    Oats  1988  1.5417,\n",
       "          Area         Item  Year  Production\n",
       " 3409   Poland        Maize  2004   2344027.0\n",
       " 1613  Germany         Oats  2014    627100.0\n",
       " 5893    Spain          Rye  1962    452700.0\n",
       " 1411  Germany        Maize  1992   2139031.0\n",
       " 2692    Italy  Rice, paddy  2007   1540087.0)"
      ]
     },
     "execution_count": 106,
     "metadata": {},
     "output_type": "execute_result"
    }
   ],
   "source": [
    "data_frames[0].sample(5), \\\n",
    "data_frames[1].sample(5), \\\n",
    "data_frames[2].sample(5)"
   ]
  },
  {
   "cell_type": "markdown",
   "id": "0032af41",
   "metadata": {},
   "source": [
    "Pentru a obtine setul de date final (dfs) este necesara combinarea subseturilor specifice raportarilor pe baza coloanelor <i>Area</i>, <i>Item</i> si <i>Year</i>, folosind functia [pandas.merge()](https://pandas.pydata.org/pandas-docs/stable/reference/api/pandas.merge.html). Mai intai se combina datele din primele doua subseturi de date, dupa care rezultatul este combinat cu datele din ultimul subset."
   ]
  },
  {
   "cell_type": "code",
   "execution_count": 107,
   "id": "f93d6efd",
   "metadata": {},
   "outputs": [],
   "source": [
    "dfs = data_frames[0]\n",
    "for data_frame in data_frames[1:]:\n",
    "    dfs = dfs.merge(data_frame, on=['Area', 'Item', 'Year']) "
   ]
  },
  {
   "cell_type": "code",
   "execution_count": 108,
   "id": "a4fba766",
   "metadata": {},
   "outputs": [
    {
     "data": {
      "text/html": [
       "<div>\n",
       "<style scoped>\n",
       "    .dataframe tbody tr th:only-of-type {\n",
       "        vertical-align: middle;\n",
       "    }\n",
       "\n",
       "    .dataframe tbody tr th {\n",
       "        vertical-align: top;\n",
       "    }\n",
       "\n",
       "    .dataframe thead th {\n",
       "        text-align: right;\n",
       "    }\n",
       "</style>\n",
       "<table border=\"1\" class=\"dataframe\">\n",
       "  <thead>\n",
       "    <tr style=\"text-align: right;\">\n",
       "      <th></th>\n",
       "      <th>Area</th>\n",
       "      <th>Item</th>\n",
       "      <th>Year</th>\n",
       "      <th>Area harvested</th>\n",
       "      <th>Yield</th>\n",
       "      <th>Production</th>\n",
       "    </tr>\n",
       "  </thead>\n",
       "  <tbody>\n",
       "    <tr>\n",
       "      <th>0</th>\n",
       "      <td>France</td>\n",
       "      <td>Barley</td>\n",
       "      <td>1961</td>\n",
       "      <td>2259100.0</td>\n",
       "      <td>2.3960</td>\n",
       "      <td>5412790.0</td>\n",
       "    </tr>\n",
       "    <tr>\n",
       "      <th>1</th>\n",
       "      <td>France</td>\n",
       "      <td>Barley</td>\n",
       "      <td>1962</td>\n",
       "      <td>2176500.0</td>\n",
       "      <td>2.7581</td>\n",
       "      <td>6003010.0</td>\n",
       "    </tr>\n",
       "    <tr>\n",
       "      <th>2</th>\n",
       "      <td>France</td>\n",
       "      <td>Barley</td>\n",
       "      <td>1963</td>\n",
       "      <td>2538500.0</td>\n",
       "      <td>2.9088</td>\n",
       "      <td>7384040.0</td>\n",
       "    </tr>\n",
       "    <tr>\n",
       "      <th>3</th>\n",
       "      <td>France</td>\n",
       "      <td>Barley</td>\n",
       "      <td>1964</td>\n",
       "      <td>2360100.0</td>\n",
       "      <td>2.8774</td>\n",
       "      <td>6790980.0</td>\n",
       "    </tr>\n",
       "    <tr>\n",
       "      <th>4</th>\n",
       "      <td>France</td>\n",
       "      <td>Barley</td>\n",
       "      <td>1965</td>\n",
       "      <td>2429800.0</td>\n",
       "      <td>3.0363</td>\n",
       "      <td>7377700.0</td>\n",
       "    </tr>\n",
       "  </tbody>\n",
       "</table>\n",
       "</div>"
      ],
      "text/plain": [
       "     Area    Item  Year  Area harvested   Yield  Production\n",
       "0  France  Barley  1961       2259100.0  2.3960   5412790.0\n",
       "1  France  Barley  1962       2176500.0  2.7581   6003010.0\n",
       "2  France  Barley  1963       2538500.0  2.9088   7384040.0\n",
       "3  France  Barley  1964       2360100.0  2.8774   6790980.0\n",
       "4  France  Barley  1965       2429800.0  3.0363   7377700.0"
      ]
     },
     "execution_count": 108,
     "metadata": {},
     "output_type": "execute_result"
    }
   ],
   "source": [
    "dfs.head()"
   ]
  },
  {
   "cell_type": "code",
   "execution_count": 109,
   "id": "9f3920d5",
   "metadata": {},
   "outputs": [
    {
     "name": "stdout",
     "output_type": "stream",
     "text": [
      "<class 'pandas.core.frame.DataFrame'>\n",
      "RangeIndex: 2040 entries, 0 to 2039\n",
      "Data columns (total 6 columns):\n",
      " #   Column          Non-Null Count  Dtype   \n",
      "---  ------          --------------  -----   \n",
      " 0   Area            2040 non-null   category\n",
      " 1   Item            2040 non-null   category\n",
      " 2   Year            2040 non-null   category\n",
      " 3   Area harvested  2040 non-null   float64 \n",
      " 4   Yield           2040 non-null   float64 \n",
      " 5   Production      2040 non-null   float64 \n",
      "dtypes: category(3), float64(3)\n",
      "memory usage: 56.9 KB\n"
     ]
    }
   ],
   "source": [
    "dfs.info()"
   ]
  },
  {
   "cell_type": "markdown",
   "id": "d9e7a1ff",
   "metadata": {},
   "source": [
    "### Sumarizarea datelor <a name=\"agg\"></a>"
   ]
  },
  {
   "cell_type": "markdown",
   "id": "e1c8f486",
   "metadata": {},
   "source": [
    "Metoda [pandas.DataFrame.describe()](https://pandas.pydata.org/docs/reference/api/pandas.DataFrame.describe.html) este o metoda de baza care permite obtinerea de statistici pentru fiecare coloana numerica de la nivelul unui set de date. Metoda este disponibila inclusiv la nivelul structurilor de date de tip Series, putand fi astfel aplicata si coloanelor dintr-o structura de date de tip DataFrame."
   ]
  },
  {
   "cell_type": "code",
   "execution_count": 110,
   "id": "9065fc88",
   "metadata": {
    "scrolled": true
   },
   "outputs": [
    {
     "data": {
      "text/html": [
       "<div>\n",
       "<style scoped>\n",
       "    .dataframe tbody tr th:only-of-type {\n",
       "        vertical-align: middle;\n",
       "    }\n",
       "\n",
       "    .dataframe tbody tr th {\n",
       "        vertical-align: top;\n",
       "    }\n",
       "\n",
       "    .dataframe thead th {\n",
       "        text-align: right;\n",
       "    }\n",
       "</style>\n",
       "<table border=\"1\" class=\"dataframe\">\n",
       "  <thead>\n",
       "    <tr style=\"text-align: right;\">\n",
       "      <th></th>\n",
       "      <th>Area harvested</th>\n",
       "      <th>Yield</th>\n",
       "      <th>Production</th>\n",
       "    </tr>\n",
       "  </thead>\n",
       "  <tbody>\n",
       "    <tr>\n",
       "      <th>count</th>\n",
       "      <td>2.040000e+03</td>\n",
       "      <td>2040.000000</td>\n",
       "      <td>2.040000e+03</td>\n",
       "    </tr>\n",
       "    <tr>\n",
       "      <th>mean</th>\n",
       "      <td>1.164921e+06</td>\n",
       "      <td>3.873381</td>\n",
       "      <td>4.595692e+06</td>\n",
       "    </tr>\n",
       "    <tr>\n",
       "      <th>std</th>\n",
       "      <td>1.267106e+06</td>\n",
       "      <td>2.146913</td>\n",
       "      <td>6.228652e+06</td>\n",
       "    </tr>\n",
       "    <tr>\n",
       "      <th>min</th>\n",
       "      <td>1.050000e+02</td>\n",
       "      <td>0.630900</td>\n",
       "      <td>2.530000e+02</td>\n",
       "    </tr>\n",
       "    <tr>\n",
       "      <th>25%</th>\n",
       "      <td>1.425782e+05</td>\n",
       "      <td>2.324350</td>\n",
       "      <td>3.815592e+05</td>\n",
       "    </tr>\n",
       "    <tr>\n",
       "      <th>50%</th>\n",
       "      <td>5.494190e+05</td>\n",
       "      <td>3.306750</td>\n",
       "      <td>2.346364e+06</td>\n",
       "    </tr>\n",
       "    <tr>\n",
       "      <th>75%</th>\n",
       "      <td>2.014325e+06</td>\n",
       "      <td>5.110150</td>\n",
       "      <td>6.831077e+06</td>\n",
       "    </tr>\n",
       "    <tr>\n",
       "      <th>max</th>\n",
       "      <td>5.542247e+06</td>\n",
       "      <td>12.258100</td>\n",
       "      <td>4.275003e+07</td>\n",
       "    </tr>\n",
       "  </tbody>\n",
       "</table>\n",
       "</div>"
      ],
      "text/plain": [
       "       Area harvested        Yield    Production\n",
       "count    2.040000e+03  2040.000000  2.040000e+03\n",
       "mean     1.164921e+06     3.873381  4.595692e+06\n",
       "std      1.267106e+06     2.146913  6.228652e+06\n",
       "min      1.050000e+02     0.630900  2.530000e+02\n",
       "25%      1.425782e+05     2.324350  3.815592e+05\n",
       "50%      5.494190e+05     3.306750  2.346364e+06\n",
       "75%      2.014325e+06     5.110150  6.831077e+06\n",
       "max      5.542247e+06    12.258100  4.275003e+07"
      ]
     },
     "execution_count": 110,
     "metadata": {},
     "output_type": "execute_result"
    }
   ],
   "source": [
    "dfs.describe()"
   ]
  },
  {
   "cell_type": "markdown",
   "id": "0f7ab3f3",
   "metadata": {},
   "source": [
    "Din rezultatul aplicarii metodei [pandas.DataFrame.describe()](https://pandas.pydata.org/docs/reference/api/pandas.DataFrame.describe.html) putem observa faptul ca numarul de valori nenule de la nivelul setului de date este 2040, randamentul mediu al culturilor are valoarea de 3.87 tone/ha cu o abatere standard de 2.15, productia minima este 253 tone, in timp ce suprafata maxima cultivata este 5542247 ha. Deasemenea, rezultatul anterior furnizeaza si valorile corespunzatoare percentilelor. Astfel, 25% din randamentele culturilor sunt sub 2.32 tone/ha, 50% din culturi prezinta un randament sub 3.31 tone/ha si 75% sunt sub 5.11 tone/ha."
   ]
  },
  {
   "cell_type": "code",
   "execution_count": 111,
   "id": "4dcddb67",
   "metadata": {},
   "outputs": [
    {
     "data": {
      "text/plain": [
       "count    2040.000000\n",
       "mean        3.873381\n",
       "std         2.146913\n",
       "min         0.630900\n",
       "25%         2.324350\n",
       "50%         3.306750\n",
       "75%         5.110150\n",
       "max        12.258100\n",
       "Name: Yield, dtype: float64"
      ]
     },
     "execution_count": 111,
     "metadata": {},
     "output_type": "execute_result"
    }
   ],
   "source": [
    "dfs['Yield'].describe()"
   ]
  },
  {
   "cell_type": "markdown",
   "id": "0c26220a",
   "metadata": {},
   "source": [
    "In mod similar metodelor describe() prezentate anterior, biblioteca Pandas introduce pentru structurile de date de tip DataFrame si Series posibilitatea implementarii unor calcule statistice. De exemplu, putem calcula foarte simplu media, abaterea standard, valorile minime si maxime, numarul de valori nenule sau numarul de valori nenule unice."
   ]
  },
  {
   "cell_type": "code",
   "execution_count": 112,
   "id": "77b88513",
   "metadata": {},
   "outputs": [
    {
     "data": {
      "text/plain": [
       "Area              2040\n",
       "Item              2040\n",
       "Year              2040\n",
       "Area harvested    2040\n",
       "Yield             2040\n",
       "Production        2040\n",
       "dtype: int64"
      ]
     },
     "execution_count": 112,
     "metadata": {},
     "output_type": "execute_result"
    }
   ],
   "source": [
    "dfs.count()"
   ]
  },
  {
   "cell_type": "code",
   "execution_count": 113,
   "id": "80de7b9b",
   "metadata": {},
   "outputs": [
    {
     "data": {
      "text/plain": [
       "np.int64(2040)"
      ]
     },
     "execution_count": 113,
     "metadata": {},
     "output_type": "execute_result"
    }
   ],
   "source": [
    "# numarul de valori nenule de la nivelul coloanei Area\n",
    "\n",
    "dfs['Area'].count()"
   ]
  },
  {
   "cell_type": "code",
   "execution_count": 114,
   "id": "f763e34f",
   "metadata": {},
   "outputs": [
    {
     "data": {
      "text/plain": [
       "6"
      ]
     },
     "execution_count": 114,
     "metadata": {},
     "output_type": "execute_result"
    }
   ],
   "source": [
    "# numarul de valori nenule unice de la nivelul coloanei Area\n",
    "\n",
    "dfs['Area'].nunique()"
   ]
  },
  {
   "cell_type": "code",
   "execution_count": 115,
   "id": "899db03b",
   "metadata": {},
   "outputs": [
    {
     "data": {
      "text/plain": [
       "np.float64(3.873380735294117)"
      ]
     },
     "execution_count": 115,
     "metadata": {},
     "output_type": "execute_result"
    }
   ],
   "source": [
    "# media valorilor de la nivelul coloanei Yield\n",
    "\n",
    "dfs['Yield'].mean()"
   ]
  },
  {
   "cell_type": "code",
   "execution_count": 116,
   "id": "c6c27f48",
   "metadata": {},
   "outputs": [
    {
     "data": {
      "text/plain": [
       "np.float64(2.146912888029027)"
      ]
     },
     "execution_count": 116,
     "metadata": {},
     "output_type": "execute_result"
    }
   ],
   "source": [
    "# abaterea standard a valorilor de la nivelul coloanei Yield\n",
    "\n",
    "dfs['Yield'].std()"
   ]
  },
  {
   "cell_type": "code",
   "execution_count": 117,
   "id": "d5f1db49",
   "metadata": {},
   "outputs": [
    {
     "data": {
      "text/plain": [
       "(np.float64(253.0), np.float64(42750027.0))"
      ]
     },
     "execution_count": 117,
     "metadata": {},
     "output_type": "execute_result"
    }
   ],
   "source": [
    "# valorile minima si maxima de la nivelui coloanei Production\n",
    "\n",
    "dfs['Production'].min(), dfs['Production'].max()"
   ]
  },
  {
   "cell_type": "markdown",
   "id": "76035b34",
   "metadata": {},
   "source": [
    "### Gruparea datelor <a name=\"group\"></a>"
   ]
  },
  {
   "cell_type": "markdown",
   "id": "9ece0aef",
   "metadata": {},
   "source": [
    "O operatie de grupare este o functionalitate prezenta la nivelul sistemelor de date care implica realizarea urmatorilor pasi:\n",
    "* impartirea datelor de la nivelul unei structuri de date pe baza unei conditii;\n",
    "* aplicarea uneia sau mai multor functii pentru fiecare grup obtinut la pasul precedent;\n",
    "* combinarea rezultatelor obtinute dupa aplicarea functiilor la nivelul grupurilor de date intr-o singura structura de date."
   ]
  },
  {
   "cell_type": "markdown",
   "id": "ff33bf4d",
   "metadata": {},
   "source": [
    "In Pandas, operatiile de grupare pot fi implementate pentru structurile da date de tip DataFrame prin intermediul metodei [pandas.DataFrame.groupby()](https://pandas.pydata.org/docs/reference/api/pandas.DataFrame.groupby.html), metoda care prezinta urmatoarea sintaxa de baza:"
   ]
  },
  {
   "cell_type": "markdown",
   "id": "f7fa9913",
   "metadata": {},
   "source": [
    "<pre>pandas.DataFrame.groupby(\n",
    "    by=None, \n",
    "    as_index=True, \n",
    "    sort=True\n",
    ")</pre>"
   ]
  },
  {
   "cell_type": "markdown",
   "id": "8e24154c",
   "metadata": {},
   "source": [
    "Metoda [pandas.DataFrame.groupby()](https://pandas.pydata.org/docs/reference/api/pandas.DataFrame.groupby.html) returneaza un obiect de tip DataFrameGroupBy, care contine informatii cu privire la grupurile de date."
   ]
  },
  {
   "cell_type": "code",
   "execution_count": null,
   "id": "37bdf504",
   "metadata": {},
   "outputs": [
    {
     "data": {
      "text/plain": [
       "<pandas.core.groupby.generic.DataFrameGroupBy object at 0x00000231F6CBC590>"
      ]
     },
     "execution_count": 129,
     "metadata": {},
     "output_type": "execute_result"
    }
   ],
   "source": [
    "dfs.groupby(by=['Area'], observed=True)"
   ]
  },
  {
   "cell_type": "code",
   "execution_count": 119,
   "id": "0bca47ae",
   "metadata": {},
   "outputs": [
    {
     "data": {
      "text/plain": [
       "dict_keys(['France', 'Germany', 'Italy', 'Poland', 'Romania', 'Spain'])"
      ]
     },
     "execution_count": 119,
     "metadata": {},
     "output_type": "execute_result"
    }
   ],
   "source": [
    "dfs.groupby(['Area'], observed=True).groups.keys()"
   ]
  },
  {
   "cell_type": "markdown",
   "id": "316a206f",
   "metadata": {},
   "source": [
    "* by: parametrul se utilizeaza pentru a stabili grupurile; gruparea poate fi realizata pe baza unei etichete, <i>Area</i> in exemplul urmator, o lista de etichete (<i>Area, Item</i>), sau chiar o functie, caz in care aceasta este apelata pentru fiecare valoare a indicelui obiectului;"
   ]
  },
  {
   "cell_type": "markdown",
   "id": "721fd8b2",
   "metadata": {},
   "source": [
    "Grupam inregistrarile din setul de date dfs pe baza cheii <i>Area</i>, de-a lungul inregistrarilor. In felul acesta obtinem cate un grup pentru fiecare stat; fiecare grup va contine toate inregistrarile (raportarile) corespunzatoare perioadei 1961-2020 de la nivelul unui stat. Calculam numarul de inregistrari din fiecare grup prin intermediul functiei de sumarizare <i>count()</i>."
   ]
  },
  {
   "cell_type": "code",
   "execution_count": 120,
   "id": "3cdaf6a2",
   "metadata": {},
   "outputs": [
    {
     "data": {
      "text/plain": [
       "Area\n",
       "France     360\n",
       "Germany    300\n",
       "Italy      360\n",
       "Poland     300\n",
       "Romania    360\n",
       "Spain      360\n",
       "Name: Area, dtype: int64"
      ]
     },
     "execution_count": 120,
     "metadata": {},
     "output_type": "execute_result"
    }
   ],
   "source": [
    "# numarul de inregistrari (raportari) disponibile pentru fiecare stat\n",
    "\n",
    "dfs.groupby('Area', observed=True)['Area'].count()"
   ]
  },
  {
   "cell_type": "markdown",
   "id": "3cb7bf74",
   "metadata": {},
   "source": [
    "* axis: impartirea datelor se realizeaza de-a lungul inregistrarilor (<i>0, index</i>) sau de-a lungul coloanelor (<i>1, columns</i>); parametrul axis detine implicit valoarea 0;"
   ]
  },
  {
   "cell_type": "code",
   "execution_count": 121,
   "id": "1ec93751",
   "metadata": {},
   "outputs": [
    {
     "data": {
      "text/html": [
       "<div>\n",
       "<style scoped>\n",
       "    .dataframe tbody tr th:only-of-type {\n",
       "        vertical-align: middle;\n",
       "    }\n",
       "\n",
       "    .dataframe tbody tr th {\n",
       "        vertical-align: top;\n",
       "    }\n",
       "\n",
       "    .dataframe thead th {\n",
       "        text-align: right;\n",
       "    }\n",
       "</style>\n",
       "<table border=\"1\" class=\"dataframe\">\n",
       "  <thead>\n",
       "    <tr style=\"text-align: right;\">\n",
       "      <th></th>\n",
       "      <th></th>\n",
       "      <th>Area harvested</th>\n",
       "      <th>Yield</th>\n",
       "      <th>Production</th>\n",
       "    </tr>\n",
       "    <tr>\n",
       "      <th>Area</th>\n",
       "      <th>Item</th>\n",
       "      <th></th>\n",
       "      <th></th>\n",
       "      <th></th>\n",
       "    </tr>\n",
       "  </thead>\n",
       "  <tbody>\n",
       "    <tr>\n",
       "      <th rowspan=\"6\" valign=\"top\">France</th>\n",
       "      <th>Barley</th>\n",
       "      <td>2936000.0</td>\n",
       "      <td>7.1237</td>\n",
       "      <td>13565420.0</td>\n",
       "    </tr>\n",
       "    <tr>\n",
       "      <th>Maize</th>\n",
       "      <td>2020100.0</td>\n",
       "      <td>10.1239</td>\n",
       "      <td>18343320.0</td>\n",
       "    </tr>\n",
       "    <tr>\n",
       "      <th>Oats</th>\n",
       "      <td>1441170.0</td>\n",
       "      <td>5.0212</td>\n",
       "      <td>2875980.0</td>\n",
       "    </tr>\n",
       "    <tr>\n",
       "      <th>Rice, paddy</th>\n",
       "      <td>33000.0</td>\n",
       "      <td>6.0915</td>\n",
       "      <td>137132.0</td>\n",
       "    </tr>\n",
       "    <tr>\n",
       "      <th>Rye</th>\n",
       "      <td>261200.0</td>\n",
       "      <td>5.1804</td>\n",
       "      <td>455000.0</td>\n",
       "    </tr>\n",
       "    <tr>\n",
       "      <th>Wheat</th>\n",
       "      <td>5542247.0</td>\n",
       "      <td>7.8008</td>\n",
       "      <td>42750027.0</td>\n",
       "    </tr>\n",
       "    <tr>\n",
       "      <th rowspan=\"5\" valign=\"top\">Germany</th>\n",
       "      <th>Barley</th>\n",
       "      <td>3008345.0</td>\n",
       "      <td>7.3475</td>\n",
       "      <td>14493757.0</td>\n",
       "    </tr>\n",
       "    <tr>\n",
       "      <th>Maize</th>\n",
       "      <td>526200.0</td>\n",
       "      <td>10.6838</td>\n",
       "      <td>5514700.0</td>\n",
       "    </tr>\n",
       "    <tr>\n",
       "      <th>Oats</th>\n",
       "      <td>1177606.0</td>\n",
       "      <td>5.3198</td>\n",
       "      <td>4404027.0</td>\n",
       "    </tr>\n",
       "    <tr>\n",
       "      <th>Rye</th>\n",
       "      <td>2008314.0</td>\n",
       "      <td>6.1320</td>\n",
       "      <td>5499179.0</td>\n",
       "    </tr>\n",
       "    <tr>\n",
       "      <th>Wheat</th>\n",
       "      <td>3297699.0</td>\n",
       "      <td>8.6296</td>\n",
       "      <td>27784700.0</td>\n",
       "    </tr>\n",
       "    <tr>\n",
       "      <th rowspan=\"6\" valign=\"top\">Italy</th>\n",
       "      <th>Barley</th>\n",
       "      <td>471717.0</td>\n",
       "      <td>4.2658</td>\n",
       "      <td>1792900.0</td>\n",
       "    </tr>\n",
       "    <tr>\n",
       "      <th>Maize</th>\n",
       "      <td>1197001.0</td>\n",
       "      <td>11.2682</td>\n",
       "      <td>11368007.0</td>\n",
       "    </tr>\n",
       "    <tr>\n",
       "      <th>Oats</th>\n",
       "      <td>428422.0</td>\n",
       "      <td>2.5896</td>\n",
       "      <td>597200.0</td>\n",
       "    </tr>\n",
       "    <tr>\n",
       "      <th>Rice, paddy</th>\n",
       "      <td>247700.0</td>\n",
       "      <td>6.8253</td>\n",
       "      <td>1620400.0</td>\n",
       "    </tr>\n",
       "    <tr>\n",
       "      <th>Rye</th>\n",
       "      <td>59649.0</td>\n",
       "      <td>3.3017</td>\n",
       "      <td>95900.0</td>\n",
       "    </tr>\n",
       "    <tr>\n",
       "      <th>Wheat</th>\n",
       "      <td>4555528.0</td>\n",
       "      <td>4.2030</td>\n",
       "      <td>10057300.0</td>\n",
       "    </tr>\n",
       "    <tr>\n",
       "      <th rowspan=\"5\" valign=\"top\">Poland</th>\n",
       "      <th>Barley</th>\n",
       "      <td>1469794.0</td>\n",
       "      <td>4.3609</td>\n",
       "      <td>4411842.0</td>\n",
       "    </tr>\n",
       "    <tr>\n",
       "      <th>Maize</th>\n",
       "      <td>946060.0</td>\n",
       "      <td>7.3481</td>\n",
       "      <td>6694650.0</td>\n",
       "    </tr>\n",
       "    <tr>\n",
       "      <th>Oats</th>\n",
       "      <td>1682000.0</td>\n",
       "      <td>3.2535</td>\n",
       "      <td>3244000.0</td>\n",
       "    </tr>\n",
       "    <tr>\n",
       "      <th>Rye</th>\n",
       "      <td>4880000.0</td>\n",
       "      <td>3.4431</td>\n",
       "      <td>9540277.0</td>\n",
       "    </tr>\n",
       "    <tr>\n",
       "      <th>Wheat</th>\n",
       "      <td>2635097.0</td>\n",
       "      <td>5.2388</td>\n",
       "      <td>12433210.0</td>\n",
       "    </tr>\n",
       "    <tr>\n",
       "      <th rowspan=\"6\" valign=\"top\">Romania</th>\n",
       "      <th>Barley</th>\n",
       "      <td>1017736.0</td>\n",
       "      <td>4.4755</td>\n",
       "      <td>3436300.0</td>\n",
       "    </tr>\n",
       "    <tr>\n",
       "      <th>Maize</th>\n",
       "      <td>3428400.0</td>\n",
       "      <td>7.6368</td>\n",
       "      <td>18663940.0</td>\n",
       "    </tr>\n",
       "    <tr>\n",
       "      <th>Oats</th>\n",
       "      <td>364451.0</td>\n",
       "      <td>2.4633</td>\n",
       "      <td>553557.0</td>\n",
       "    </tr>\n",
       "    <tr>\n",
       "      <th>Rice, paddy</th>\n",
       "      <td>49300.0</td>\n",
       "      <td>5.4262</td>\n",
       "      <td>152600.0</td>\n",
       "    </tr>\n",
       "    <tr>\n",
       "      <th>Rye</th>\n",
       "      <td>102211.0</td>\n",
       "      <td>3.0000</td>\n",
       "      <td>124936.0</td>\n",
       "    </tr>\n",
       "    <tr>\n",
       "      <th>Wheat</th>\n",
       "      <td>3042600.0</td>\n",
       "      <td>4.8911</td>\n",
       "      <td>10297110.0</td>\n",
       "    </tr>\n",
       "    <tr>\n",
       "      <th rowspan=\"6\" valign=\"top\">Spain</th>\n",
       "      <th>Barley</th>\n",
       "      <td>4412800.0</td>\n",
       "      <td>4.1707</td>\n",
       "      <td>12070000.0</td>\n",
       "    </tr>\n",
       "    <tr>\n",
       "      <th>Maize</th>\n",
       "      <td>556100.0</td>\n",
       "      <td>12.2581</td>\n",
       "      <td>4981901.0</td>\n",
       "    </tr>\n",
       "    <tr>\n",
       "      <th>Oats</th>\n",
       "      <td>582900.0</td>\n",
       "      <td>2.7807</td>\n",
       "      <td>1547460.0</td>\n",
       "    </tr>\n",
       "    <tr>\n",
       "      <th>Rice, paddy</th>\n",
       "      <td>122632.0</td>\n",
       "      <td>7.9739</td>\n",
       "      <td>927817.0</td>\n",
       "    </tr>\n",
       "    <tr>\n",
       "      <th>Rye</th>\n",
       "      <td>486240.0</td>\n",
       "      <td>2.9672</td>\n",
       "      <td>452700.0</td>\n",
       "    </tr>\n",
       "    <tr>\n",
       "      <th>Wheat</th>\n",
       "      <td>4263000.0</td>\n",
       "      <td>4.2532</td>\n",
       "      <td>8322510.0</td>\n",
       "    </tr>\n",
       "  </tbody>\n",
       "</table>\n",
       "</div>"
      ],
      "text/plain": [
       "                     Area harvested    Yield  Production\n",
       "Area    Item                                            \n",
       "France  Barley            2936000.0   7.1237  13565420.0\n",
       "        Maize             2020100.0  10.1239  18343320.0\n",
       "        Oats              1441170.0   5.0212   2875980.0\n",
       "        Rice, paddy         33000.0   6.0915    137132.0\n",
       "        Rye                261200.0   5.1804    455000.0\n",
       "        Wheat             5542247.0   7.8008  42750027.0\n",
       "Germany Barley            3008345.0   7.3475  14493757.0\n",
       "        Maize              526200.0  10.6838   5514700.0\n",
       "        Oats              1177606.0   5.3198   4404027.0\n",
       "        Rye               2008314.0   6.1320   5499179.0\n",
       "        Wheat             3297699.0   8.6296  27784700.0\n",
       "Italy   Barley             471717.0   4.2658   1792900.0\n",
       "        Maize             1197001.0  11.2682  11368007.0\n",
       "        Oats               428422.0   2.5896    597200.0\n",
       "        Rice, paddy        247700.0   6.8253   1620400.0\n",
       "        Rye                 59649.0   3.3017     95900.0\n",
       "        Wheat             4555528.0   4.2030  10057300.0\n",
       "Poland  Barley            1469794.0   4.3609   4411842.0\n",
       "        Maize              946060.0   7.3481   6694650.0\n",
       "        Oats              1682000.0   3.2535   3244000.0\n",
       "        Rye               4880000.0   3.4431   9540277.0\n",
       "        Wheat             2635097.0   5.2388  12433210.0\n",
       "Romania Barley            1017736.0   4.4755   3436300.0\n",
       "        Maize             3428400.0   7.6368  18663940.0\n",
       "        Oats               364451.0   2.4633    553557.0\n",
       "        Rice, paddy         49300.0   5.4262    152600.0\n",
       "        Rye                102211.0   3.0000    124936.0\n",
       "        Wheat             3042600.0   4.8911  10297110.0\n",
       "Spain   Barley            4412800.0   4.1707  12070000.0\n",
       "        Maize              556100.0  12.2581   4981901.0\n",
       "        Oats               582900.0   2.7807   1547460.0\n",
       "        Rice, paddy        122632.0   7.9739    927817.0\n",
       "        Rye                486240.0   2.9672    452700.0\n",
       "        Wheat             4263000.0   4.2532   8322510.0"
      ]
     },
     "execution_count": 121,
     "metadata": {},
     "output_type": "execute_result"
    }
   ],
   "source": [
    "# valorile maxime de la nivelul coloanelor Area harvaster, Yield si Production pentru fiecare stat si tip de cultura\n",
    "\n",
    "dfs.groupby(['Area', 'Item'], observed=True)[['Area harvested', 'Yield', 'Production']].max()"
   ]
  },
  {
   "cell_type": "markdown",
   "id": "c24bd3c7",
   "metadata": {},
   "source": [
    "* as_index: implicit detine valoare True si in cazul rezultatelor agregate returneaza obiectul cu etichetele grupurilor ca si index; daca parametrul prezinta valoare False, rezultatul este similar cu cele obtinute prin gruparea detelor din cadrul sistemelor de tip SQL;"
   ]
  },
  {
   "cell_type": "code",
   "execution_count": 122,
   "id": "9742421a",
   "metadata": {},
   "outputs": [
    {
     "data": {
      "text/html": [
       "<div>\n",
       "<style scoped>\n",
       "    .dataframe tbody tr th:only-of-type {\n",
       "        vertical-align: middle;\n",
       "    }\n",
       "\n",
       "    .dataframe tbody tr th {\n",
       "        vertical-align: top;\n",
       "    }\n",
       "\n",
       "    .dataframe thead th {\n",
       "        text-align: right;\n",
       "    }\n",
       "</style>\n",
       "<table border=\"1\" class=\"dataframe\">\n",
       "  <thead>\n",
       "    <tr style=\"text-align: right;\">\n",
       "      <th></th>\n",
       "      <th>Item</th>\n",
       "      <th>Yield</th>\n",
       "    </tr>\n",
       "  </thead>\n",
       "  <tbody>\n",
       "    <tr>\n",
       "      <th>0</th>\n",
       "      <td>Barley</td>\n",
       "      <td>1.2026</td>\n",
       "    </tr>\n",
       "    <tr>\n",
       "      <th>1</th>\n",
       "      <td>Maize</td>\n",
       "      <td>1.5876</td>\n",
       "    </tr>\n",
       "    <tr>\n",
       "      <th>2</th>\n",
       "      <td>Oats</td>\n",
       "      <td>0.6309</td>\n",
       "    </tr>\n",
       "    <tr>\n",
       "      <th>3</th>\n",
       "      <td>Rice, paddy</td>\n",
       "      <td>1.2632</td>\n",
       "    </tr>\n",
       "    <tr>\n",
       "      <th>4</th>\n",
       "      <td>Rye</td>\n",
       "      <td>0.7240</td>\n",
       "    </tr>\n",
       "    <tr>\n",
       "      <th>5</th>\n",
       "      <td>Wheat</td>\n",
       "      <td>0.8837</td>\n",
       "    </tr>\n",
       "  </tbody>\n",
       "</table>\n",
       "</div>"
      ],
      "text/plain": [
       "          Item   Yield\n",
       "0       Barley  1.2026\n",
       "1        Maize  1.5876\n",
       "2         Oats  0.6309\n",
       "3  Rice, paddy  1.2632\n",
       "4          Rye  0.7240\n",
       "5        Wheat  0.8837"
      ]
     },
     "execution_count": 122,
     "metadata": {},
     "output_type": "execute_result"
    }
   ],
   "source": [
    "# randamentele minime pentru fiecare tip de cultura\n",
    "\n",
    "dfs.groupby(['Item'], as_index=False, observed=True)[['Yield']].min()"
   ]
  },
  {
   "cell_type": "markdown",
   "id": "f3a39449",
   "metadata": {},
   "source": [
    "Rezultatul operatiei de grupare va detine un index sau un multi-index care corespunde cheilor pe baza carora se realizeaza gruparea. Pentru a evita stabilirea acestui index este necesara transmiterea parametrului as_index cu valoarea False. "
   ]
  },
  {
   "cell_type": "code",
   "execution_count": 123,
   "id": "ece53244",
   "metadata": {},
   "outputs": [
    {
     "data": {
      "text/html": [
       "<div>\n",
       "<style scoped>\n",
       "    .dataframe tbody tr th:only-of-type {\n",
       "        vertical-align: middle;\n",
       "    }\n",
       "\n",
       "    .dataframe tbody tr th {\n",
       "        vertical-align: top;\n",
       "    }\n",
       "\n",
       "    .dataframe thead tr th {\n",
       "        text-align: left;\n",
       "    }\n",
       "</style>\n",
       "<table border=\"1\" class=\"dataframe\">\n",
       "  <thead>\n",
       "    <tr>\n",
       "      <th></th>\n",
       "      <th>Item</th>\n",
       "      <th colspan=\"3\" halign=\"left\">Area harvested</th>\n",
       "      <th colspan=\"3\" halign=\"left\">Yield</th>\n",
       "      <th colspan=\"3\" halign=\"left\">Production</th>\n",
       "    </tr>\n",
       "    <tr>\n",
       "      <th></th>\n",
       "      <th></th>\n",
       "      <th>mean</th>\n",
       "      <th>max</th>\n",
       "      <th>min</th>\n",
       "      <th>mean</th>\n",
       "      <th>max</th>\n",
       "      <th>min</th>\n",
       "      <th>mean</th>\n",
       "      <th>max</th>\n",
       "      <th>min</th>\n",
       "    </tr>\n",
       "  </thead>\n",
       "  <tbody>\n",
       "    <tr>\n",
       "      <th>0</th>\n",
       "      <td>Barley</td>\n",
       "      <td>1.525756e+06</td>\n",
       "      <td>4412800.0</td>\n",
       "      <td>175080.0</td>\n",
       "      <td>3.523864</td>\n",
       "      <td>7.3475</td>\n",
       "      <td>1.2026</td>\n",
       "      <td>5.559067e+06</td>\n",
       "      <td>14493757.0</td>\n",
       "      <td>251500.0</td>\n",
       "    </tr>\n",
       "    <tr>\n",
       "      <th>1</th>\n",
       "      <td>Maize</td>\n",
       "      <td>1.058935e+06</td>\n",
       "      <td>3428400.0</td>\n",
       "      <td>3500.0</td>\n",
       "      <td>6.048932</td>\n",
       "      <td>12.2581</td>\n",
       "      <td>1.5876</td>\n",
       "      <td>5.618298e+06</td>\n",
       "      <td>18663940.0</td>\n",
       "      <td>10000.0</td>\n",
       "    </tr>\n",
       "    <tr>\n",
       "      <th>2</th>\n",
       "      <td>Oats</td>\n",
       "      <td>4.449962e+05</td>\n",
       "      <td>1682000.0</td>\n",
       "      <td>44700.0</td>\n",
       "      <td>2.532604</td>\n",
       "      <td>5.3198</td>\n",
       "      <td>0.6309</td>\n",
       "      <td>1.114965e+06</td>\n",
       "      <td>4404027.0</td>\n",
       "      <td>46977.0</td>\n",
       "    </tr>\n",
       "    <tr>\n",
       "      <th>3</th>\n",
       "      <td>Rice, paddy</td>\n",
       "      <td>7.987157e+04</td>\n",
       "      <td>247700.0</td>\n",
       "      <td>105.0</td>\n",
       "      <td>5.075601</td>\n",
       "      <td>7.9739</td>\n",
       "      <td>1.2632</td>\n",
       "      <td>4.707646e+05</td>\n",
       "      <td>1620400.0</td>\n",
       "      <td>253.0</td>\n",
       "    </tr>\n",
       "    <tr>\n",
       "      <th>4</th>\n",
       "      <td>Rye</td>\n",
       "      <td>6.488045e+05</td>\n",
       "      <td>4880000.0</td>\n",
       "      <td>2654.0</td>\n",
       "      <td>2.634906</td>\n",
       "      <td>6.1320</td>\n",
       "      <td>0.7240</td>\n",
       "      <td>1.668523e+06</td>\n",
       "      <td>9540277.0</td>\n",
       "      <td>6940.0</td>\n",
       "    </tr>\n",
       "    <tr>\n",
       "      <th>5</th>\n",
       "      <td>Wheat</td>\n",
       "      <td>2.869478e+06</td>\n",
       "      <td>5542247.0</td>\n",
       "      <td>1393000.0</td>\n",
       "      <td>3.825118</td>\n",
       "      <td>8.6296</td>\n",
       "      <td>0.8837</td>\n",
       "      <td>1.176756e+07</td>\n",
       "      <td>42750027.0</td>\n",
       "      <td>2479052.0</td>\n",
       "    </tr>\n",
       "  </tbody>\n",
       "</table>\n",
       "</div>"
      ],
      "text/plain": [
       "          Item Area harvested                           Yield           \\\n",
       "                         mean        max        min      mean      max   \n",
       "0       Barley   1.525756e+06  4412800.0   175080.0  3.523864   7.3475   \n",
       "1        Maize   1.058935e+06  3428400.0     3500.0  6.048932  12.2581   \n",
       "2         Oats   4.449962e+05  1682000.0    44700.0  2.532604   5.3198   \n",
       "3  Rice, paddy   7.987157e+04   247700.0      105.0  5.075601   7.9739   \n",
       "4          Rye   6.488045e+05  4880000.0     2654.0  2.634906   6.1320   \n",
       "5        Wheat   2.869478e+06  5542247.0  1393000.0  3.825118   8.6296   \n",
       "\n",
       "             Production                         \n",
       "      min          mean         max        min  \n",
       "0  1.2026  5.559067e+06  14493757.0   251500.0  \n",
       "1  1.5876  5.618298e+06  18663940.0    10000.0  \n",
       "2  0.6309  1.114965e+06   4404027.0    46977.0  \n",
       "3  1.2632  4.707646e+05   1620400.0      253.0  \n",
       "4  0.7240  1.668523e+06   9540277.0     6940.0  \n",
       "5  0.8837  1.176756e+07  42750027.0  2479052.0  "
      ]
     },
     "execution_count": 123,
     "metadata": {},
     "output_type": "execute_result"
    }
   ],
   "source": [
    "# randamentele medii, maxime si minime pentru fiecare tip de cultura\n",
    "\n",
    "dfs.groupby(['Item'], as_index=False, observed=True).aggregate(\n",
    "    {\n",
    "        'Area harvested': ['mean', 'max', 'min'],\n",
    "        'Yield': ['mean', 'max', 'min'],\n",
    "        'Production': ['mean', 'max', 'min']\n",
    "    }\n",
    ")"
   ]
  },
  {
   "cell_type": "markdown",
   "id": "889a09d3",
   "metadata": {},
   "source": [
    "In implementarea precedenta poate fi observata si aplicarea mai multor functii de sumarizare pentru coloane de la nivelul datelor grupate, prin transmiterea unei liste de functii in metoda [pandas.core.groupby.DataFrameGroupBy.aggregate()](https://pandas.pydata.org/docs/reference/api/pandas.core.groupby.DataFrameGroupBy.aggregate.html)."
   ]
  },
  {
   "cell_type": "code",
   "execution_count": 124,
   "id": "39d6fd32",
   "metadata": {},
   "outputs": [
    {
     "data": {
      "text/html": [
       "<div>\n",
       "<style scoped>\n",
       "    .dataframe tbody tr th:only-of-type {\n",
       "        vertical-align: middle;\n",
       "    }\n",
       "\n",
       "    .dataframe tbody tr th {\n",
       "        vertical-align: top;\n",
       "    }\n",
       "\n",
       "    .dataframe thead tr th {\n",
       "        text-align: left;\n",
       "    }\n",
       "</style>\n",
       "<table border=\"1\" class=\"dataframe\">\n",
       "  <thead>\n",
       "    <tr>\n",
       "      <th></th>\n",
       "      <th>Area</th>\n",
       "      <th>Yield</th>\n",
       "      <th colspan=\"2\" halign=\"left\">Production</th>\n",
       "    </tr>\n",
       "    <tr>\n",
       "      <th></th>\n",
       "      <th></th>\n",
       "      <th>max</th>\n",
       "      <th>min</th>\n",
       "      <th>max</th>\n",
       "    </tr>\n",
       "  </thead>\n",
       "  <tbody>\n",
       "    <tr>\n",
       "      <th>0</th>\n",
       "      <td>France</td>\n",
       "      <td>10.1239</td>\n",
       "      <td>20100.0</td>\n",
       "      <td>42750027.0</td>\n",
       "    </tr>\n",
       "    <tr>\n",
       "      <th>1</th>\n",
       "      <td>Germany</td>\n",
       "      <td>10.6838</td>\n",
       "      <td>26151.0</td>\n",
       "      <td>27784700.0</td>\n",
       "    </tr>\n",
       "    <tr>\n",
       "      <th>2</th>\n",
       "      <td>Italy</td>\n",
       "      <td>11.2682</td>\n",
       "      <td>6940.0</td>\n",
       "      <td>11368007.0</td>\n",
       "    </tr>\n",
       "    <tr>\n",
       "      <th>3</th>\n",
       "      <td>Poland</td>\n",
       "      <td>7.3481</td>\n",
       "      <td>10000.0</td>\n",
       "      <td>12433210.0</td>\n",
       "    </tr>\n",
       "    <tr>\n",
       "      <th>4</th>\n",
       "      <td>Romania</td>\n",
       "      <td>7.6368</td>\n",
       "      <td>253.0</td>\n",
       "      <td>18663940.0</td>\n",
       "    </tr>\n",
       "    <tr>\n",
       "      <th>5</th>\n",
       "      <td>Spain</td>\n",
       "      <td>12.2581</td>\n",
       "      <td>101452.0</td>\n",
       "      <td>12070000.0</td>\n",
       "    </tr>\n",
       "  </tbody>\n",
       "</table>\n",
       "</div>"
      ],
      "text/plain": [
       "      Area    Yield Production            \n",
       "                max        min         max\n",
       "0   France  10.1239    20100.0  42750027.0\n",
       "1  Germany  10.6838    26151.0  27784700.0\n",
       "2    Italy  11.2682     6940.0  11368007.0\n",
       "3   Poland   7.3481    10000.0  12433210.0\n",
       "4  Romania   7.6368      253.0  18663940.0\n",
       "5    Spain  12.2581   101452.0  12070000.0"
      ]
     },
     "execution_count": 124,
     "metadata": {},
     "output_type": "execute_result"
    }
   ],
   "source": [
    "# randamentele maxim, precum si productiile minima si maxima de la nivelul fiecarui stat\n",
    "\n",
    "dfs.groupby(\n",
    "    ['Area'], as_index=False, observed=True\n",
    ").agg(\n",
    "    {\n",
    "        'Yield': 'max',\n",
    "        'Production':['min', 'max']\n",
    "    }\n",
    ")"
   ]
  },
  {
   "cell_type": "markdown",
   "id": "5539092a",
   "metadata": {},
   "source": [
    "* sort: implicit detine valoarea True, caz in care cheile dupa care se realizeaza gruparea sunt sortate; se recomanda trecerea parametrului sort la valoarea False pentru a obtine timpi de rulare mai mici;"
   ]
  },
  {
   "cell_type": "code",
   "execution_count": 125,
   "id": "8c12698f",
   "metadata": {},
   "outputs": [
    {
     "data": {
      "text/plain": [
       "Area\n",
       "France     42750027.0\n",
       "Germany    27784700.0\n",
       "Italy      10057300.0\n",
       "Poland     12433210.0\n",
       "Romania    10297110.0\n",
       "Spain       8322510.0\n",
       "Name: Production, dtype: float64"
      ]
     },
     "execution_count": 125,
     "metadata": {},
     "output_type": "execute_result"
    }
   ],
   "source": [
    "# valoarea maxima a productiei (Production) din fiecare stat pentru cultura de grau (Wheat) \n",
    "\n",
    "dfs.loc[dfs['Item']=='Wheat'].groupby(['Area'], sort=True, observed=True)['Production'].max()"
   ]
  },
  {
   "cell_type": "markdown",
   "id": "7cc2b566",
   "metadata": {},
   "source": [
    "Trebuie punctat faptul ca operatia de grupare va pastra totusi ordinea in care sunt sortate observatiile in cadrul fiecarui grup. De exemplu, inregistrarile de la nivelul grupurilor create prin intermediul operatiei de mai sus sunt pastrate in ordinea in care ele erau disponibile in structura de date de tip DataFrame initiala."
   ]
  },
  {
   "cell_type": "code",
   "execution_count": 126,
   "id": "6ea98f02",
   "metadata": {},
   "outputs": [
    {
     "data": {
      "text/html": [
       "<div>\n",
       "<style scoped>\n",
       "    .dataframe tbody tr th:only-of-type {\n",
       "        vertical-align: middle;\n",
       "    }\n",
       "\n",
       "    .dataframe tbody tr th {\n",
       "        vertical-align: top;\n",
       "    }\n",
       "\n",
       "    .dataframe thead th {\n",
       "        text-align: right;\n",
       "    }\n",
       "</style>\n",
       "<table border=\"1\" class=\"dataframe\">\n",
       "  <thead>\n",
       "    <tr style=\"text-align: right;\">\n",
       "      <th></th>\n",
       "      <th>Area</th>\n",
       "      <th>Item</th>\n",
       "      <th>Year</th>\n",
       "      <th>Area harvested</th>\n",
       "      <th>Yield</th>\n",
       "      <th>Production</th>\n",
       "    </tr>\n",
       "  </thead>\n",
       "  <tbody>\n",
       "    <tr>\n",
       "      <th>300</th>\n",
       "      <td>France</td>\n",
       "      <td>Wheat</td>\n",
       "      <td>1961</td>\n",
       "      <td>3997300.0</td>\n",
       "      <td>2.3950</td>\n",
       "      <td>9573520.0</td>\n",
       "    </tr>\n",
       "    <tr>\n",
       "      <th>301</th>\n",
       "      <td>France</td>\n",
       "      <td>Wheat</td>\n",
       "      <td>1962</td>\n",
       "      <td>4570000.0</td>\n",
       "      <td>3.0752</td>\n",
       "      <td>14053770.0</td>\n",
       "    </tr>\n",
       "    <tr>\n",
       "      <th>302</th>\n",
       "      <td>France</td>\n",
       "      <td>Wheat</td>\n",
       "      <td>1963</td>\n",
       "      <td>3849500.0</td>\n",
       "      <td>2.6624</td>\n",
       "      <td>10248960.0</td>\n",
       "    </tr>\n",
       "    <tr>\n",
       "      <th>303</th>\n",
       "      <td>France</td>\n",
       "      <td>Wheat</td>\n",
       "      <td>1964</td>\n",
       "      <td>4388200.0</td>\n",
       "      <td>3.1534</td>\n",
       "      <td>13837700.0</td>\n",
       "    </tr>\n",
       "    <tr>\n",
       "      <th>304</th>\n",
       "      <td>France</td>\n",
       "      <td>Wheat</td>\n",
       "      <td>1965</td>\n",
       "      <td>4520000.0</td>\n",
       "      <td>3.2655</td>\n",
       "      <td>14760000.0</td>\n",
       "    </tr>\n",
       "  </tbody>\n",
       "</table>\n",
       "</div>"
      ],
      "text/plain": [
       "       Area   Item  Year  Area harvested   Yield  Production\n",
       "300  France  Wheat  1961       3997300.0  2.3950   9573520.0\n",
       "301  France  Wheat  1962       4570000.0  3.0752  14053770.0\n",
       "302  France  Wheat  1963       3849500.0  2.6624  10248960.0\n",
       "303  France  Wheat  1964       4388200.0  3.1534  13837700.0\n",
       "304  France  Wheat  1965       4520000.0  3.2655  14760000.0"
      ]
     },
     "execution_count": 126,
     "metadata": {},
     "output_type": "execute_result"
    }
   ],
   "source": [
    "dfs.loc[dfs['Item'] == 'Wheat'].groupby(['Area'], observed=True).get_group(('France',)).head()"
   ]
  },
  {
   "cell_type": "code",
   "execution_count": 127,
   "id": "157a232e",
   "metadata": {},
   "outputs": [
    {
     "data": {
      "text/html": [
       "<div>\n",
       "<style scoped>\n",
       "    .dataframe tbody tr th:only-of-type {\n",
       "        vertical-align: middle;\n",
       "    }\n",
       "\n",
       "    .dataframe tbody tr th {\n",
       "        vertical-align: top;\n",
       "    }\n",
       "\n",
       "    .dataframe thead th {\n",
       "        text-align: right;\n",
       "    }\n",
       "</style>\n",
       "<table border=\"1\" class=\"dataframe\">\n",
       "  <thead>\n",
       "    <tr style=\"text-align: right;\">\n",
       "      <th></th>\n",
       "      <th>Area</th>\n",
       "      <th>Item</th>\n",
       "      <th>Year</th>\n",
       "      <th>Area harvested</th>\n",
       "      <th>Yield</th>\n",
       "      <th>Production</th>\n",
       "    </tr>\n",
       "  </thead>\n",
       "  <tbody>\n",
       "    <tr>\n",
       "      <th>1620</th>\n",
       "      <td>Romania</td>\n",
       "      <td>Wheat</td>\n",
       "      <td>1961</td>\n",
       "      <td>2969400.0</td>\n",
       "      <td>1.3438</td>\n",
       "      <td>3990300.0</td>\n",
       "    </tr>\n",
       "    <tr>\n",
       "      <th>1621</th>\n",
       "      <td>Romania</td>\n",
       "      <td>Wheat</td>\n",
       "      <td>1962</td>\n",
       "      <td>3042600.0</td>\n",
       "      <td>1.3323</td>\n",
       "      <td>4053800.0</td>\n",
       "    </tr>\n",
       "    <tr>\n",
       "      <th>1622</th>\n",
       "      <td>Romania</td>\n",
       "      <td>Wheat</td>\n",
       "      <td>1963</td>\n",
       "      <td>2874400.0</td>\n",
       "      <td>1.3216</td>\n",
       "      <td>3798800.0</td>\n",
       "    </tr>\n",
       "    <tr>\n",
       "      <th>1623</th>\n",
       "      <td>Romania</td>\n",
       "      <td>Wheat</td>\n",
       "      <td>1964</td>\n",
       "      <td>2958800.0</td>\n",
       "      <td>1.2923</td>\n",
       "      <td>3823700.0</td>\n",
       "    </tr>\n",
       "    <tr>\n",
       "      <th>1624</th>\n",
       "      <td>Romania</td>\n",
       "      <td>Wheat</td>\n",
       "      <td>1965</td>\n",
       "      <td>2983400.0</td>\n",
       "      <td>1.9900</td>\n",
       "      <td>5937000.0</td>\n",
       "    </tr>\n",
       "  </tbody>\n",
       "</table>\n",
       "</div>"
      ],
      "text/plain": [
       "         Area   Item  Year  Area harvested   Yield  Production\n",
       "1620  Romania  Wheat  1961       2969400.0  1.3438   3990300.0\n",
       "1621  Romania  Wheat  1962       3042600.0  1.3323   4053800.0\n",
       "1622  Romania  Wheat  1963       2874400.0  1.3216   3798800.0\n",
       "1623  Romania  Wheat  1964       2958800.0  1.2923   3823700.0\n",
       "1624  Romania  Wheat  1965       2983400.0  1.9900   5937000.0"
      ]
     },
     "execution_count": 127,
     "metadata": {},
     "output_type": "execute_result"
    }
   ],
   "source": [
    "dfs.loc[dfs['Item'] == 'Wheat'].groupby(['Area'], observed=True).get_group(('Romania',)).head()"
   ]
  }
 ],
 "metadata": {
  "kernelspec": {
   "display_name": "Python 3",
   "language": "python",
   "name": "python3"
  },
  "language_info": {
   "codemirror_mode": {
    "name": "ipython",
    "version": 3
   },
   "file_extension": ".py",
   "mimetype": "text/x-python",
   "name": "python",
   "nbconvert_exporter": "python",
   "pygments_lexer": "ipython3",
   "version": "3.13.1"
  }
 },
 "nbformat": 4,
 "nbformat_minor": 5
}
