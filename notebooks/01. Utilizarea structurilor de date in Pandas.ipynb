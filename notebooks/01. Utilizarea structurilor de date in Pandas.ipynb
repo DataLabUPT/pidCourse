{
 "cells": [
  {
   "cell_type": "markdown",
   "id": "ba029839",
   "metadata": {
    "id": "ba029839"
   },
   "source": [
    "## Utilizarea structurilor de date in Pandas"
   ]
  },
  {
   "cell_type": "code",
   "execution_count": 1,
   "id": "c2820687",
   "metadata": {
    "executionInfo": {
     "elapsed": 196,
     "status": "ok",
     "timestamp": 1739181981998,
     "user": {
      "displayName": "Marian Bucos",
      "userId": "04480462826549160389"
     },
     "user_tz": -120
    },
    "id": "c2820687"
   },
   "outputs": [],
   "source": [
    "import pandas as pd\n",
    "import numpy as np"
   ]
  },
  {
   "cell_type": "markdown",
   "id": "97925307",
   "metadata": {
    "id": "97925307"
   },
   "source": [
    "### Cuprins\n",
    "1. [Introducere](#intro)\n",
    "2. [Tipuri de date](#dtypes)\n",
    "3. [Series](#series)\n",
    "4. [DataFrame](#dataframe)"
   ]
  },
  {
   "cell_type": "markdown",
   "id": "69a11a7a",
   "metadata": {
    "id": "69a11a7a"
   },
   "source": [
    "<!-- ![Netflix logo](../images/netflix_logo.png) -->\n",
    "<img src=\"../images/netflix_logo.png\" width=\"300\">\n",
    "\n",
    "Setul de date <i>Netflix Movies and TV Shows</i> contine metadatele tuturor filmelor si emisiunilor TV de pe Netflix. Poate fi accesat in cadrul platformei Kaggle la adresa https://www.kaggle.com/shivamb/netflix-shows. Setul de date este actualizat in mod regulat."
   ]
  },
  {
   "cell_type": "markdown",
   "id": "563198f5",
   "metadata": {
    "id": "563198f5"
   },
   "source": [
    "### Introducere <a name=\"intro\"></a>"
   ]
  },
  {
   "cell_type": "code",
   "execution_count": 2,
   "id": "b0cb1cb1",
   "metadata": {
    "colab": {
     "base_uri": "https://localhost:8080/",
     "height": 1000
    },
    "executionInfo": {
     "elapsed": 1095,
     "status": "error",
     "timestamp": 1739181983094,
     "user": {
      "displayName": "Marian Bucos",
      "userId": "04480462826549160389"
     },
     "user_tz": -120
    },
    "id": "b0cb1cb1",
    "outputId": "f07446f6-cf92-4358-dd57-5037595af8e7"
   },
   "outputs": [],
   "source": [
    "df = pd.read_csv(\"../data/netflix_titles.csv\", sep=\",\", header=0)"
   ]
  },
  {
   "cell_type": "code",
   "execution_count": 3,
   "id": "e3a66191",
   "metadata": {
    "executionInfo": {
     "elapsed": 1,
     "status": "aborted",
     "timestamp": 1739181983162,
     "user": {
      "displayName": "Marian Bucos",
      "userId": "04480462826549160389"
     },
     "user_tz": -120
    },
    "id": "e3a66191"
   },
   "outputs": [
    {
     "data": {
      "text/html": [
       "<div>\n",
       "<style scoped>\n",
       "    .dataframe tbody tr th:only-of-type {\n",
       "        vertical-align: middle;\n",
       "    }\n",
       "\n",
       "    .dataframe tbody tr th {\n",
       "        vertical-align: top;\n",
       "    }\n",
       "\n",
       "    .dataframe thead th {\n",
       "        text-align: right;\n",
       "    }\n",
       "</style>\n",
       "<table border=\"1\" class=\"dataframe\">\n",
       "  <thead>\n",
       "    <tr style=\"text-align: right;\">\n",
       "      <th></th>\n",
       "      <th>show_id</th>\n",
       "      <th>type</th>\n",
       "      <th>title</th>\n",
       "      <th>director</th>\n",
       "      <th>cast</th>\n",
       "      <th>country</th>\n",
       "      <th>date_added</th>\n",
       "      <th>release_year</th>\n",
       "      <th>rating</th>\n",
       "      <th>duration</th>\n",
       "      <th>listed_in</th>\n",
       "      <th>description</th>\n",
       "    </tr>\n",
       "  </thead>\n",
       "  <tbody>\n",
       "    <tr>\n",
       "      <th>0</th>\n",
       "      <td>s1</td>\n",
       "      <td>Movie</td>\n",
       "      <td>Dick Johnson Is Dead</td>\n",
       "      <td>Kirsten Johnson</td>\n",
       "      <td>NaN</td>\n",
       "      <td>United States</td>\n",
       "      <td>September 25, 2021</td>\n",
       "      <td>2020</td>\n",
       "      <td>PG-13</td>\n",
       "      <td>90 min</td>\n",
       "      <td>Documentaries</td>\n",
       "      <td>As her father nears the end of his life, filmm...</td>\n",
       "    </tr>\n",
       "    <tr>\n",
       "      <th>1</th>\n",
       "      <td>s2</td>\n",
       "      <td>TV Show</td>\n",
       "      <td>Blood &amp; Water</td>\n",
       "      <td>NaN</td>\n",
       "      <td>Ama Qamata, Khosi Ngema, Gail Mabalane, Thaban...</td>\n",
       "      <td>South Africa</td>\n",
       "      <td>September 24, 2021</td>\n",
       "      <td>2021</td>\n",
       "      <td>TV-MA</td>\n",
       "      <td>2 Seasons</td>\n",
       "      <td>International TV Shows, TV Dramas, TV Mysteries</td>\n",
       "      <td>After crossing paths at a party, a Cape Town t...</td>\n",
       "    </tr>\n",
       "    <tr>\n",
       "      <th>2</th>\n",
       "      <td>s3</td>\n",
       "      <td>TV Show</td>\n",
       "      <td>Ganglands</td>\n",
       "      <td>Julien Leclercq</td>\n",
       "      <td>Sami Bouajila, Tracy Gotoas, Samuel Jouy, Nabi...</td>\n",
       "      <td>NaN</td>\n",
       "      <td>September 24, 2021</td>\n",
       "      <td>2021</td>\n",
       "      <td>TV-MA</td>\n",
       "      <td>1 Season</td>\n",
       "      <td>Crime TV Shows, International TV Shows, TV Act...</td>\n",
       "      <td>To protect his family from a powerful drug lor...</td>\n",
       "    </tr>\n",
       "    <tr>\n",
       "      <th>3</th>\n",
       "      <td>s4</td>\n",
       "      <td>TV Show</td>\n",
       "      <td>Jailbirds New Orleans</td>\n",
       "      <td>NaN</td>\n",
       "      <td>NaN</td>\n",
       "      <td>NaN</td>\n",
       "      <td>September 24, 2021</td>\n",
       "      <td>2021</td>\n",
       "      <td>TV-MA</td>\n",
       "      <td>1 Season</td>\n",
       "      <td>Docuseries, Reality TV</td>\n",
       "      <td>Feuds, flirtations and toilet talk go down amo...</td>\n",
       "    </tr>\n",
       "    <tr>\n",
       "      <th>4</th>\n",
       "      <td>s5</td>\n",
       "      <td>TV Show</td>\n",
       "      <td>Kota Factory</td>\n",
       "      <td>NaN</td>\n",
       "      <td>Mayur More, Jitendra Kumar, Ranjan Raj, Alam K...</td>\n",
       "      <td>India</td>\n",
       "      <td>September 24, 2021</td>\n",
       "      <td>2021</td>\n",
       "      <td>TV-MA</td>\n",
       "      <td>2 Seasons</td>\n",
       "      <td>International TV Shows, Romantic TV Shows, TV ...</td>\n",
       "      <td>In a city of coaching centers known to train I...</td>\n",
       "    </tr>\n",
       "  </tbody>\n",
       "</table>\n",
       "</div>"
      ],
      "text/plain": [
       "  show_id     type                  title         director  \\\n",
       "0      s1    Movie   Dick Johnson Is Dead  Kirsten Johnson   \n",
       "1      s2  TV Show          Blood & Water              NaN   \n",
       "2      s3  TV Show              Ganglands  Julien Leclercq   \n",
       "3      s4  TV Show  Jailbirds New Orleans              NaN   \n",
       "4      s5  TV Show           Kota Factory              NaN   \n",
       "\n",
       "                                                cast        country  \\\n",
       "0                                                NaN  United States   \n",
       "1  Ama Qamata, Khosi Ngema, Gail Mabalane, Thaban...   South Africa   \n",
       "2  Sami Bouajila, Tracy Gotoas, Samuel Jouy, Nabi...            NaN   \n",
       "3                                                NaN            NaN   \n",
       "4  Mayur More, Jitendra Kumar, Ranjan Raj, Alam K...          India   \n",
       "\n",
       "           date_added  release_year rating   duration  \\\n",
       "0  September 25, 2021          2020  PG-13     90 min   \n",
       "1  September 24, 2021          2021  TV-MA  2 Seasons   \n",
       "2  September 24, 2021          2021  TV-MA   1 Season   \n",
       "3  September 24, 2021          2021  TV-MA   1 Season   \n",
       "4  September 24, 2021          2021  TV-MA  2 Seasons   \n",
       "\n",
       "                                           listed_in  \\\n",
       "0                                      Documentaries   \n",
       "1    International TV Shows, TV Dramas, TV Mysteries   \n",
       "2  Crime TV Shows, International TV Shows, TV Act...   \n",
       "3                             Docuseries, Reality TV   \n",
       "4  International TV Shows, Romantic TV Shows, TV ...   \n",
       "\n",
       "                                         description  \n",
       "0  As her father nears the end of his life, filmm...  \n",
       "1  After crossing paths at a party, a Cape Town t...  \n",
       "2  To protect his family from a powerful drug lor...  \n",
       "3  Feuds, flirtations and toilet talk go down amo...  \n",
       "4  In a city of coaching centers known to train I...  "
      ]
     },
     "execution_count": 3,
     "metadata": {},
     "output_type": "execute_result"
    }
   ],
   "source": [
    "df.head()"
   ]
  },
  {
   "cell_type": "markdown",
   "id": "e45732c6",
   "metadata": {
    "id": "e45732c6"
   },
   "source": [
    "| Sructura date | Dimensiuni | Descriere |\n",
    "| ------------- | ---------- | --------- |\n",
    "| Series | 1 | tablou unidimensional etichetat in care pot fi stocate date de orice tip (intreg, sir de caractere, float, obiecte, etc.) |\n",
    "| DataFrame | 2 | structura de date tabelara bidimensionala, cu dimensiuni modificabile, cu axe etichetate (randuri si coloane) | obiectele de la nivelul unei structuri de tip DataFrame pot avea tipuri diferite |"
   ]
  },
  {
   "cell_type": "code",
   "execution_count": 4,
   "id": "036dc062",
   "metadata": {
    "executionInfo": {
     "elapsed": 1704,
     "status": "aborted",
     "timestamp": 1739181983163,
     "user": {
      "displayName": "Marian Bucos",
      "userId": "04480462826549160389"
     },
     "user_tz": -120
    },
    "id": "036dc062"
   },
   "outputs": [],
   "source": [
    "s = df.title"
   ]
  },
  {
   "cell_type": "code",
   "execution_count": 5,
   "id": "e0ebb057",
   "metadata": {
    "executionInfo": {
     "elapsed": 1703,
     "status": "aborted",
     "timestamp": 1739181983165,
     "user": {
      "displayName": "Marian Bucos",
      "userId": "04480462826549160389"
     },
     "user_tz": -120
    },
    "id": "e0ebb057"
   },
   "outputs": [
    {
     "data": {
      "text/plain": [
       "0     Dick Johnson Is Dead\n",
       "1            Blood & Water\n",
       "2                Ganglands\n",
       "3    Jailbirds New Orleans\n",
       "4             Kota Factory\n",
       "Name: title, dtype: object"
      ]
     },
     "execution_count": 5,
     "metadata": {},
     "output_type": "execute_result"
    }
   ],
   "source": [
    "s.head()"
   ]
  },
  {
   "cell_type": "markdown",
   "id": "a0f40871",
   "metadata": {
    "id": "a0f40871"
   },
   "source": [
    "### Tipuri de date <a name=\"dtypes\"></a>"
   ]
  },
  {
   "cell_type": "code",
   "execution_count": 6,
   "id": "0fd7d87f",
   "metadata": {
    "executionInfo": {
     "elapsed": 1700,
     "status": "aborted",
     "timestamp": 1739181983166,
     "user": {
      "displayName": "Marian Bucos",
      "userId": "04480462826549160389"
     },
     "user_tz": -120
    },
    "id": "0fd7d87f"
   },
   "outputs": [
    {
     "data": {
      "text/plain": [
       "show_id         object\n",
       "type            object\n",
       "title           object\n",
       "director        object\n",
       "cast            object\n",
       "country         object\n",
       "date_added      object\n",
       "release_year     int64\n",
       "rating          object\n",
       "duration        object\n",
       "listed_in       object\n",
       "description     object\n",
       "dtype: object"
      ]
     },
     "execution_count": 6,
     "metadata": {},
     "output_type": "execute_result"
    }
   ],
   "source": [
    "df.dtypes"
   ]
  },
  {
   "cell_type": "code",
   "execution_count": 7,
   "id": "3598251c",
   "metadata": {
    "executionInfo": {
     "elapsed": 1697,
     "status": "aborted",
     "timestamp": 1739181983166,
     "user": {
      "displayName": "Marian Bucos",
      "userId": "04480462826549160389"
     },
     "user_tz": -120
    },
    "id": "3598251c"
   },
   "outputs": [
    {
     "data": {
      "text/plain": [
       "dtype('O')"
      ]
     },
     "execution_count": 7,
     "metadata": {},
     "output_type": "execute_result"
    }
   ],
   "source": [
    "df.title.dtype"
   ]
  },
  {
   "cell_type": "code",
   "execution_count": 8,
   "id": "546bc684",
   "metadata": {
    "executionInfo": {
     "elapsed": 1695,
     "status": "aborted",
     "timestamp": 1739181983167,
     "user": {
      "displayName": "Marian Bucos",
      "userId": "04480462826549160389"
     },
     "user_tz": -120
    },
    "id": "546bc684"
   },
   "outputs": [
    {
     "data": {
      "text/plain": [
       "dtype('O')"
      ]
     },
     "execution_count": 8,
     "metadata": {},
     "output_type": "execute_result"
    }
   ],
   "source": [
    "df['title'].dtype"
   ]
  },
  {
   "cell_type": "code",
   "execution_count": 9,
   "id": "464880b8",
   "metadata": {
    "executionInfo": {
     "elapsed": 1693,
     "status": "aborted",
     "timestamp": 1739181983168,
     "user": {
      "displayName": "Marian Bucos",
      "userId": "04480462826549160389"
     },
     "user_tz": -120
    },
    "id": "464880b8"
   },
   "outputs": [
    {
     "data": {
      "text/plain": [
       "pandas.core.frame.DataFrame"
      ]
     },
     "execution_count": 9,
     "metadata": {},
     "output_type": "execute_result"
    }
   ],
   "source": [
    "type(df)"
   ]
  },
  {
   "cell_type": "code",
   "execution_count": 10,
   "id": "074b87a4",
   "metadata": {
    "executionInfo": {
     "elapsed": 1690,
     "status": "aborted",
     "timestamp": 1739181983168,
     "user": {
      "displayName": "Marian Bucos",
      "userId": "04480462826549160389"
     },
     "user_tz": -120
    },
    "id": "074b87a4"
   },
   "outputs": [
    {
     "data": {
      "text/plain": [
       "pandas.core.series.Series"
      ]
     },
     "execution_count": 10,
     "metadata": {},
     "output_type": "execute_result"
    }
   ],
   "source": [
    "type(s)"
   ]
  },
  {
   "cell_type": "markdown",
   "id": "7029c5dd",
   "metadata": {
    "id": "7029c5dd"
   },
   "source": [
    "### Structuri de date de tip Series <a name=\"series\"></a>"
   ]
  },
  {
   "cell_type": "code",
   "execution_count": 11,
   "id": "7517599f",
   "metadata": {
    "executionInfo": {
     "elapsed": 1689,
     "status": "aborted",
     "timestamp": 1739181983169,
     "user": {
      "displayName": "Marian Bucos",
      "userId": "04480462826549160389"
     },
     "user_tz": -120
    },
    "id": "7517599f"
   },
   "outputs": [
    {
     "data": {
      "text/plain": [
       "0     Dick Johnson Is Dead\n",
       "1            Blood & Water\n",
       "2                Ganglands\n",
       "3    Jailbirds New Orleans\n",
       "4             Kota Factory\n",
       "Name: title, dtype: object"
      ]
     },
     "execution_count": 11,
     "metadata": {},
     "output_type": "execute_result"
    }
   ],
   "source": [
    "s.head()"
   ]
  },
  {
   "cell_type": "code",
   "execution_count": 12,
   "id": "ce661f6f",
   "metadata": {
    "executionInfo": {
     "elapsed": 1686,
     "status": "aborted",
     "timestamp": 1739181983169,
     "user": {
      "displayName": "Marian Bucos",
      "userId": "04480462826549160389"
     },
     "user_tz": -120
    },
    "id": "ce661f6f"
   },
   "outputs": [
    {
     "data": {
      "text/plain": [
       "RangeIndex(start=0, stop=8807, step=1)"
      ]
     },
     "execution_count": 12,
     "metadata": {},
     "output_type": "execute_result"
    }
   ],
   "source": [
    "# <Series object>.index - indexul seriei\n",
    "s.index"
   ]
  },
  {
   "cell_type": "code",
   "execution_count": 13,
   "id": "77ce3498",
   "metadata": {
    "executionInfo": {
     "elapsed": 1684,
     "status": "aborted",
     "timestamp": 1739181983170,
     "user": {
      "displayName": "Marian Bucos",
      "userId": "04480462826549160389"
     },
     "user_tz": -120
    },
    "id": "77ce3498"
   },
   "outputs": [
    {
     "data": {
      "text/plain": [
       "array(['Dick Johnson Is Dead', 'Blood & Water', 'Ganglands', ...,\n",
       "       'Zombieland', 'Zoom', 'Zubaan'], shape=(8807,), dtype=object)"
      ]
     },
     "execution_count": 13,
     "metadata": {},
     "output_type": "execute_result"
    }
   ],
   "source": [
    "# <Series object>.values - returneaza seria ca si ndarray\n",
    "s.values"
   ]
  },
  {
   "cell_type": "code",
   "execution_count": 14,
   "id": "a5495633",
   "metadata": {
    "executionInfo": {
     "elapsed": 1685,
     "status": "aborted",
     "timestamp": 1739181983171,
     "user": {
      "displayName": "Marian Bucos",
      "userId": "04480462826549160389"
     },
     "user_tz": -120
    },
    "id": "a5495633"
   },
   "outputs": [],
   "source": [
    "s = pd.read_csv(\"../data/netflix_titles.csv\", sep=\",\", usecols=['title']).squeeze(\"columns\")"
   ]
  },
  {
   "cell_type": "code",
   "execution_count": 15,
   "id": "2e344b25",
   "metadata": {
    "executionInfo": {
     "elapsed": 1683,
     "status": "aborted",
     "timestamp": 1739181983172,
     "user": {
      "displayName": "Marian Bucos",
      "userId": "04480462826549160389"
     },
     "user_tz": -120
    },
    "id": "2e344b25"
   },
   "outputs": [
    {
     "data": {
      "text/plain": [
       "0     Dick Johnson Is Dead\n",
       "1            Blood & Water\n",
       "2                Ganglands\n",
       "3    Jailbirds New Orleans\n",
       "4             Kota Factory\n",
       "Name: title, dtype: object"
      ]
     },
     "execution_count": 15,
     "metadata": {},
     "output_type": "execute_result"
    }
   ],
   "source": [
    "s.head()"
   ]
  },
  {
   "cell_type": "code",
   "execution_count": 16,
   "id": "70aefadf",
   "metadata": {
    "executionInfo": {
     "elapsed": 1683,
     "status": "aborted",
     "timestamp": 1739181983172,
     "user": {
      "displayName": "Marian Bucos",
      "userId": "04480462826549160389"
     },
     "user_tz": -120
    },
    "id": "70aefadf"
   },
   "outputs": [],
   "source": [
    "tutor = pd.Series(data = ['Marian Bucos', 'Sl.dr.ing.', 345, 'Programare pentru Ingineria Datelor',\n",
    "                          'https://datalab.upt.ro/cursuri/programare-pentru-ingineria-datelor'])"
   ]
  },
  {
   "cell_type": "code",
   "execution_count": 17,
   "id": "9d0178fd",
   "metadata": {
    "executionInfo": {
     "elapsed": 1681,
     "status": "aborted",
     "timestamp": 1739181983173,
     "user": {
      "displayName": "Marian Bucos",
      "userId": "04480462826549160389"
     },
     "user_tz": -120
    },
    "id": "9d0178fd"
   },
   "outputs": [
    {
     "data": {
      "text/plain": [
       "0                                         Marian Bucos\n",
       "1                                           Sl.dr.ing.\n",
       "2                                                  345\n",
       "3                  Programare pentru Ingineria Datelor\n",
       "4    https://datalab.upt.ro/cursuri/programare-pent...\n",
       "dtype: object"
      ]
     },
     "execution_count": 17,
     "metadata": {},
     "output_type": "execute_result"
    }
   ],
   "source": [
    "tutor"
   ]
  },
  {
   "cell_type": "code",
   "execution_count": 18,
   "id": "aa224d28",
   "metadata": {
    "executionInfo": {
     "elapsed": 1681,
     "status": "aborted",
     "timestamp": 1739181983173,
     "user": {
      "displayName": "Marian Bucos",
      "userId": "04480462826549160389"
     },
     "user_tz": -120
    },
    "id": "aa224d28"
   },
   "outputs": [],
   "source": [
    "tutor = pd.Series(data = ['Marian Bucos', 'Sl.dr.ing.', 345, 'Programare pentru Ingineria Datelor',\n",
    "                          'https://datalab.upt.ro/cursuri/programare-pentru-ingineria-datelor'],\n",
    "                  index = ['nume', 'grad', 'id curs', 'denumire curs', 'adresa curs'])"
   ]
  },
  {
   "cell_type": "code",
   "execution_count": 19,
   "id": "b7a7e1ac",
   "metadata": {
    "executionInfo": {
     "elapsed": 1679,
     "status": "aborted",
     "timestamp": 1739181983174,
     "user": {
      "displayName": "Marian Bucos",
      "userId": "04480462826549160389"
     },
     "user_tz": -120
    },
    "id": "b7a7e1ac"
   },
   "outputs": [
    {
     "data": {
      "text/plain": [
       "nume                                                  Marian Bucos\n",
       "grad                                                    Sl.dr.ing.\n",
       "id curs                                                        345\n",
       "denumire curs                  Programare pentru Ingineria Datelor\n",
       "adresa curs      https://datalab.upt.ro/cursuri/programare-pent...\n",
       "dtype: object"
      ]
     },
     "execution_count": 19,
     "metadata": {},
     "output_type": "execute_result"
    }
   ],
   "source": [
    "tutor"
   ]
  },
  {
   "cell_type": "code",
   "execution_count": 20,
   "id": "fdbaa214",
   "metadata": {
    "executionInfo": {
     "elapsed": 1677,
     "status": "aborted",
     "timestamp": 1739181983175,
     "user": {
      "displayName": "Marian Bucos",
      "userId": "04480462826549160389"
     },
     "user_tz": -120
    },
    "id": "fdbaa214"
   },
   "outputs": [
    {
     "data": {
      "text/plain": [
       "'Programare pentru Ingineria Datelor'"
      ]
     },
     "execution_count": 20,
     "metadata": {},
     "output_type": "execute_result"
    }
   ],
   "source": [
    "tutor['denumire curs']"
   ]
  },
  {
   "cell_type": "code",
   "execution_count": 21,
   "id": "0bfeea2d",
   "metadata": {
    "executionInfo": {
     "elapsed": 1675,
     "status": "aborted",
     "timestamp": 1739181983175,
     "user": {
      "displayName": "Marian Bucos",
      "userId": "04480462826549160389"
     },
     "user_tz": -120
    },
    "id": "0bfeea2d"
   },
   "outputs": [
    {
     "data": {
      "text/plain": [
       "nume                                    Marian Bucos\n",
       "denumire curs    Programare pentru Ingineria Datelor\n",
       "dtype: object"
      ]
     },
     "execution_count": 21,
     "metadata": {},
     "output_type": "execute_result"
    }
   ],
   "source": [
    "tutor[['nume', 'denumire curs']]"
   ]
  },
  {
   "cell_type": "code",
   "execution_count": 22,
   "id": "535873af",
   "metadata": {
    "executionInfo": {
     "elapsed": 1675,
     "status": "aborted",
     "timestamp": 1739181983176,
     "user": {
      "displayName": "Marian Bucos",
      "userId": "04480462826549160389"
     },
     "user_tz": -120
    },
    "id": "535873af"
   },
   "outputs": [],
   "source": [
    "tutor = pd.Series({'nume': 'Marian Bucos',\n",
    "                   'grad': 'Sl.dr.ing.',\n",
    "                   'id curs': 345,\n",
    "                   'denumire curs': 'Programare pentru Ingineria Datelor',\n",
    "                   'adresa curs': 'https://datalab.upt.ro/cursuri/programare-pentru-ingineria-datelor'})"
   ]
  },
  {
   "cell_type": "code",
   "execution_count": 23,
   "id": "3e29622c",
   "metadata": {
    "executionInfo": {
     "elapsed": 1674,
     "status": "aborted",
     "timestamp": 1739181983177,
     "user": {
      "displayName": "Marian Bucos",
      "userId": "04480462826549160389"
     },
     "user_tz": -120
    },
    "id": "3e29622c"
   },
   "outputs": [
    {
     "data": {
      "text/plain": [
       "nume                                                  Marian Bucos\n",
       "grad                                                    Sl.dr.ing.\n",
       "id curs                                                        345\n",
       "denumire curs                  Programare pentru Ingineria Datelor\n",
       "adresa curs      https://datalab.upt.ro/cursuri/programare-pent...\n",
       "dtype: object"
      ]
     },
     "execution_count": 23,
     "metadata": {},
     "output_type": "execute_result"
    }
   ],
   "source": [
    "tutor"
   ]
  },
  {
   "cell_type": "code",
   "execution_count": 24,
   "id": "8bcf9268",
   "metadata": {
    "executionInfo": {
     "elapsed": 1672,
     "status": "aborted",
     "timestamp": 1739181983178,
     "user": {
      "displayName": "Marian Bucos",
      "userId": "04480462826549160389"
     },
     "user_tz": -120
    },
    "id": "8bcf9268"
   },
   "outputs": [
    {
     "data": {
      "text/plain": [
       "nume                                    Marian Bucos\n",
       "denumire curs    Programare pentru Ingineria Datelor\n",
       "dtype: object"
      ]
     },
     "execution_count": 24,
     "metadata": {},
     "output_type": "execute_result"
    }
   ],
   "source": [
    "tutor[['nume', 'denumire curs']]"
   ]
  },
  {
   "cell_type": "code",
   "execution_count": 25,
   "id": "a120e3c4",
   "metadata": {
    "executionInfo": {
     "elapsed": 1669,
     "status": "aborted",
     "timestamp": 1739181983178,
     "user": {
      "displayName": "Marian Bucos",
      "userId": "04480462826549160389"
     },
     "user_tz": -120
    },
    "id": "a120e3c4"
   },
   "outputs": [
    {
     "data": {
      "text/plain": [
       "pandas.core.series.Series"
      ]
     },
     "execution_count": 25,
     "metadata": {},
     "output_type": "execute_result"
    }
   ],
   "source": [
    "type(tutor)"
   ]
  },
  {
   "cell_type": "code",
   "execution_count": 26,
   "id": "c0695925",
   "metadata": {
    "executionInfo": {
     "elapsed": 1670,
     "status": "aborted",
     "timestamp": 1739181983179,
     "user": {
      "displayName": "Marian Bucos",
      "userId": "04480462826549160389"
     },
     "user_tz": -120
    },
    "id": "c0695925"
   },
   "outputs": [],
   "source": [
    "an_admitere = np.array([2016, 2018, 2020])"
   ]
  },
  {
   "cell_type": "code",
   "execution_count": 27,
   "id": "00d78219",
   "metadata": {
    "executionInfo": {
     "elapsed": 1670,
     "status": "aborted",
     "timestamp": 1739181983179,
     "user": {
      "displayName": "Marian Bucos",
      "userId": "04480462826549160389"
     },
     "user_tz": -120
    },
    "id": "00d78219"
   },
   "outputs": [],
   "source": [
    "an_admitere = np.array([2003, 2016, 2018, 2020])\n",
    "studenti = pd.Series(data = an_admitere,\n",
    "                     index = ['Casandra', 'Zaya', 'Reya', 'Maru'])"
   ]
  },
  {
   "cell_type": "code",
   "execution_count": 28,
   "id": "e7dca003",
   "metadata": {
    "executionInfo": {
     "elapsed": 1667,
     "status": "aborted",
     "timestamp": 1739181983180,
     "user": {
      "displayName": "Marian Bucos",
      "userId": "04480462826549160389"
     },
     "user_tz": -120
    },
    "id": "e7dca003"
   },
   "outputs": [
    {
     "data": {
      "text/plain": [
       "Casandra    2003\n",
       "Zaya        2016\n",
       "Reya        2018\n",
       "Maru        2020\n",
       "dtype: int64"
      ]
     },
     "execution_count": 28,
     "metadata": {},
     "output_type": "execute_result"
    }
   ],
   "source": [
    "studenti"
   ]
  },
  {
   "cell_type": "code",
   "execution_count": 29,
   "id": "2d8646dd",
   "metadata": {
    "executionInfo": {
     "elapsed": 1667,
     "status": "aborted",
     "timestamp": 1739181983180,
     "user": {
      "displayName": "Marian Bucos",
      "userId": "04480462826549160389"
     },
     "user_tz": -120
    },
    "id": "2d8646dd"
   },
   "outputs": [],
   "source": [
    "tutor['grad'] = 'Prof.dr.ing.'"
   ]
  },
  {
   "cell_type": "code",
   "execution_count": 30,
   "id": "8c48053f",
   "metadata": {
    "executionInfo": {
     "elapsed": 1665,
     "status": "aborted",
     "timestamp": 1739181983181,
     "user": {
      "displayName": "Marian Bucos",
      "userId": "04480462826549160389"
     },
     "user_tz": -120
    },
    "id": "8c48053f"
   },
   "outputs": [
    {
     "data": {
      "text/plain": [
       "nume                                                  Marian Bucos\n",
       "grad                                                  Prof.dr.ing.\n",
       "id curs                                                        345\n",
       "denumire curs                  Programare pentru Ingineria Datelor\n",
       "adresa curs      https://datalab.upt.ro/cursuri/programare-pent...\n",
       "dtype: object"
      ]
     },
     "execution_count": 30,
     "metadata": {},
     "output_type": "execute_result"
    }
   ],
   "source": [
    "tutor"
   ]
  },
  {
   "cell_type": "code",
   "execution_count": 31,
   "id": "5d54c4c2",
   "metadata": {
    "executionInfo": {
     "elapsed": 1665,
     "status": "aborted",
     "timestamp": 1739181983181,
     "user": {
      "displayName": "Marian Bucos",
      "userId": "04480462826549160389"
     },
     "user_tz": -120
    },
    "id": "5d54c4c2"
   },
   "outputs": [],
   "source": [
    "tutor['birou'] = 'DataLab B226'"
   ]
  },
  {
   "cell_type": "code",
   "execution_count": 32,
   "id": "f5f272e2",
   "metadata": {
    "executionInfo": {
     "elapsed": 1663,
     "status": "aborted",
     "timestamp": 1739181983182,
     "user": {
      "displayName": "Marian Bucos",
      "userId": "04480462826549160389"
     },
     "user_tz": -120
    },
    "id": "f5f272e2"
   },
   "outputs": [
    {
     "data": {
      "text/plain": [
       "'Marian Bucos'"
      ]
     },
     "execution_count": 32,
     "metadata": {},
     "output_type": "execute_result"
    }
   ],
   "source": [
    "tutor.iloc[0]\n"
   ]
  },
  {
   "cell_type": "code",
   "execution_count": 33,
   "id": "6b59aa2b",
   "metadata": {
    "executionInfo": {
     "elapsed": 1662,
     "status": "aborted",
     "timestamp": 1739181983183,
     "user": {
      "displayName": "Marian Bucos",
      "userId": "04480462826549160389"
     },
     "user_tz": -120
    },
    "id": "6b59aa2b"
   },
   "outputs": [
    {
     "data": {
      "text/plain": [
       "nume    Marian Bucos\n",
       "grad    Prof.dr.ing.\n",
       "dtype: object"
      ]
     },
     "execution_count": 33,
     "metadata": {},
     "output_type": "execute_result"
    }
   ],
   "source": [
    "tutor[0:2]"
   ]
  },
  {
   "cell_type": "code",
   "execution_count": 34,
   "id": "ba2c1fa4",
   "metadata": {
    "executionInfo": {
     "elapsed": 1659,
     "status": "aborted",
     "timestamp": 1739181983183,
     "user": {
      "displayName": "Marian Bucos",
      "userId": "04480462826549160389"
     },
     "user_tz": -120
    },
    "id": "ba2c1fa4"
   },
   "outputs": [
    {
     "data": {
      "text/plain": [
       "birou                                                 DataLab B226\n",
       "adresa curs      https://datalab.upt.ro/cursuri/programare-pent...\n",
       "denumire curs                  Programare pentru Ingineria Datelor\n",
       "id curs                                                        345\n",
       "grad                                                  Prof.dr.ing.\n",
       "nume                                                  Marian Bucos\n",
       "dtype: object"
      ]
     },
     "execution_count": 34,
     "metadata": {},
     "output_type": "execute_result"
    }
   ],
   "source": [
    "tutor[::-1]"
   ]
  },
  {
   "cell_type": "code",
   "execution_count": 35,
   "id": "591af920",
   "metadata": {
    "executionInfo": {
     "elapsed": 1658,
     "status": "aborted",
     "timestamp": 1739181983184,
     "user": {
      "displayName": "Marian Bucos",
      "userId": "04480462826549160389"
     },
     "user_tz": -120
    },
    "id": "591af920"
   },
   "outputs": [
    {
     "data": {
      "text/plain": [
       "0    Casandra\n",
       "1        Zaya\n",
       "2        Reya\n",
       "3        Maru\n",
       "dtype: string"
      ]
     },
     "execution_count": 35,
     "metadata": {},
     "output_type": "execute_result"
    }
   ],
   "source": [
    "pd.Series(['Casandra', 'Zaya', 'Reya', 'Maru'], dtype = 'string')"
   ]
  },
  {
   "cell_type": "code",
   "execution_count": 36,
   "id": "c08ac3ee",
   "metadata": {
    "executionInfo": {
     "elapsed": 1656,
     "status": "aborted",
     "timestamp": 1739181983185,
     "user": {
      "displayName": "Marian Bucos",
      "userId": "04480462826549160389"
     },
     "user_tz": -120
    },
    "id": "c08ac3ee"
   },
   "outputs": [
    {
     "data": {
      "text/plain": [
       "0    Casandra\n",
       "1        Zaya\n",
       "2        Reya\n",
       "3        Maru\n",
       "dtype: object"
      ]
     },
     "execution_count": 36,
     "metadata": {},
     "output_type": "execute_result"
    }
   ],
   "source": [
    "pd.Series(['Casandra', 'Zaya', 'Reya', 'Maru'], dtype = 'object')"
   ]
  },
  {
   "cell_type": "code",
   "execution_count": 37,
   "id": "5ea68148",
   "metadata": {
    "executionInfo": {
     "elapsed": 1654,
     "status": "aborted",
     "timestamp": 1739181983185,
     "user": {
      "displayName": "Marian Bucos",
      "userId": "04480462826549160389"
     },
     "user_tz": -120
    },
    "id": "5ea68148"
   },
   "outputs": [
    {
     "data": {
      "text/plain": [
       "0     Dick Johnson Is Dead\n",
       "1            Blood & Water\n",
       "2                Ganglands\n",
       "3    Jailbirds New Orleans\n",
       "4             Kota Factory\n",
       "Name: title, dtype: object"
      ]
     },
     "execution_count": 37,
     "metadata": {},
     "output_type": "execute_result"
    }
   ],
   "source": [
    "s.head()"
   ]
  },
  {
   "cell_type": "code",
   "execution_count": 38,
   "id": "52768b15",
   "metadata": {
    "executionInfo": {
     "elapsed": 1652,
     "status": "aborted",
     "timestamp": 1739181983186,
     "user": {
      "displayName": "Marian Bucos",
      "userId": "04480462826549160389"
     },
     "user_tz": -120
    },
    "id": "52768b15"
   },
   "outputs": [
    {
     "data": {
      "text/plain": [
       "0    D\n",
       "1    B\n",
       "2    G\n",
       "3    J\n",
       "4    K\n",
       "Name: title, dtype: object"
      ]
     },
     "execution_count": 38,
     "metadata": {},
     "output_type": "execute_result"
    }
   ],
   "source": [
    "s.str[0:1].head()"
   ]
  },
  {
   "cell_type": "code",
   "execution_count": 39,
   "id": "ba3007af",
   "metadata": {
    "executionInfo": {
     "elapsed": 1651,
     "status": "aborted",
     "timestamp": 1739181983187,
     "user": {
      "displayName": "Marian Bucos",
      "userId": "04480462826549160389"
     },
     "user_tz": -120
    },
    "id": "ba3007af"
   },
   "outputs": [
    {
     "data": {
      "text/plain": [
       "title\n",
       "#    11\n",
       "'     2\n",
       "(     2\n",
       "1    39\n",
       "2    27\n",
       "Name: title, dtype: int64"
      ]
     },
     "execution_count": 39,
     "metadata": {},
     "output_type": "execute_result"
    }
   ],
   "source": [
    "s.groupby(s.str[0:1])\\\n",
    "    .count().head(5)"
   ]
  },
  {
   "cell_type": "code",
   "execution_count": 40,
   "id": "d2678524",
   "metadata": {
    "executionInfo": {
     "elapsed": 1648,
     "status": "aborted",
     "timestamp": 1739181983187,
     "user": {
      "displayName": "Marian Bucos",
      "userId": "04480462826549160389"
     },
     "user_tz": -120
    },
    "id": "d2678524"
   },
   "outputs": [
    {
     "data": {
      "text/plain": [
       "title\n",
       "T    1525\n",
       "S     719\n",
       "M     637\n",
       "B     576\n",
       "A     566\n",
       "Name: title, dtype: int64"
      ]
     },
     "execution_count": 40,
     "metadata": {},
     "output_type": "execute_result"
    }
   ],
   "source": [
    "s.groupby(s.str[0:1])\\\n",
    "    .count()\\\n",
    "    .sort_values(ascending=False)\\\n",
    "    .head()"
   ]
  },
  {
   "cell_type": "code",
   "execution_count": 41,
   "id": "bbe3584e",
   "metadata": {
    "executionInfo": {
     "elapsed": 1646,
     "status": "aborted",
     "timestamp": 1739181983188,
     "user": {
      "displayName": "Marian Bucos",
      "userId": "04480462826549160389"
     },
     "user_tz": -120
    },
    "id": "bbe3584e"
   },
   "outputs": [
    {
     "data": {
      "text/plain": [
       "([RangeIndex(start=0, stop=8807, step=1)],\n",
       " [Index(['nume', 'grad', 'id curs', 'denumire curs', 'adresa curs', 'birou'], dtype='object')])"
      ]
     },
     "execution_count": 41,
     "metadata": {},
     "output_type": "execute_result"
    }
   ],
   "source": [
    "s.axes, tutor.axes"
   ]
  },
  {
   "cell_type": "code",
   "execution_count": 42,
   "id": "ca5484c8",
   "metadata": {
    "executionInfo": {
     "elapsed": 1644,
     "status": "aborted",
     "timestamp": 1739181983189,
     "user": {
      "displayName": "Marian Bucos",
      "userId": "04480462826549160389"
     },
     "user_tz": -120
    },
    "id": "ca5484c8"
   },
   "outputs": [
    {
     "data": {
      "text/plain": [
       "(dtype('O'), dtype('O'))"
      ]
     },
     "execution_count": 42,
     "metadata": {},
     "output_type": "execute_result"
    }
   ],
   "source": [
    "s.dtype, tutor.dtype"
   ]
  },
  {
   "cell_type": "code",
   "execution_count": 43,
   "id": "0e6bf5f4",
   "metadata": {
    "executionInfo": {
     "elapsed": 1643,
     "status": "aborted",
     "timestamp": 1739181983190,
     "user": {
      "displayName": "Marian Bucos",
      "userId": "04480462826549160389"
     },
     "user_tz": -120
    },
    "id": "0e6bf5f4"
   },
   "outputs": [
    {
     "data": {
      "text/plain": [
       "(False, False)"
      ]
     },
     "execution_count": 43,
     "metadata": {},
     "output_type": "execute_result"
    }
   ],
   "source": [
    "s.hasnans, tutor.hasnans"
   ]
  },
  {
   "cell_type": "code",
   "execution_count": 44,
   "id": "58acf67d",
   "metadata": {
    "executionInfo": {
     "elapsed": 1641,
     "status": "aborted",
     "timestamp": 1739181983191,
     "user": {
      "displayName": "Marian Bucos",
      "userId": "04480462826549160389"
     },
     "user_tz": -120
    },
    "id": "58acf67d"
   },
   "outputs": [
    {
     "data": {
      "text/plain": [
       "(RangeIndex(start=0, stop=8807, step=1),\n",
       " Index(['nume', 'grad', 'id curs', 'denumire curs', 'adresa curs', 'birou'], dtype='object'))"
      ]
     },
     "execution_count": 44,
     "metadata": {},
     "output_type": "execute_result"
    }
   ],
   "source": [
    "s.index, tutor.index"
   ]
  },
  {
   "cell_type": "code",
   "execution_count": 45,
   "id": "d28f9184",
   "metadata": {
    "executionInfo": {
     "elapsed": 1642,
     "status": "aborted",
     "timestamp": 1739181983195,
     "user": {
      "displayName": "Marian Bucos",
      "userId": "04480462826549160389"
     },
     "user_tz": -120
    },
    "id": "d28f9184"
   },
   "outputs": [
    {
     "data": {
      "text/plain": [
       "('title', None)"
      ]
     },
     "execution_count": 45,
     "metadata": {},
     "output_type": "execute_result"
    }
   ],
   "source": [
    "s.name, tutor.name"
   ]
  },
  {
   "cell_type": "code",
   "execution_count": 46,
   "id": "5d4fde05",
   "metadata": {
    "executionInfo": {
     "elapsed": 1640,
     "status": "aborted",
     "timestamp": 1739181983196,
     "user": {
      "displayName": "Marian Bucos",
      "userId": "04480462826549160389"
     },
     "user_tz": -120
    },
    "id": "5d4fde05"
   },
   "outputs": [
    {
     "data": {
      "text/plain": [
       "(1, 1)"
      ]
     },
     "execution_count": 46,
     "metadata": {},
     "output_type": "execute_result"
    }
   ],
   "source": [
    "s.ndim, tutor.ndim"
   ]
  },
  {
   "cell_type": "code",
   "execution_count": 47,
   "id": "0aa22087",
   "metadata": {
    "executionInfo": {
     "elapsed": 1637,
     "status": "aborted",
     "timestamp": 1739181983196,
     "user": {
      "displayName": "Marian Bucos",
      "userId": "04480462826549160389"
     },
     "user_tz": -120
    },
    "id": "0aa22087"
   },
   "outputs": [
    {
     "data": {
      "text/plain": [
       "(70456, 48)"
      ]
     },
     "execution_count": 47,
     "metadata": {},
     "output_type": "execute_result"
    }
   ],
   "source": [
    "s.nbytes, tutor.nbytes"
   ]
  },
  {
   "cell_type": "code",
   "execution_count": 48,
   "id": "fb59f032",
   "metadata": {
    "executionInfo": {
     "elapsed": 1672,
     "status": "aborted",
     "timestamp": 1739181983234,
     "user": {
      "displayName": "Marian Bucos",
      "userId": "04480462826549160389"
     },
     "user_tz": -120
    },
    "id": "fb59f032"
   },
   "outputs": [
    {
     "data": {
      "text/plain": [
       "((8807,), (6,))"
      ]
     },
     "execution_count": 48,
     "metadata": {},
     "output_type": "execute_result"
    }
   ],
   "source": [
    "s.shape, tutor.shape"
   ]
  },
  {
   "cell_type": "code",
   "execution_count": 49,
   "id": "fcb535bc",
   "metadata": {
    "executionInfo": {
     "elapsed": 1670,
     "status": "aborted",
     "timestamp": 1739181983235,
     "user": {
      "displayName": "Marian Bucos",
      "userId": "04480462826549160389"
     },
     "user_tz": -120
    },
    "id": "fcb535bc"
   },
   "outputs": [
    {
     "data": {
      "text/plain": [
       "(8807, 6)"
      ]
     },
     "execution_count": 49,
     "metadata": {},
     "output_type": "execute_result"
    }
   ],
   "source": [
    "s.size, tutor.size"
   ]
  },
  {
   "cell_type": "code",
   "execution_count": 50,
   "id": "466d8a8d",
   "metadata": {
    "executionInfo": {
     "elapsed": 1669,
     "status": "aborted",
     "timestamp": 1739181983236,
     "user": {
      "displayName": "Marian Bucos",
      "userId": "04480462826549160389"
     },
     "user_tz": -120
    },
    "id": "466d8a8d"
   },
   "outputs": [
    {
     "data": {
      "text/plain": [
       "(array(['Dick Johnson Is Dead', 'Blood & Water', 'Ganglands', ...,\n",
       "        'Zombieland', 'Zoom', 'Zubaan'], shape=(8807,), dtype=object),\n",
       " array(['Marian Bucos', 'Prof.dr.ing.', 345,\n",
       "        'Programare pentru Ingineria Datelor',\n",
       "        'https://datalab.upt.ro/cursuri/programare-pentru-ingineria-datelor',\n",
       "        'DataLab B226'], dtype=object))"
      ]
     },
     "execution_count": 50,
     "metadata": {},
     "output_type": "execute_result"
    }
   ],
   "source": [
    "s.values, tutor.values"
   ]
  },
  {
   "cell_type": "code",
   "execution_count": 51,
   "id": "58139164",
   "metadata": {
    "executionInfo": {
     "elapsed": 1667,
     "status": "aborted",
     "timestamp": 1739181983237,
     "user": {
      "displayName": "Marian Bucos",
      "userId": "04480462826549160389"
     },
     "user_tz": -120
    },
    "id": "58139164"
   },
   "outputs": [
    {
     "data": {
      "text/plain": [
       "1    Blood & Water\n",
       "2        Ganglands\n",
       "Name: title, dtype: object"
      ]
     },
     "execution_count": 51,
     "metadata": {},
     "output_type": "execute_result"
    }
   ],
   "source": [
    "s.iloc[1:3]"
   ]
  },
  {
   "cell_type": "code",
   "execution_count": 52,
   "id": "6e882a61",
   "metadata": {
    "executionInfo": {
     "elapsed": 1664,
     "status": "aborted",
     "timestamp": 1739181983237,
     "user": {
      "displayName": "Marian Bucos",
      "userId": "04480462826549160389"
     },
     "user_tz": -120
    },
    "id": "6e882a61"
   },
   "outputs": [
    {
     "data": {
      "text/plain": [
       "nume       Marian Bucos\n",
       "id curs             345\n",
       "dtype: object"
      ]
     },
     "execution_count": 52,
     "metadata": {},
     "output_type": "execute_result"
    }
   ],
   "source": [
    "tutor.loc[['nume', 'id curs']]"
   ]
  },
  {
   "cell_type": "code",
   "execution_count": 53,
   "id": "3bc50015",
   "metadata": {
    "executionInfo": {
     "elapsed": 1662,
     "status": "aborted",
     "timestamp": 1739181983238,
     "user": {
      "displayName": "Marian Bucos",
      "userId": "04480462826549160389"
     },
     "user_tz": -120
    },
    "id": "3bc50015"
   },
   "outputs": [
    {
     "data": {
      "text/plain": [
       "dtype('O')"
      ]
     },
     "execution_count": 53,
     "metadata": {},
     "output_type": "execute_result"
    }
   ],
   "source": [
    "# <Series object>.dtype, <Series object>.dtypes - returneaza tipul datelor stocate\n",
    "s.dtype"
   ]
  },
  {
   "cell_type": "code",
   "execution_count": 54,
   "id": "3983501b",
   "metadata": {
    "executionInfo": {
     "elapsed": 1661,
     "status": "aborted",
     "timestamp": 1739181983239,
     "user": {
      "displayName": "Marian Bucos",
      "userId": "04480462826549160389"
     },
     "user_tz": -120
    },
    "id": "3983501b"
   },
   "outputs": [
    {
     "data": {
      "text/plain": [
       "(8807,)"
      ]
     },
     "execution_count": 54,
     "metadata": {},
     "output_type": "execute_result"
    }
   ],
   "source": [
    "# <Series object>.shape - returneaza un tuplu corespunzator numarului de elemente de la nivelul seriei\n",
    "s.shape"
   ]
  },
  {
   "cell_type": "code",
   "execution_count": 55,
   "id": "7e96bc94",
   "metadata": {
    "executionInfo": {
     "elapsed": 1659,
     "status": "aborted",
     "timestamp": 1739181983239,
     "user": {
      "displayName": "Marian Bucos",
      "userId": "04480462826549160389"
     },
     "user_tz": -120
    },
    "id": "7e96bc94"
   },
   "outputs": [
    {
     "data": {
      "text/plain": [
       "False"
      ]
     },
     "execution_count": 55,
     "metadata": {},
     "output_type": "execute_result"
    }
   ],
   "source": [
    "# <Series object>.empty - returneaza True daca seria nu are elemente\n",
    "s.empty"
   ]
  },
  {
   "cell_type": "code",
   "execution_count": 56,
   "id": "092ecdcf",
   "metadata": {
    "executionInfo": {
     "elapsed": 1657,
     "status": "aborted",
     "timestamp": 1739181983240,
     "user": {
      "displayName": "Marian Bucos",
      "userId": "04480462826549160389"
     },
     "user_tz": -120
    },
    "id": "092ecdcf"
   },
   "outputs": [
    {
     "data": {
      "text/plain": [
       "'title'"
      ]
     },
     "execution_count": 56,
     "metadata": {},
     "output_type": "execute_result"
    }
   ],
   "source": [
    "# <Series object>.name - returneaza numele seriei\n",
    "s.name"
   ]
  },
  {
   "cell_type": "markdown",
   "id": "01c2788c",
   "metadata": {
    "id": "01c2788c"
   },
   "source": [
    "### Structuri de date de tip DataFrame <a name=\"dataframe\"></a>"
   ]
  },
  {
   "cell_type": "code",
   "execution_count": 57,
   "id": "31ebc556",
   "metadata": {
    "executionInfo": {
     "elapsed": 1656,
     "status": "aborted",
     "timestamp": 1739181983241,
     "user": {
      "displayName": "Marian Bucos",
      "userId": "04480462826549160389"
     },
     "user_tz": -120
    },
    "id": "31ebc556"
   },
   "outputs": [],
   "source": [
    "df = pd.read_csv(\"../data/netflix_titles.csv\", sep=\",\", header=0)"
   ]
  },
  {
   "cell_type": "code",
   "execution_count": 118,
   "id": "2a59b37f",
   "metadata": {
    "executionInfo": {
     "elapsed": 1653,
     "status": "aborted",
     "timestamp": 1739181983241,
     "user": {
      "displayName": "Marian Bucos",
      "userId": "04480462826549160389"
     },
     "user_tz": -120
    },
    "id": "2a59b37f"
   },
   "outputs": [
    {
     "name": "stdout",
     "output_type": "stream",
     "text": [
      "  show_id     type                  title         director  \\\n",
      "0      s1    Movie   Dick Johnson Is Dead  Kirsten Johnson   \n",
      "1      s2  TV Show          Blood & Water              NaN   \n",
      "2      s3  TV Show              Ganglands  Julien Leclercq   \n",
      "3      s4  TV Show  Jailbirds New Orleans              NaN   \n",
      "4      s5  TV Show           Kota Factory              NaN   \n",
      "\n",
      "                                                cast        country  \\\n",
      "0                                                NaN  United States   \n",
      "1  Ama Qamata, Khosi Ngema, Gail Mabalane, Thaban...   South Africa   \n",
      "2  Sami Bouajila, Tracy Gotoas, Samuel Jouy, Nabi...            NaN   \n",
      "3                                                NaN            NaN   \n",
      "4  Mayur More, Jitendra Kumar, Ranjan Raj, Alam K...          India   \n",
      "\n",
      "           date_added  release_year rating   duration  \\\n",
      "0  September 25, 2021          2020  PG-13     90 min   \n",
      "1  September 24, 2021          2021  TV-MA  2 Seasons   \n",
      "2  September 24, 2021          2021  TV-MA   1 Season   \n",
      "3  September 24, 2021          2021  TV-MA   1 Season   \n",
      "4  September 24, 2021          2021  TV-MA  2 Seasons   \n",
      "\n",
      "                                           listed_in  \\\n",
      "0                                      Documentaries   \n",
      "1    International TV Shows, TV Dramas, TV Mysteries   \n",
      "2  Crime TV Shows, International TV Shows, TV Act...   \n",
      "3                             Docuseries, Reality TV   \n",
      "4  International TV Shows, Romantic TV Shows, TV ...   \n",
      "\n",
      "                                         description  \n",
      "0  As her father nears the end of his life, filmm...  \n",
      "1  After crossing paths at a party, a Cape Town t...  \n",
      "2  To protect his family from a powerful drug lor...  \n",
      "3  Feuds, flirtations and toilet talk go down amo...  \n",
      "4  In a city of coaching centers known to train I...  \n"
     ]
    }
   ],
   "source": [
    "print(df.head())"
   ]
  },
  {
   "cell_type": "code",
   "execution_count": 59,
   "id": "ee4602fc",
   "metadata": {
    "executionInfo": {
     "elapsed": 1649,
     "status": "aborted",
     "timestamp": 1739181983242,
     "user": {
      "displayName": "Marian Bucos",
      "userId": "04480462826549160389"
     },
     "user_tz": -120
    },
    "id": "ee4602fc"
   },
   "outputs": [
    {
     "data": {
      "text/plain": [
       "array(['show_id', 'type', 'title', 'director', 'cast', 'country',\n",
       "       'date_added', 'release_year', 'rating', 'duration', 'listed_in',\n",
       "       'description'], dtype=object)"
      ]
     },
     "execution_count": 59,
     "metadata": {},
     "output_type": "execute_result"
    }
   ],
   "source": [
    "df.columns.values"
   ]
  },
  {
   "cell_type": "code",
   "execution_count": 60,
   "id": "e56e9a8c",
   "metadata": {
    "executionInfo": {
     "elapsed": 1645,
     "status": "aborted",
     "timestamp": 1739181983242,
     "user": {
      "displayName": "Marian Bucos",
      "userId": "04480462826549160389"
     },
     "user_tz": -120
    },
    "id": "e56e9a8c"
   },
   "outputs": [
    {
     "data": {
      "text/plain": [
       "array([   0,    1,    2, ..., 8804, 8805, 8806], shape=(8807,))"
      ]
     },
     "execution_count": 60,
     "metadata": {},
     "output_type": "execute_result"
    }
   ],
   "source": [
    "df.index.values"
   ]
  },
  {
   "cell_type": "code",
   "execution_count": 61,
   "id": "59782c43",
   "metadata": {
    "executionInfo": {
     "elapsed": 1643,
     "status": "aborted",
     "timestamp": 1739181983243,
     "user": {
      "displayName": "Marian Bucos",
      "userId": "04480462826549160389"
     },
     "user_tz": -120
    },
    "id": "59782c43"
   },
   "outputs": [
    {
     "data": {
      "text/html": [
       "<div>\n",
       "<style scoped>\n",
       "    .dataframe tbody tr th:only-of-type {\n",
       "        vertical-align: middle;\n",
       "    }\n",
       "\n",
       "    .dataframe tbody tr th {\n",
       "        vertical-align: top;\n",
       "    }\n",
       "\n",
       "    .dataframe thead th {\n",
       "        text-align: right;\n",
       "    }\n",
       "</style>\n",
       "<table border=\"1\" class=\"dataframe\">\n",
       "  <thead>\n",
       "    <tr style=\"text-align: right;\">\n",
       "      <th></th>\n",
       "      <th>type</th>\n",
       "      <th>title</th>\n",
       "      <th>director</th>\n",
       "      <th>cast</th>\n",
       "      <th>country</th>\n",
       "      <th>date_added</th>\n",
       "      <th>release_year</th>\n",
       "      <th>rating</th>\n",
       "      <th>duration</th>\n",
       "      <th>listed_in</th>\n",
       "      <th>description</th>\n",
       "    </tr>\n",
       "    <tr>\n",
       "      <th>show_id</th>\n",
       "      <th></th>\n",
       "      <th></th>\n",
       "      <th></th>\n",
       "      <th></th>\n",
       "      <th></th>\n",
       "      <th></th>\n",
       "      <th></th>\n",
       "      <th></th>\n",
       "      <th></th>\n",
       "      <th></th>\n",
       "      <th></th>\n",
       "    </tr>\n",
       "  </thead>\n",
       "  <tbody>\n",
       "    <tr>\n",
       "      <th>s1</th>\n",
       "      <td>Movie</td>\n",
       "      <td>Dick Johnson Is Dead</td>\n",
       "      <td>Kirsten Johnson</td>\n",
       "      <td>NaN</td>\n",
       "      <td>United States</td>\n",
       "      <td>September 25, 2021</td>\n",
       "      <td>2020</td>\n",
       "      <td>PG-13</td>\n",
       "      <td>90 min</td>\n",
       "      <td>Documentaries</td>\n",
       "      <td>As her father nears the end of his life, filmm...</td>\n",
       "    </tr>\n",
       "    <tr>\n",
       "      <th>s2</th>\n",
       "      <td>TV Show</td>\n",
       "      <td>Blood &amp; Water</td>\n",
       "      <td>NaN</td>\n",
       "      <td>Ama Qamata, Khosi Ngema, Gail Mabalane, Thaban...</td>\n",
       "      <td>South Africa</td>\n",
       "      <td>September 24, 2021</td>\n",
       "      <td>2021</td>\n",
       "      <td>TV-MA</td>\n",
       "      <td>2 Seasons</td>\n",
       "      <td>International TV Shows, TV Dramas, TV Mysteries</td>\n",
       "      <td>After crossing paths at a party, a Cape Town t...</td>\n",
       "    </tr>\n",
       "    <tr>\n",
       "      <th>s3</th>\n",
       "      <td>TV Show</td>\n",
       "      <td>Ganglands</td>\n",
       "      <td>Julien Leclercq</td>\n",
       "      <td>Sami Bouajila, Tracy Gotoas, Samuel Jouy, Nabi...</td>\n",
       "      <td>NaN</td>\n",
       "      <td>September 24, 2021</td>\n",
       "      <td>2021</td>\n",
       "      <td>TV-MA</td>\n",
       "      <td>1 Season</td>\n",
       "      <td>Crime TV Shows, International TV Shows, TV Act...</td>\n",
       "      <td>To protect his family from a powerful drug lor...</td>\n",
       "    </tr>\n",
       "    <tr>\n",
       "      <th>s4</th>\n",
       "      <td>TV Show</td>\n",
       "      <td>Jailbirds New Orleans</td>\n",
       "      <td>NaN</td>\n",
       "      <td>NaN</td>\n",
       "      <td>NaN</td>\n",
       "      <td>September 24, 2021</td>\n",
       "      <td>2021</td>\n",
       "      <td>TV-MA</td>\n",
       "      <td>1 Season</td>\n",
       "      <td>Docuseries, Reality TV</td>\n",
       "      <td>Feuds, flirtations and toilet talk go down amo...</td>\n",
       "    </tr>\n",
       "    <tr>\n",
       "      <th>s5</th>\n",
       "      <td>TV Show</td>\n",
       "      <td>Kota Factory</td>\n",
       "      <td>NaN</td>\n",
       "      <td>Mayur More, Jitendra Kumar, Ranjan Raj, Alam K...</td>\n",
       "      <td>India</td>\n",
       "      <td>September 24, 2021</td>\n",
       "      <td>2021</td>\n",
       "      <td>TV-MA</td>\n",
       "      <td>2 Seasons</td>\n",
       "      <td>International TV Shows, Romantic TV Shows, TV ...</td>\n",
       "      <td>In a city of coaching centers known to train I...</td>\n",
       "    </tr>\n",
       "  </tbody>\n",
       "</table>\n",
       "</div>"
      ],
      "text/plain": [
       "            type                  title         director  \\\n",
       "show_id                                                    \n",
       "s1         Movie   Dick Johnson Is Dead  Kirsten Johnson   \n",
       "s2       TV Show          Blood & Water              NaN   \n",
       "s3       TV Show              Ganglands  Julien Leclercq   \n",
       "s4       TV Show  Jailbirds New Orleans              NaN   \n",
       "s5       TV Show           Kota Factory              NaN   \n",
       "\n",
       "                                                      cast        country  \\\n",
       "show_id                                                                     \n",
       "s1                                                     NaN  United States   \n",
       "s2       Ama Qamata, Khosi Ngema, Gail Mabalane, Thaban...   South Africa   \n",
       "s3       Sami Bouajila, Tracy Gotoas, Samuel Jouy, Nabi...            NaN   \n",
       "s4                                                     NaN            NaN   \n",
       "s5       Mayur More, Jitendra Kumar, Ranjan Raj, Alam K...          India   \n",
       "\n",
       "                 date_added  release_year rating   duration  \\\n",
       "show_id                                                       \n",
       "s1       September 25, 2021          2020  PG-13     90 min   \n",
       "s2       September 24, 2021          2021  TV-MA  2 Seasons   \n",
       "s3       September 24, 2021          2021  TV-MA   1 Season   \n",
       "s4       September 24, 2021          2021  TV-MA   1 Season   \n",
       "s5       September 24, 2021          2021  TV-MA  2 Seasons   \n",
       "\n",
       "                                                 listed_in  \\\n",
       "show_id                                                      \n",
       "s1                                           Documentaries   \n",
       "s2         International TV Shows, TV Dramas, TV Mysteries   \n",
       "s3       Crime TV Shows, International TV Shows, TV Act...   \n",
       "s4                                  Docuseries, Reality TV   \n",
       "s5       International TV Shows, Romantic TV Shows, TV ...   \n",
       "\n",
       "                                               description  \n",
       "show_id                                                     \n",
       "s1       As her father nears the end of his life, filmm...  \n",
       "s2       After crossing paths at a party, a Cape Town t...  \n",
       "s3       To protect his family from a powerful drug lor...  \n",
       "s4       Feuds, flirtations and toilet talk go down amo...  \n",
       "s5       In a city of coaching centers known to train I...  "
      ]
     },
     "execution_count": 61,
     "metadata": {},
     "output_type": "execute_result"
    }
   ],
   "source": [
    "df.set_index('show_id').head()"
   ]
  },
  {
   "cell_type": "code",
   "execution_count": 62,
   "id": "0e9916a4",
   "metadata": {
    "executionInfo": {
     "elapsed": 1641,
     "status": "aborted",
     "timestamp": 1739181983244,
     "user": {
      "displayName": "Marian Bucos",
      "userId": "04480462826549160389"
     },
     "user_tz": -120
    },
    "id": "0e9916a4"
   },
   "outputs": [
    {
     "data": {
      "text/plain": [
       "array(['s1', 's2', 's3', ..., 's8805', 's8806', 's8807'],\n",
       "      shape=(8807,), dtype=object)"
      ]
     },
     "execution_count": 62,
     "metadata": {},
     "output_type": "execute_result"
    }
   ],
   "source": [
    "# Seteaza indexul (etichetele randurilor) pentru structura de tip DataFrame utilizand una sau mai multe coloane.\n",
    "# Noul index poate inlocui indexul precedent sau il poate extinde.\n",
    "df.set_index('show_id').index.values"
   ]
  },
  {
   "cell_type": "code",
   "execution_count": 63,
   "id": "f1273214",
   "metadata": {
    "executionInfo": {
     "elapsed": 1638,
     "status": "aborted",
     "timestamp": 1739181983244,
     "user": {
      "displayName": "Marian Bucos",
      "userId": "04480462826549160389"
     },
     "user_tz": -120
    },
    "id": "f1273214"
   },
   "outputs": [
    {
     "data": {
      "text/plain": [
       "array([   0,    1,    2, ..., 8804, 8805, 8806], shape=(8807,))"
      ]
     },
     "execution_count": 63,
     "metadata": {},
     "output_type": "execute_result"
    }
   ],
   "source": [
    "# Reseteaza indexul structurii de tip DataFrame si utilizeaza in schimb indexul implicit.\n",
    "df.reset_index().index.values"
   ]
  },
  {
   "cell_type": "code",
   "execution_count": 64,
   "id": "f4dea8c1",
   "metadata": {
    "executionInfo": {
     "elapsed": 1636,
     "status": "aborted",
     "timestamp": 1739181983245,
     "user": {
      "displayName": "Marian Bucos",
      "userId": "04480462826549160389"
     },
     "user_tz": -120
    },
    "id": "f4dea8c1"
   },
   "outputs": [
    {
     "name": "stdout",
     "output_type": "stream",
     "text": [
      "<class 'pandas.core.frame.DataFrame'>\n",
      "RangeIndex: 8807 entries, 0 to 8806\n",
      "Data columns (total 12 columns):\n",
      " #   Column        Non-Null Count  Dtype \n",
      "---  ------        --------------  ----- \n",
      " 0   show_id       8807 non-null   object\n",
      " 1   type          8807 non-null   object\n",
      " 2   title         8807 non-null   object\n",
      " 3   director      6173 non-null   object\n",
      " 4   cast          7982 non-null   object\n",
      " 5   country       7976 non-null   object\n",
      " 6   date_added    8797 non-null   object\n",
      " 7   release_year  8807 non-null   int64 \n",
      " 8   rating        8803 non-null   object\n",
      " 9   duration      8804 non-null   object\n",
      " 10  listed_in     8807 non-null   object\n",
      " 11  description   8807 non-null   object\n",
      "dtypes: int64(1), object(11)\n",
      "memory usage: 825.8+ KB\n"
     ]
    }
   ],
   "source": [
    "df.info()"
   ]
  },
  {
   "cell_type": "code",
   "execution_count": 65,
   "id": "16389a2f",
   "metadata": {
    "executionInfo": {
     "elapsed": 1636,
     "status": "aborted",
     "timestamp": 1739181983245,
     "user": {
      "displayName": "Marian Bucos",
      "userId": "04480462826549160389"
     },
     "user_tz": -120
    },
    "id": "16389a2f"
   },
   "outputs": [],
   "source": [
    "tutori = pd.DataFrame(\n",
    "    data={'nume': ['Adrian Cosma', 'Mihai Popescu', 'Florin Vlad', 'Radu Marinescu'],\n",
    "          'grad': ['Sl', 'Sl', 'Prof', 'Prof'],\n",
    "          'birou': ['A236', 'B123', 'C314', 'A210'],\n",
    "          'varsta': [43, 35, 56, 62],\n",
    "          'departament': ['COM', 'MEO', 'EA', 'COM']\n",
    "         },\n",
    "    index=pd.date_range(\n",
    "        start='1/10/2010',\n",
    "        end='1/10/2014',\n",
    "        periods=4,\n",
    "        name='data_angajarii'\n",
    "    )\n",
    ")"
   ]
  },
  {
   "cell_type": "code",
   "execution_count": 66,
   "id": "c687136d",
   "metadata": {
    "executionInfo": {
     "elapsed": 1635,
     "status": "aborted",
     "timestamp": 1739181983246,
     "user": {
      "displayName": "Marian Bucos",
      "userId": "04480462826549160389"
     },
     "user_tz": -120
    },
    "id": "c687136d"
   },
   "outputs": [
    {
     "name": "stdout",
     "output_type": "stream",
     "text": [
      "                          nume  grad birou  varsta departament\n",
      "data_angajarii                                                \n",
      "2010-01-10        Adrian Cosma    Sl  A236      43         COM\n",
      "2011-05-12       Mihai Popescu    Sl  B123      35         MEO\n",
      "2012-09-10         Florin Vlad  Prof  C314      56          EA\n",
      "2014-01-10      Radu Marinescu  Prof  A210      62         COM\n"
     ]
    }
   ],
   "source": [
    "print(tutori)"
   ]
  },
  {
   "cell_type": "code",
   "execution_count": 67,
   "id": "ad3badfe",
   "metadata": {
    "executionInfo": {
     "elapsed": 1634,
     "status": "aborted",
     "timestamp": 1739181983246,
     "user": {
      "displayName": "Marian Bucos",
      "userId": "04480462826549160389"
     },
     "user_tz": -120
    },
    "id": "ad3badfe"
   },
   "outputs": [
    {
     "name": "stdout",
     "output_type": "stream",
     "text": [
      "<class 'pandas.core.frame.DataFrame'>\n",
      "DatetimeIndex: 4 entries, 2010-01-10 to 2014-01-10\n",
      "Data columns (total 5 columns):\n",
      " #   Column       Non-Null Count  Dtype \n",
      "---  ------       --------------  ----- \n",
      " 0   nume         4 non-null      object\n",
      " 1   grad         4 non-null      object\n",
      " 2   birou        4 non-null      object\n",
      " 3   varsta       4 non-null      int64 \n",
      " 4   departament  4 non-null      object\n",
      "dtypes: int64(1), object(4)\n",
      "memory usage: 192.0+ bytes\n"
     ]
    }
   ],
   "source": [
    "tutori.info()"
   ]
  },
  {
   "cell_type": "code",
   "execution_count": 68,
   "id": "b35ccc55",
   "metadata": {
    "executionInfo": {
     "elapsed": 1633,
     "status": "aborted",
     "timestamp": 1739181983247,
     "user": {
      "displayName": "Marian Bucos",
      "userId": "04480462826549160389"
     },
     "user_tz": -120
    },
    "id": "b35ccc55"
   },
   "outputs": [],
   "source": [
    "orase =  pd.DataFrame(\n",
    "    ['Timisoara', 'Cluj-Napoca', 'Bucuresti', 'Iasi', 'Constanta', 'Brasov', 'Anina'],\n",
    "    columns=['nume'])"
   ]
  },
  {
   "cell_type": "code",
   "execution_count": 69,
   "id": "6f3254ef",
   "metadata": {
    "executionInfo": {
     "elapsed": 1632,
     "status": "aborted",
     "timestamp": 1739181983248,
     "user": {
      "displayName": "Marian Bucos",
      "userId": "04480462826549160389"
     },
     "user_tz": -120
    },
    "id": "6f3254ef"
   },
   "outputs": [
    {
     "data": {
      "text/html": [
       "<div>\n",
       "<style scoped>\n",
       "    .dataframe tbody tr th:only-of-type {\n",
       "        vertical-align: middle;\n",
       "    }\n",
       "\n",
       "    .dataframe tbody tr th {\n",
       "        vertical-align: top;\n",
       "    }\n",
       "\n",
       "    .dataframe thead th {\n",
       "        text-align: right;\n",
       "    }\n",
       "</style>\n",
       "<table border=\"1\" class=\"dataframe\">\n",
       "  <thead>\n",
       "    <tr style=\"text-align: right;\">\n",
       "      <th></th>\n",
       "      <th>nume</th>\n",
       "    </tr>\n",
       "  </thead>\n",
       "  <tbody>\n",
       "    <tr>\n",
       "      <th>0</th>\n",
       "      <td>Timisoara</td>\n",
       "    </tr>\n",
       "    <tr>\n",
       "      <th>1</th>\n",
       "      <td>Cluj-Napoca</td>\n",
       "    </tr>\n",
       "    <tr>\n",
       "      <th>2</th>\n",
       "      <td>Bucuresti</td>\n",
       "    </tr>\n",
       "    <tr>\n",
       "      <th>3</th>\n",
       "      <td>Iasi</td>\n",
       "    </tr>\n",
       "    <tr>\n",
       "      <th>4</th>\n",
       "      <td>Constanta</td>\n",
       "    </tr>\n",
       "    <tr>\n",
       "      <th>5</th>\n",
       "      <td>Brasov</td>\n",
       "    </tr>\n",
       "    <tr>\n",
       "      <th>6</th>\n",
       "      <td>Anina</td>\n",
       "    </tr>\n",
       "  </tbody>\n",
       "</table>\n",
       "</div>"
      ],
      "text/plain": [
       "          nume\n",
       "0    Timisoara\n",
       "1  Cluj-Napoca\n",
       "2    Bucuresti\n",
       "3         Iasi\n",
       "4    Constanta\n",
       "5       Brasov\n",
       "6        Anina"
      ]
     },
     "execution_count": 69,
     "metadata": {},
     "output_type": "execute_result"
    }
   ],
   "source": [
    "orase"
   ]
  },
  {
   "cell_type": "code",
   "execution_count": 70,
   "id": "e0d02210",
   "metadata": {
    "executionInfo": {
     "elapsed": 1633,
     "status": "aborted",
     "timestamp": 1739181983249,
     "user": {
      "displayName": "Marian Bucos",
      "userId": "04480462826549160389"
     },
     "user_tz": -120
    },
    "id": "e0d02210"
   },
   "outputs": [],
   "source": [
    "orase =  pd.DataFrame([\n",
    "    {'nume': 'Timisoara', 'judet': 'Timis'},\n",
    "    {'nume': 'Cluj-Napoca'},\n",
    "    {'nume': 'Bucuresti'},\n",
    "    {'nume': 'Iasi', 'judet': 'Iasi'},\n",
    "    {'nume': 'Constanta', 'judet': 'Constanta'},\n",
    "    {'nume': 'Brasov', 'judet': 'Brasov'},\n",
    "    {'nume': 'Anina', 'judet': 'Caras-Severin'}\n",
    "])"
   ]
  },
  {
   "cell_type": "code",
   "execution_count": 71,
   "id": "e1c45b8f",
   "metadata": {
    "executionInfo": {
     "elapsed": 1630,
     "status": "aborted",
     "timestamp": 1739181983250,
     "user": {
      "displayName": "Marian Bucos",
      "userId": "04480462826549160389"
     },
     "user_tz": -120
    },
    "id": "e1c45b8f"
   },
   "outputs": [
    {
     "data": {
      "text/html": [
       "<div>\n",
       "<style scoped>\n",
       "    .dataframe tbody tr th:only-of-type {\n",
       "        vertical-align: middle;\n",
       "    }\n",
       "\n",
       "    .dataframe tbody tr th {\n",
       "        vertical-align: top;\n",
       "    }\n",
       "\n",
       "    .dataframe thead th {\n",
       "        text-align: right;\n",
       "    }\n",
       "</style>\n",
       "<table border=\"1\" class=\"dataframe\">\n",
       "  <thead>\n",
       "    <tr style=\"text-align: right;\">\n",
       "      <th></th>\n",
       "      <th>nume</th>\n",
       "      <th>judet</th>\n",
       "    </tr>\n",
       "  </thead>\n",
       "  <tbody>\n",
       "    <tr>\n",
       "      <th>0</th>\n",
       "      <td>Timisoara</td>\n",
       "      <td>Timis</td>\n",
       "    </tr>\n",
       "    <tr>\n",
       "      <th>1</th>\n",
       "      <td>Cluj-Napoca</td>\n",
       "      <td>NaN</td>\n",
       "    </tr>\n",
       "    <tr>\n",
       "      <th>2</th>\n",
       "      <td>Bucuresti</td>\n",
       "      <td>NaN</td>\n",
       "    </tr>\n",
       "    <tr>\n",
       "      <th>3</th>\n",
       "      <td>Iasi</td>\n",
       "      <td>Iasi</td>\n",
       "    </tr>\n",
       "    <tr>\n",
       "      <th>4</th>\n",
       "      <td>Constanta</td>\n",
       "      <td>Constanta</td>\n",
       "    </tr>\n",
       "    <tr>\n",
       "      <th>5</th>\n",
       "      <td>Brasov</td>\n",
       "      <td>Brasov</td>\n",
       "    </tr>\n",
       "    <tr>\n",
       "      <th>6</th>\n",
       "      <td>Anina</td>\n",
       "      <td>Caras-Severin</td>\n",
       "    </tr>\n",
       "  </tbody>\n",
       "</table>\n",
       "</div>"
      ],
      "text/plain": [
       "          nume          judet\n",
       "0    Timisoara          Timis\n",
       "1  Cluj-Napoca            NaN\n",
       "2    Bucuresti            NaN\n",
       "3         Iasi           Iasi\n",
       "4    Constanta      Constanta\n",
       "5       Brasov         Brasov\n",
       "6        Anina  Caras-Severin"
      ]
     },
     "execution_count": 71,
     "metadata": {},
     "output_type": "execute_result"
    }
   ],
   "source": [
    "orase"
   ]
  },
  {
   "cell_type": "code",
   "execution_count": 72,
   "id": "85b87cd4",
   "metadata": {
    "executionInfo": {
     "elapsed": 1630,
     "status": "aborted",
     "timestamp": 1739181983250,
     "user": {
      "displayName": "Marian Bucos",
      "userId": "04480462826549160389"
     },
     "user_tz": -120
    },
    "id": "85b87cd4"
   },
   "outputs": [],
   "source": [
    "title = pd.read_csv(\"../data/netflix_titles.csv\", sep=\",\", usecols=['title']).squeeze(\"columns\")"
   ]
  },
  {
   "cell_type": "code",
   "execution_count": 73,
   "id": "51b8865b",
   "metadata": {
    "executionInfo": {
     "elapsed": 1630,
     "status": "aborted",
     "timestamp": 1739181983251,
     "user": {
      "displayName": "Marian Bucos",
      "userId": "04480462826549160389"
     },
     "user_tz": -120
    },
    "id": "51b8865b"
   },
   "outputs": [],
   "source": [
    "director = df['director']"
   ]
  },
  {
   "cell_type": "code",
   "execution_count": 74,
   "id": "53633d0f",
   "metadata": {
    "executionInfo": {
     "elapsed": 1631,
     "status": "aborted",
     "timestamp": 1739181983252,
     "user": {
      "displayName": "Marian Bucos",
      "userId": "04480462826549160389"
     },
     "user_tz": -120
    },
    "id": "53633d0f"
   },
   "outputs": [],
   "source": [
    "df2 = pd.DataFrame({\n",
    "    'title': title,\n",
    "    'director': director,\n",
    "    'imdb': np.nan,\n",
    "    'views': np.random.randint(1, 1000000, size=len(df.index))})"
   ]
  },
  {
   "cell_type": "code",
   "execution_count": 75,
   "id": "37e58c98",
   "metadata": {
    "executionInfo": {
     "elapsed": 1628,
     "status": "aborted",
     "timestamp": 1739181983252,
     "user": {
      "displayName": "Marian Bucos",
      "userId": "04480462826549160389"
     },
     "user_tz": -120
    },
    "id": "37e58c98"
   },
   "outputs": [
    {
     "name": "stdout",
     "output_type": "stream",
     "text": [
      "                      title         director  imdb   views\n",
      "0      Dick Johnson Is Dead  Kirsten Johnson   NaN  655091\n",
      "1             Blood & Water              NaN   NaN     290\n",
      "2                 Ganglands  Julien Leclercq   NaN  437529\n",
      "3     Jailbirds New Orleans              NaN   NaN  188782\n",
      "4              Kota Factory              NaN   NaN  566950\n",
      "...                     ...              ...   ...     ...\n",
      "8802                 Zodiac    David Fincher   NaN  507898\n",
      "8803            Zombie Dumb              NaN   NaN  603817\n",
      "8804             Zombieland  Ruben Fleischer   NaN    5335\n",
      "8805                   Zoom     Peter Hewitt   NaN  490185\n",
      "8806                 Zubaan      Mozez Singh   NaN  364619\n",
      "\n",
      "[8807 rows x 4 columns]\n"
     ]
    }
   ],
   "source": [
    "print(df2)"
   ]
  },
  {
   "cell_type": "code",
   "execution_count": 76,
   "id": "581a39d5",
   "metadata": {
    "executionInfo": {
     "elapsed": 1626,
     "status": "aborted",
     "timestamp": 1739181983253,
     "user": {
      "displayName": "Marian Bucos",
      "userId": "04480462826549160389"
     },
     "user_tz": -120
    },
    "id": "581a39d5"
   },
   "outputs": [
    {
     "name": "stdout",
     "output_type": "stream",
     "text": [
      "<class 'pandas.core.frame.DataFrame'>\n",
      "RangeIndex: 8807 entries, 0 to 8806\n",
      "Data columns (total 4 columns):\n",
      " #   Column    Non-Null Count  Dtype  \n",
      "---  ------    --------------  -----  \n",
      " 0   title     8807 non-null   object \n",
      " 1   director  6173 non-null   object \n",
      " 2   imdb      0 non-null      float64\n",
      " 3   views     8807 non-null   int32  \n",
      "dtypes: float64(1), int32(1), object(2)\n",
      "memory usage: 240.9+ KB\n"
     ]
    }
   ],
   "source": [
    "df2.info()"
   ]
  },
  {
   "cell_type": "code",
   "execution_count": 77,
   "id": "26aabe1f",
   "metadata": {
    "executionInfo": {
     "elapsed": 1623,
     "status": "aborted",
     "timestamp": 1739181983253,
     "user": {
      "displayName": "Marian Bucos",
      "userId": "04480462826549160389"
     },
     "user_tz": -120
    },
    "id": "26aabe1f"
   },
   "outputs": [
    {
     "data": {
      "text/plain": [
       "RangeIndex(start=0, stop=8807, step=1)"
      ]
     },
     "execution_count": 77,
     "metadata": {},
     "output_type": "execute_result"
    }
   ],
   "source": [
    "df2.index"
   ]
  },
  {
   "cell_type": "code",
   "execution_count": 78,
   "id": "3496228e",
   "metadata": {
    "executionInfo": {
     "elapsed": 1622,
     "status": "aborted",
     "timestamp": 1739181983254,
     "user": {
      "displayName": "Marian Bucos",
      "userId": "04480462826549160389"
     },
     "user_tz": -120
    },
    "id": "3496228e"
   },
   "outputs": [
    {
     "data": {
      "text/plain": [
       "Index(['title', 'director', 'imdb', 'views'], dtype='object')"
      ]
     },
     "execution_count": 78,
     "metadata": {},
     "output_type": "execute_result"
    }
   ],
   "source": [
    "df2.columns"
   ]
  },
  {
   "cell_type": "code",
   "execution_count": 79,
   "id": "844451b3",
   "metadata": {
    "executionInfo": {
     "elapsed": 1621,
     "status": "aborted",
     "timestamp": 1739181983256,
     "user": {
      "displayName": "Marian Bucos",
      "userId": "04480462826549160389"
     },
     "user_tz": -120
    },
    "id": "844451b3"
   },
   "outputs": [
    {
     "data": {
      "text/plain": [
       "array([['Dick Johnson Is Dead', 'Kirsten Johnson', nan, 655091],\n",
       "       ['Blood & Water', nan, nan, 290],\n",
       "       ['Ganglands', 'Julien Leclercq', nan, 437529],\n",
       "       ...,\n",
       "       ['Zombieland', 'Ruben Fleischer', nan, 5335],\n",
       "       ['Zoom', 'Peter Hewitt', nan, 490185],\n",
       "       ['Zubaan', 'Mozez Singh', nan, 364619]],\n",
       "      shape=(8807, 4), dtype=object)"
      ]
     },
     "execution_count": 79,
     "metadata": {},
     "output_type": "execute_result"
    }
   ],
   "source": [
    "df2.values"
   ]
  },
  {
   "cell_type": "code",
   "execution_count": 80,
   "id": "532ad9ab",
   "metadata": {
    "executionInfo": {
     "elapsed": 1622,
     "status": "aborted",
     "timestamp": 1739181983257,
     "user": {
      "displayName": "Marian Bucos",
      "userId": "04480462826549160389"
     },
     "user_tz": -120
    },
    "id": "532ad9ab"
   },
   "outputs": [],
   "source": [
    "title1 = df['title']"
   ]
  },
  {
   "cell_type": "code",
   "execution_count": 81,
   "id": "3ab62ef9",
   "metadata": {
    "executionInfo": {
     "elapsed": 1620,
     "status": "aborted",
     "timestamp": 1739181983258,
     "user": {
      "displayName": "Marian Bucos",
      "userId": "04480462826549160389"
     },
     "user_tz": -120
    },
    "id": "3ab62ef9"
   },
   "outputs": [
    {
     "name": "stdout",
     "output_type": "stream",
     "text": [
      "0     Dick Johnson Is Dead\n",
      "1            Blood & Water\n",
      "2                Ganglands\n",
      "3    Jailbirds New Orleans\n",
      "4             Kota Factory\n",
      "Name: title, dtype: object\n"
     ]
    }
   ],
   "source": [
    "print(title1.head())"
   ]
  },
  {
   "cell_type": "code",
   "execution_count": 82,
   "id": "b7acd211",
   "metadata": {
    "executionInfo": {
     "elapsed": 1618,
     "status": "aborted",
     "timestamp": 1739181983259,
     "user": {
      "displayName": "Marian Bucos",
      "userId": "04480462826549160389"
     },
     "user_tz": -120
    },
    "id": "b7acd211"
   },
   "outputs": [
    {
     "data": {
      "text/plain": [
       "pandas.core.series.Series"
      ]
     },
     "execution_count": 82,
     "metadata": {},
     "output_type": "execute_result"
    }
   ],
   "source": [
    "type(title1)"
   ]
  },
  {
   "cell_type": "code",
   "execution_count": 83,
   "id": "8038623f",
   "metadata": {
    "executionInfo": {
     "elapsed": 1619,
     "status": "aborted",
     "timestamp": 1739181983260,
     "user": {
      "displayName": "Marian Bucos",
      "userId": "04480462826549160389"
     },
     "user_tz": -120
    },
    "id": "8038623f"
   },
   "outputs": [],
   "source": [
    "title2 = df[['title']]"
   ]
  },
  {
   "cell_type": "code",
   "execution_count": 84,
   "id": "639287ee",
   "metadata": {
    "executionInfo": {
     "elapsed": 1617,
     "status": "aborted",
     "timestamp": 1739181983261,
     "user": {
      "displayName": "Marian Bucos",
      "userId": "04480462826549160389"
     },
     "user_tz": -120
    },
    "id": "639287ee"
   },
   "outputs": [
    {
     "name": "stdout",
     "output_type": "stream",
     "text": [
      "                   title\n",
      "0   Dick Johnson Is Dead\n",
      "1          Blood & Water\n",
      "2              Ganglands\n",
      "3  Jailbirds New Orleans\n",
      "4           Kota Factory\n"
     ]
    }
   ],
   "source": [
    "print(title2.head())"
   ]
  },
  {
   "cell_type": "code",
   "execution_count": 85,
   "id": "6b0cd003",
   "metadata": {
    "executionInfo": {
     "elapsed": 1615,
     "status": "aborted",
     "timestamp": 1739181983262,
     "user": {
      "displayName": "Marian Bucos",
      "userId": "04480462826549160389"
     },
     "user_tz": -120
    },
    "id": "6b0cd003"
   },
   "outputs": [
    {
     "data": {
      "text/plain": [
       "pandas.core.frame.DataFrame"
      ]
     },
     "execution_count": 85,
     "metadata": {},
     "output_type": "execute_result"
    }
   ],
   "source": [
    "type(title2)"
   ]
  },
  {
   "cell_type": "code",
   "execution_count": 86,
   "id": "883a9cbe",
   "metadata": {
    "executionInfo": {
     "elapsed": 1613,
     "status": "aborted",
     "timestamp": 1739181983263,
     "user": {
      "displayName": "Marian Bucos",
      "userId": "04480462826549160389"
     },
     "user_tz": -120
    },
    "id": "883a9cbe"
   },
   "outputs": [
    {
     "name": "stdout",
     "output_type": "stream",
     "text": [
      "                      title         director\n",
      "0      Dick Johnson Is Dead  Kirsten Johnson\n",
      "1             Blood & Water              NaN\n",
      "2                 Ganglands  Julien Leclercq\n",
      "3     Jailbirds New Orleans              NaN\n",
      "4              Kota Factory              NaN\n",
      "...                     ...              ...\n",
      "8802                 Zodiac    David Fincher\n",
      "8803            Zombie Dumb              NaN\n",
      "8804             Zombieland  Ruben Fleischer\n",
      "8805                   Zoom     Peter Hewitt\n",
      "8806                 Zubaan      Mozez Singh\n",
      "\n",
      "[8807 rows x 2 columns]\n"
     ]
    }
   ],
   "source": [
    "print(df[['title', 'director']])"
   ]
  },
  {
   "cell_type": "code",
   "execution_count": 87,
   "id": "3b198ff1",
   "metadata": {
    "executionInfo": {
     "elapsed": 1611,
     "status": "aborted",
     "timestamp": 1739181983263,
     "user": {
      "displayName": "Marian Bucos",
      "userId": "04480462826549160389"
     },
     "user_tz": -120
    },
    "id": "3b198ff1"
   },
   "outputs": [
    {
     "data": {
      "text/plain": [
       "(                          nume  grad birou  varsta departament\n",
       " data_angajarii                                                \n",
       " 2010-01-10        Adrian Cosma    Sl  A236      43         COM\n",
       " 2011-05-12       Mihai Popescu    Sl  B123      35         MEO\n",
       " 2012-09-10         Florin Vlad  Prof  C314      56          EA\n",
       " 2014-01-10      Radu Marinescu  Prof  A210      62         COM,\n",
       " pandas.core.frame.DataFrame)"
      ]
     },
     "execution_count": 87,
     "metadata": {},
     "output_type": "execute_result"
    }
   ],
   "source": [
    "tutori, \\\n",
    "type(tutori)"
   ]
  },
  {
   "cell_type": "code",
   "execution_count": 88,
   "id": "e7735a53",
   "metadata": {
    "executionInfo": {
     "elapsed": 1609,
     "status": "aborted",
     "timestamp": 1739181983264,
     "user": {
      "displayName": "Marian Bucos",
      "userId": "04480462826549160389"
     },
     "user_tz": -120
    },
    "id": "e7735a53"
   },
   "outputs": [
    {
     "data": {
      "text/plain": [
       "('Florin Vlad', str)"
      ]
     },
     "execution_count": 88,
     "metadata": {},
     "output_type": "execute_result"
    }
   ],
   "source": [
    "tutori.loc['2012-09-10', 'nume'], \\\n",
    "type(tutori.loc['2012-09-10', 'nume'])"
   ]
  },
  {
   "cell_type": "code",
   "execution_count": 89,
   "id": "61a20610",
   "metadata": {
    "executionInfo": {
     "elapsed": 1607,
     "status": "aborted",
     "timestamp": 1739181983265,
     "user": {
      "displayName": "Marian Bucos",
      "userId": "04480462826549160389"
     },
     "user_tz": -120
    },
    "id": "61a20610"
   },
   "outputs": [
    {
     "data": {
      "text/plain": [
       "('Adrian Cosma', str)"
      ]
     },
     "execution_count": 89,
     "metadata": {},
     "output_type": "execute_result"
    }
   ],
   "source": [
    "tutori.loc['2010-01-10', 'nume'], \\\n",
    "type(tutori.loc['2010-01-10', 'nume'])"
   ]
  },
  {
   "cell_type": "code",
   "execution_count": 90,
   "id": "d0cca6a2",
   "metadata": {
    "executionInfo": {
     "elapsed": 1605,
     "status": "aborted",
     "timestamp": 1739181983266,
     "user": {
      "displayName": "Marian Bucos",
      "userId": "04480462826549160389"
     },
     "user_tz": -120
    },
    "id": "d0cca6a2"
   },
   "outputs": [
    {
     "data": {
      "text/plain": [
       "(data_angajarii\n",
       " 2010-01-10    Adrian Cosma\n",
       " 2012-09-10     Florin Vlad\n",
       " Name: nume, dtype: object,\n",
       " pandas.core.series.Series)"
      ]
     },
     "execution_count": 90,
     "metadata": {},
     "output_type": "execute_result"
    }
   ],
   "source": [
    "tutori.loc[['2010-01-10','2012-09-10'], 'nume'], \\\n",
    "type(tutori.loc[['2010-01-10','2012-09-10'], 'nume'])"
   ]
  },
  {
   "cell_type": "code",
   "execution_count": 91,
   "id": "d9734f2d",
   "metadata": {
    "executionInfo": {
     "elapsed": 1604,
     "status": "aborted",
     "timestamp": 1739181983267,
     "user": {
      "displayName": "Marian Bucos",
      "userId": "04480462826549160389"
     },
     "user_tz": -120
    },
    "id": "d9734f2d"
   },
   "outputs": [
    {
     "data": {
      "text/plain": [
       "(data_angajarii\n",
       " 2010-01-10     Adrian Cosma\n",
       " 2011-05-12    Mihai Popescu\n",
       " 2012-09-10      Florin Vlad\n",
       " Name: nume, dtype: object,\n",
       " pandas.core.series.Series)"
      ]
     },
     "execution_count": 91,
     "metadata": {},
     "output_type": "execute_result"
    }
   ],
   "source": [
    "tutori.loc['2010-01-10':'2012-09-10', 'nume'], \\\n",
    "type(tutori.loc['2010-01-10':'2012-09-10', 'nume'])"
   ]
  },
  {
   "cell_type": "code",
   "execution_count": 92,
   "id": "90e98145",
   "metadata": {
    "executionInfo": {
     "elapsed": 1602,
     "status": "aborted",
     "timestamp": 1739181983267,
     "user": {
      "displayName": "Marian Bucos",
      "userId": "04480462826549160389"
     },
     "user_tz": -120
    },
    "id": "90e98145"
   },
   "outputs": [
    {
     "data": {
      "text/plain": [
       "(                         nume birou\n",
       " data_angajarii                     \n",
       " 2010-01-10       Adrian Cosma  A236\n",
       " 2011-05-12      Mihai Popescu  B123\n",
       " 2012-09-10        Florin Vlad  C314,\n",
       " pandas.core.frame.DataFrame)"
      ]
     },
     "execution_count": 92,
     "metadata": {},
     "output_type": "execute_result"
    }
   ],
   "source": [
    "tutori.loc['2010-01-10':'2012-09-10', ['nume', 'birou']], \\\n",
    "type(tutori.loc['2010-01-10':'2012-09-10', ['nume', 'birou']])"
   ]
  },
  {
   "cell_type": "code",
   "execution_count": 93,
   "id": "961bec85",
   "metadata": {
    "executionInfo": {
     "elapsed": 1600,
     "status": "aborted",
     "timestamp": 1739181983268,
     "user": {
      "displayName": "Marian Bucos",
      "userId": "04480462826549160389"
     },
     "user_tz": -120
    },
    "id": "961bec85"
   },
   "outputs": [
    {
     "data": {
      "text/plain": [
       "(                         nume  grad birou\n",
       " data_angajarii                           \n",
       " 2010-01-10       Adrian Cosma    Sl  A236\n",
       " 2011-05-12      Mihai Popescu    Sl  B123\n",
       " 2012-09-10        Florin Vlad  Prof  C314,\n",
       " pandas.core.frame.DataFrame)"
      ]
     },
     "execution_count": 93,
     "metadata": {},
     "output_type": "execute_result"
    }
   ],
   "source": [
    "tutori.loc['2010-01-10':'2012-09-10', 'nume':'birou'], \\\n",
    "type(tutori.loc['2010-01-10':'2012-09-10', 'nume':'birou'])"
   ]
  },
  {
   "cell_type": "code",
   "execution_count": 94,
   "id": "5d9c2218",
   "metadata": {
    "executionInfo": {
     "elapsed": 1630,
     "status": "aborted",
     "timestamp": 1739181983301,
     "user": {
      "displayName": "Marian Bucos",
      "userId": "04480462826549160389"
     },
     "user_tz": -120
    },
    "id": "5d9c2218"
   },
   "outputs": [
    {
     "data": {
      "text/plain": [
       "(                          nume  grad birou\n",
       " data_angajarii                            \n",
       " 2010-01-10        Adrian Cosma    Sl  A236\n",
       " 2011-05-12       Mihai Popescu    Sl  B123\n",
       " 2012-09-10         Florin Vlad  Prof  C314\n",
       " 2014-01-10      Radu Marinescu  Prof  A210,\n",
       " pandas.core.frame.DataFrame)"
      ]
     },
     "execution_count": 94,
     "metadata": {},
     "output_type": "execute_result"
    }
   ],
   "source": [
    "tutori.loc[:, 'nume':'birou'], \\\n",
    "type(tutori.loc[:, 'nume':'birou'])"
   ]
  },
  {
   "cell_type": "code",
   "execution_count": 95,
   "id": "724d33bc",
   "metadata": {
    "executionInfo": {
     "elapsed": 1629,
     "status": "aborted",
     "timestamp": 1739181983302,
     "user": {
      "displayName": "Marian Bucos",
      "userId": "04480462826549160389"
     },
     "user_tz": -120
    },
    "id": "724d33bc"
   },
   "outputs": [
    {
     "data": {
      "text/plain": [
       "('Adrian Cosma', str)"
      ]
     },
     "execution_count": 95,
     "metadata": {},
     "output_type": "execute_result"
    }
   ],
   "source": [
    "tutori.iloc[0, 0], \\\n",
    "type(tutori.iloc[0, 0])"
   ]
  },
  {
   "cell_type": "code",
   "execution_count": 96,
   "id": "48b962a2",
   "metadata": {
    "executionInfo": {
     "elapsed": 1626,
     "status": "aborted",
     "timestamp": 1739181983302,
     "user": {
      "displayName": "Marian Bucos",
      "userId": "04480462826549160389"
     },
     "user_tz": -120
    },
    "id": "48b962a2"
   },
   "outputs": [
    {
     "data": {
      "text/plain": [
       "(data_angajarii\n",
       " 2010-01-10    Adrian Cosma\n",
       " 2012-09-10     Florin Vlad\n",
       " Name: nume, dtype: object,\n",
       " pandas.core.series.Series)"
      ]
     },
     "execution_count": 96,
     "metadata": {},
     "output_type": "execute_result"
    }
   ],
   "source": [
    "tutori.iloc[[0, 2], 0], \\\n",
    "type(tutori.iloc[[0, 2], 0])"
   ]
  },
  {
   "cell_type": "code",
   "execution_count": 97,
   "id": "bf5d5866",
   "metadata": {
    "executionInfo": {
     "elapsed": 1625,
     "status": "aborted",
     "timestamp": 1739181983303,
     "user": {
      "displayName": "Marian Bucos",
      "userId": "04480462826549160389"
     },
     "user_tz": -120
    },
    "id": "bf5d5866"
   },
   "outputs": [
    {
     "data": {
      "text/plain": [
       "(data_angajarii\n",
       " 2010-01-10     Adrian Cosma\n",
       " 2011-05-12    Mihai Popescu\n",
       " 2012-09-10      Florin Vlad\n",
       " Name: nume, dtype: object,\n",
       " pandas.core.series.Series)"
      ]
     },
     "execution_count": 97,
     "metadata": {},
     "output_type": "execute_result"
    }
   ],
   "source": [
    "tutori.iloc[0:3, 0], \\\n",
    "type(tutori.iloc[0:3, 0])"
   ]
  },
  {
   "cell_type": "code",
   "execution_count": 98,
   "id": "00bb4b68",
   "metadata": {
    "executionInfo": {
     "elapsed": 1640,
     "status": "aborted",
     "timestamp": 1739181983321,
     "user": {
      "displayName": "Marian Bucos",
      "userId": "04480462826549160389"
     },
     "user_tz": -120
    },
    "id": "00bb4b68"
   },
   "outputs": [
    {
     "data": {
      "text/plain": [
       "(                         nume birou\n",
       " data_angajarii                     \n",
       " 2010-01-10       Adrian Cosma  A236\n",
       " 2011-05-12      Mihai Popescu  B123\n",
       " 2012-09-10        Florin Vlad  C314,\n",
       " pandas.core.frame.DataFrame)"
      ]
     },
     "execution_count": 98,
     "metadata": {},
     "output_type": "execute_result"
    }
   ],
   "source": [
    "tutori.iloc[0:3, [0, 2]], \\\n",
    "type(tutori.iloc[0:3, [0, 2]])"
   ]
  },
  {
   "cell_type": "code",
   "execution_count": 99,
   "id": "39c50656",
   "metadata": {
    "executionInfo": {
     "elapsed": 1640,
     "status": "aborted",
     "timestamp": 1739181983323,
     "user": {
      "displayName": "Marian Bucos",
      "userId": "04480462826549160389"
     },
     "user_tz": -120
    },
    "id": "39c50656"
   },
   "outputs": [
    {
     "data": {
      "text/plain": [
       "(                          nume  grad birou\n",
       " data_angajarii                            \n",
       " 2010-01-10        Adrian Cosma    Sl  A236\n",
       " 2011-05-12       Mihai Popescu    Sl  B123\n",
       " 2012-09-10         Florin Vlad  Prof  C314\n",
       " 2014-01-10      Radu Marinescu  Prof  A210,\n",
       " pandas.core.frame.DataFrame)"
      ]
     },
     "execution_count": 99,
     "metadata": {},
     "output_type": "execute_result"
    }
   ],
   "source": [
    "tutori.iloc[:, 0:3], \\\n",
    "type(tutori.iloc[:, 0:3])"
   ]
  },
  {
   "cell_type": "code",
   "execution_count": 100,
   "id": "f86a02cf",
   "metadata": {
    "executionInfo": {
     "elapsed": 1637,
     "status": "aborted",
     "timestamp": 1739181983323,
     "user": {
      "displayName": "Marian Bucos",
      "userId": "04480462826549160389"
     },
     "user_tz": -120
    },
    "id": "f86a02cf"
   },
   "outputs": [
    {
     "data": {
      "text/plain": [
       "(          nume          judet\n",
       " 0    Timisoara          Timis\n",
       " 1  Cluj-Napoca            NaN\n",
       " 2    Bucuresti            NaN\n",
       " 3         Iasi           Iasi\n",
       " 4    Constanta      Constanta\n",
       " 5       Brasov         Brasov\n",
       " 6        Anina  Caras-Severin,\n",
       " (7, 2))"
      ]
     },
     "execution_count": 100,
     "metadata": {},
     "output_type": "execute_result"
    }
   ],
   "source": [
    "orase, \\\n",
    "orase.shape"
   ]
  },
  {
   "cell_type": "code",
   "execution_count": 101,
   "id": "519d7b9c",
   "metadata": {
    "executionInfo": {
     "elapsed": 1638,
     "status": "aborted",
     "timestamp": 1739181983324,
     "user": {
      "displayName": "Marian Bucos",
      "userId": "04480462826549160389"
     },
     "user_tz": -120
    },
    "id": "519d7b9c"
   },
   "outputs": [],
   "source": [
    "orase['populatie'] = [329003, 324267, 2121794, 376180, 313931, 289646, 9172]\n",
    "orase['suprafata'] = np.nan"
   ]
  },
  {
   "cell_type": "code",
   "execution_count": 102,
   "id": "d9035cc5",
   "metadata": {
    "executionInfo": {
     "elapsed": 1635,
     "status": "aborted",
     "timestamp": 1739181983324,
     "user": {
      "displayName": "Marian Bucos",
      "userId": "04480462826549160389"
     },
     "user_tz": -120
    },
    "id": "d9035cc5"
   },
   "outputs": [
    {
     "data": {
      "text/plain": [
       "(          nume          judet  populatie  suprafata\n",
       " 0    Timisoara          Timis     329003        NaN\n",
       " 1  Cluj-Napoca            NaN     324267        NaN\n",
       " 2    Bucuresti            NaN    2121794        NaN\n",
       " 3         Iasi           Iasi     376180        NaN\n",
       " 4    Constanta      Constanta     313931        NaN\n",
       " 5       Brasov         Brasov     289646        NaN\n",
       " 6        Anina  Caras-Severin       9172        NaN,\n",
       " (7, 4))"
      ]
     },
     "execution_count": 102,
     "metadata": {},
     "output_type": "execute_result"
    }
   ],
   "source": [
    "orase, \\\n",
    "orase.shape"
   ]
  },
  {
   "cell_type": "code",
   "execution_count": null,
   "id": "ee59fe24",
   "metadata": {
    "executionInfo": {
     "elapsed": 1636,
     "status": "aborted",
     "timestamp": 1739181983325,
     "user": {
      "displayName": "Marian Bucos",
      "userId": "04480462826549160389"
     },
     "user_tz": -120
    },
    "id": "ee59fe24"
   },
   "outputs": [],
   "source": [
    "# adaugare inregistrare noua\n",
    "orase_noi = pd.DataFrame([{'nume': 'Ploiesti', 'populatie': 228550, 'judet': 'Prahova'}])\n",
    "\n",
    "# utilizeaza pd.concat() pentru a adauga noua inregistrare in structura de date existenta\n",
    "orase = pd.concat([orase, orase_noi], ignore_index=True)"
   ]
  },
  {
   "cell_type": "code",
   "execution_count": 104,
   "id": "6bc5834f",
   "metadata": {
    "executionInfo": {
     "elapsed": 1635,
     "status": "aborted",
     "timestamp": 1739181983326,
     "user": {
      "displayName": "Marian Bucos",
      "userId": "04480462826549160389"
     },
     "user_tz": -120
    },
    "id": "6bc5834f"
   },
   "outputs": [
    {
     "data": {
      "text/plain": [
       "(          nume          judet  populatie  suprafata\n",
       " 0    Timisoara          Timis     329003        NaN\n",
       " 1  Cluj-Napoca            NaN     324267        NaN\n",
       " 2    Bucuresti            NaN    2121794        NaN\n",
       " 3         Iasi           Iasi     376180        NaN\n",
       " 4    Constanta      Constanta     313931        NaN\n",
       " 5       Brasov         Brasov     289646        NaN\n",
       " 6        Anina  Caras-Severin       9172        NaN\n",
       " 7     Ploiesti        Prahova     228550        NaN,\n",
       " (8, 4))"
      ]
     },
     "execution_count": 104,
     "metadata": {},
     "output_type": "execute_result"
    }
   ],
   "source": [
    "orase, \\\n",
    "orase.shape"
   ]
  },
  {
   "cell_type": "code",
   "execution_count": 105,
   "id": "f894f9f5",
   "metadata": {
    "executionInfo": {
     "elapsed": 1633,
     "status": "aborted",
     "timestamp": 1739181983326,
     "user": {
      "displayName": "Marian Bucos",
      "userId": "04480462826549160389"
     },
     "user_tz": -120
    },
    "id": "f894f9f5"
   },
   "outputs": [
    {
     "data": {
      "text/plain": [
       "RangeIndex(start=0, stop=8807, step=1)"
      ]
     },
     "execution_count": 105,
     "metadata": {},
     "output_type": "execute_result"
    }
   ],
   "source": [
    "df.index"
   ]
  },
  {
   "cell_type": "code",
   "execution_count": 106,
   "id": "d5e6e3fa",
   "metadata": {
    "executionInfo": {
     "elapsed": 1632,
     "status": "aborted",
     "timestamp": 1739181983327,
     "user": {
      "displayName": "Marian Bucos",
      "userId": "04480462826549160389"
     },
     "user_tz": -120
    },
    "id": "d5e6e3fa"
   },
   "outputs": [
    {
     "data": {
      "text/plain": [
       "DatetimeIndex(['2010-01-10', '2011-05-12', '2012-09-10', '2014-01-10'], dtype='datetime64[ns]', name='data_angajarii', freq=None)"
      ]
     },
     "execution_count": 106,
     "metadata": {},
     "output_type": "execute_result"
    }
   ],
   "source": [
    "tutori.index"
   ]
  },
  {
   "cell_type": "code",
   "execution_count": 107,
   "id": "1b8ba45b",
   "metadata": {
    "executionInfo": {
     "elapsed": 1631,
     "status": "aborted",
     "timestamp": 1739181983328,
     "user": {
      "displayName": "Marian Bucos",
      "userId": "04480462826549160389"
     },
     "user_tz": -120
    },
    "id": "1b8ba45b"
   },
   "outputs": [
    {
     "data": {
      "text/plain": [
       "Index(['show_id', 'type', 'title', 'director', 'cast', 'country', 'date_added',\n",
       "       'release_year', 'rating', 'duration', 'listed_in', 'description'],\n",
       "      dtype='object')"
      ]
     },
     "execution_count": 107,
     "metadata": {},
     "output_type": "execute_result"
    }
   ],
   "source": [
    "df.columns"
   ]
  },
  {
   "cell_type": "code",
   "execution_count": 108,
   "id": "0e813415",
   "metadata": {
    "executionInfo": {
     "elapsed": 1629,
     "status": "aborted",
     "timestamp": 1739181983328,
     "user": {
      "displayName": "Marian Bucos",
      "userId": "04480462826549160389"
     },
     "user_tz": -120
    },
    "id": "0e813415"
   },
   "outputs": [
    {
     "data": {
      "text/plain": [
       "nume           object\n",
       "grad           object\n",
       "birou          object\n",
       "varsta          int64\n",
       "departament    object\n",
       "dtype: object"
      ]
     },
     "execution_count": 108,
     "metadata": {},
     "output_type": "execute_result"
    }
   ],
   "source": [
    "tutori.dtypes"
   ]
  },
  {
   "cell_type": "code",
   "execution_count": 109,
   "id": "6768d291",
   "metadata": {
    "executionInfo": {
     "elapsed": 1628,
     "status": "aborted",
     "timestamp": 1739181983329,
     "user": {
      "displayName": "Marian Bucos",
      "userId": "04480462826549160389"
     },
     "user_tz": -120
    },
    "id": "6768d291"
   },
   "outputs": [
    {
     "data": {
      "text/plain": [
       "method"
      ]
     },
     "execution_count": 109,
     "metadata": {},
     "output_type": "execute_result"
    }
   ],
   "source": [
    "type(tutori.info)"
   ]
  },
  {
   "cell_type": "code",
   "execution_count": 110,
   "id": "c4d3afe4",
   "metadata": {
    "executionInfo": {
     "elapsed": 1627,
     "status": "aborted",
     "timestamp": 1739181983330,
     "user": {
      "displayName": "Marian Bucos",
      "userId": "04480462826549160389"
     },
     "user_tz": -120
    },
    "id": "c4d3afe4"
   },
   "outputs": [
    {
     "name": "stdout",
     "output_type": "stream",
     "text": [
      "<class 'pandas.core.frame.DataFrame'>\n",
      "DatetimeIndex: 4 entries, 2010-01-10 to 2014-01-10\n",
      "Data columns (total 5 columns):\n",
      " #   Column       Non-Null Count  Dtype \n",
      "---  ------       --------------  ----- \n",
      " 0   nume         4 non-null      object\n",
      " 1   grad         4 non-null      object\n",
      " 2   birou        4 non-null      object\n",
      " 3   varsta       4 non-null      int64 \n",
      " 4   departament  4 non-null      object\n",
      "dtypes: int64(1), object(4)\n",
      "memory usage: 364.0+ bytes\n"
     ]
    },
    {
     "data": {
      "text/plain": [
       "NoneType"
      ]
     },
     "execution_count": 110,
     "metadata": {},
     "output_type": "execute_result"
    }
   ],
   "source": [
    "type(tutori.info())"
   ]
  },
  {
   "cell_type": "code",
   "execution_count": 111,
   "id": "66a0fd67",
   "metadata": {
    "executionInfo": {
     "elapsed": 1625,
     "status": "aborted",
     "timestamp": 1739181983330,
     "user": {
      "displayName": "Marian Bucos",
      "userId": "04480462826549160389"
     },
     "user_tz": -120
    },
    "id": "66a0fd67"
   },
   "outputs": [
    {
     "data": {
      "text/plain": [
       "array([['Adrian Cosma', 'Sl', 'A236', 43, 'COM'],\n",
       "       ['Mihai Popescu', 'Sl', 'B123', 35, 'MEO'],\n",
       "       ['Florin Vlad', 'Prof', 'C314', 56, 'EA'],\n",
       "       ['Radu Marinescu', 'Prof', 'A210', 62, 'COM']], dtype=object)"
      ]
     },
     "execution_count": 111,
     "metadata": {},
     "output_type": "execute_result"
    }
   ],
   "source": [
    "tutori.values"
   ]
  },
  {
   "cell_type": "code",
   "execution_count": 112,
   "id": "82deff70",
   "metadata": {
    "executionInfo": {
     "elapsed": 1624,
     "status": "aborted",
     "timestamp": 1739181983331,
     "user": {
      "displayName": "Marian Bucos",
      "userId": "04480462826549160389"
     },
     "user_tz": -120
    },
    "id": "82deff70"
   },
   "outputs": [
    {
     "data": {
      "text/plain": [
       "105684"
      ]
     },
     "execution_count": 112,
     "metadata": {},
     "output_type": "execute_result"
    }
   ],
   "source": [
    "df.size"
   ]
  },
  {
   "cell_type": "code",
   "execution_count": 113,
   "id": "292c0bd7",
   "metadata": {
    "executionInfo": {
     "elapsed": 1622,
     "status": "aborted",
     "timestamp": 1739181983331,
     "user": {
      "displayName": "Marian Bucos",
      "userId": "04480462826549160389"
     },
     "user_tz": -120
    },
    "id": "292c0bd7"
   },
   "outputs": [
    {
     "data": {
      "text/plain": [
       "(8807, 12)"
      ]
     },
     "execution_count": 113,
     "metadata": {},
     "output_type": "execute_result"
    }
   ],
   "source": [
    "df.shape"
   ]
  },
  {
   "cell_type": "code",
   "execution_count": 114,
   "id": "ba012f39",
   "metadata": {
    "executionInfo": {
     "elapsed": 1621,
     "status": "aborted",
     "timestamp": 1739181983332,
     "user": {
      "displayName": "Marian Bucos",
      "userId": "04480462826549160389"
     },
     "user_tz": -120
    },
    "id": "ba012f39"
   },
   "outputs": [
    {
     "data": {
      "text/plain": [
       "[RangeIndex(start=0, stop=8807, step=1),\n",
       " Index(['show_id', 'type', 'title', 'director', 'cast', 'country', 'date_added',\n",
       "        'release_year', 'rating', 'duration', 'listed_in', 'description'],\n",
       "       dtype='object')]"
      ]
     },
     "execution_count": 114,
     "metadata": {},
     "output_type": "execute_result"
    }
   ],
   "source": [
    "df.axes"
   ]
  },
  {
   "cell_type": "code",
   "execution_count": 115,
   "id": "bf84c8a2",
   "metadata": {
    "executionInfo": {
     "elapsed": 1620,
     "status": "aborted",
     "timestamp": 1739181983333,
     "user": {
      "displayName": "Marian Bucos",
      "userId": "04480462826549160389"
     },
     "user_tz": -120
    },
    "id": "bf84c8a2"
   },
   "outputs": [
    {
     "data": {
      "text/plain": [
       "2"
      ]
     },
     "execution_count": 115,
     "metadata": {},
     "output_type": "execute_result"
    }
   ],
   "source": [
    "df.ndim"
   ]
  },
  {
   "cell_type": "code",
   "execution_count": 116,
   "id": "fec8764c",
   "metadata": {
    "executionInfo": {
     "elapsed": 1618,
     "status": "aborted",
     "timestamp": 1739181983333,
     "user": {
      "displayName": "Marian Bucos",
      "userId": "04480462826549160389"
     },
     "user_tz": -120
    },
    "id": "fec8764c"
   },
   "outputs": [
    {
     "data": {
      "text/html": [
       "<div>\n",
       "<style scoped>\n",
       "    .dataframe tbody tr th:only-of-type {\n",
       "        vertical-align: middle;\n",
       "    }\n",
       "\n",
       "    .dataframe tbody tr th {\n",
       "        vertical-align: top;\n",
       "    }\n",
       "\n",
       "    .dataframe thead th {\n",
       "        text-align: right;\n",
       "    }\n",
       "</style>\n",
       "<table border=\"1\" class=\"dataframe\">\n",
       "  <thead>\n",
       "    <tr style=\"text-align: right;\">\n",
       "      <th></th>\n",
       "      <th>nume</th>\n",
       "      <th>judet</th>\n",
       "      <th>populatie</th>\n",
       "      <th>suprafata</th>\n",
       "    </tr>\n",
       "  </thead>\n",
       "  <tbody>\n",
       "    <tr>\n",
       "      <th>0</th>\n",
       "      <td>Timisoara</td>\n",
       "      <td>Timis</td>\n",
       "      <td>329003</td>\n",
       "      <td>NaN</td>\n",
       "    </tr>\n",
       "    <tr>\n",
       "      <th>1</th>\n",
       "      <td>Cluj-Napoca</td>\n",
       "      <td>NaN</td>\n",
       "      <td>324267</td>\n",
       "      <td>NaN</td>\n",
       "    </tr>\n",
       "    <tr>\n",
       "      <th>2</th>\n",
       "      <td>Bucuresti</td>\n",
       "      <td>NaN</td>\n",
       "      <td>2121794</td>\n",
       "      <td>NaN</td>\n",
       "    </tr>\n",
       "    <tr>\n",
       "      <th>3</th>\n",
       "      <td>Iasi</td>\n",
       "      <td>Iasi</td>\n",
       "      <td>376180</td>\n",
       "      <td>NaN</td>\n",
       "    </tr>\n",
       "    <tr>\n",
       "      <th>4</th>\n",
       "      <td>Constanta</td>\n",
       "      <td>Constanta</td>\n",
       "      <td>313931</td>\n",
       "      <td>NaN</td>\n",
       "    </tr>\n",
       "    <tr>\n",
       "      <th>5</th>\n",
       "      <td>Brasov</td>\n",
       "      <td>Brasov</td>\n",
       "      <td>289646</td>\n",
       "      <td>NaN</td>\n",
       "    </tr>\n",
       "    <tr>\n",
       "      <th>6</th>\n",
       "      <td>Anina</td>\n",
       "      <td>Caras-Severin</td>\n",
       "      <td>9172</td>\n",
       "      <td>NaN</td>\n",
       "    </tr>\n",
       "    <tr>\n",
       "      <th>7</th>\n",
       "      <td>Ploiesti</td>\n",
       "      <td>Prahova</td>\n",
       "      <td>228550</td>\n",
       "      <td>NaN</td>\n",
       "    </tr>\n",
       "  </tbody>\n",
       "</table>\n",
       "</div>"
      ],
      "text/plain": [
       "          nume          judet  populatie  suprafata\n",
       "0    Timisoara          Timis     329003        NaN\n",
       "1  Cluj-Napoca            NaN     324267        NaN\n",
       "2    Bucuresti            NaN    2121794        NaN\n",
       "3         Iasi           Iasi     376180        NaN\n",
       "4    Constanta      Constanta     313931        NaN\n",
       "5       Brasov         Brasov     289646        NaN\n",
       "6        Anina  Caras-Severin       9172        NaN\n",
       "7     Ploiesti        Prahova     228550        NaN"
      ]
     },
     "execution_count": 116,
     "metadata": {},
     "output_type": "execute_result"
    }
   ],
   "source": [
    "orase"
   ]
  },
  {
   "cell_type": "code",
   "execution_count": 117,
   "id": "511cded9",
   "metadata": {
    "executionInfo": {
     "elapsed": 1616,
     "status": "aborted",
     "timestamp": 1739181983334,
     "user": {
      "displayName": "Marian Bucos",
      "userId": "04480462826549160389"
     },
     "user_tz": -120
    },
    "id": "511cded9"
   },
   "outputs": [
    {
     "data": {
      "text/plain": [
       "<pandas.core.indexing._iLocIndexer at 0x18aee938cd0>"
      ]
     },
     "execution_count": 117,
     "metadata": {},
     "output_type": "execute_result"
    }
   ],
   "source": [
    "orase.iloc(0)"
   ]
  }
 ],
 "metadata": {
  "colab": {
   "provenance": []
  },
  "kernelspec": {
   "display_name": "Python 3",
   "language": "python",
   "name": "python3"
  },
  "language_info": {
   "codemirror_mode": {
    "name": "ipython",
    "version": 3
   },
   "file_extension": ".py",
   "mimetype": "text/x-python",
   "name": "python",
   "nbconvert_exporter": "python",
   "pygments_lexer": "ipython3",
   "version": "3.13.1"
  }
 },
 "nbformat": 4,
 "nbformat_minor": 5
}
