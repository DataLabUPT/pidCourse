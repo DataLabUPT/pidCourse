{
 "cells": [
  {
   "cell_type": "markdown",
   "id": "7efdd251",
   "metadata": {},
   "source": [
    "## Modalitati de ingestie a datelor in Pandas"
   ]
  },
  {
   "cell_type": "markdown",
   "id": "bb6354c5",
   "metadata": {},
   "source": [
    "Pandas este o biblioteca esentiala in ecosistemul Python pentru manipularea si analiza datelor, oferind o gama diversa de functionalitati pentru prelucrarea seturilor de date intr-un mod eficient si intuitiv. Un pas primordial in orice proiect de analiza a datelor o reprezinta ingestia datelor sau incarcarea datelor in structurile de date specifice Pandas, precum DataFrame si Series."
   ]
  },
  {
   "cell_type": "markdown",
   "id": "edbf7c99",
   "metadata": {},
   "source": [
    "Inainte de a explora mecanismele de ingestie a datelor, este esential sa includem bibliotecile necesare."
   ]
  },
  {
   "cell_type": "markdown",
   "id": "16d7b0e6",
   "metadata": {},
   "source": [
    "Pentru a putea utiliza bibliotecile pandas si numpy la nivelul unui notebook, este necesara includerea acestora folosind clauze import. Prin conventie, la includerea bibliotecilor pandas si numpy se utilizeaza urmatorii aliasi: pd pentru pandas, respectiv np pentru numpy."
   ]
  },
  {
   "cell_type": "markdown",
   "id": "e524d2b3",
   "metadata": {},
   "source": [
    "![Pandas logo](https://pandas.pydata.org/static/img/pandas.svg)\n",
    "<!-- <img src=\"../images/pandas_logo.png\" width=\"300\"> -->"
   ]
  },
  {
   "cell_type": "code",
   "execution_count": 1,
   "id": "42dbcb7b",
   "metadata": {},
   "outputs": [],
   "source": [
    "import pandas as pd\n",
    "import numpy as np"
   ]
  },
  {
   "cell_type": "markdown",
   "id": "abb3421e",
   "metadata": {},
   "source": [
    "### Cuprins\n",
    "1. [Incarcarea datelor din fisiere csv](#csv)\n",
    "2. [Importul datelor JSON](#json)"
   ]
  },
  {
   "cell_type": "markdown",
   "id": "655abcb0",
   "metadata": {},
   "source": [
    "### Incarcarea datelor din fisiere tabelare <a name=\"csv\"></a>"
   ]
  },
  {
   "cell_type": "markdown",
   "id": "3504fd1b",
   "metadata": {},
   "source": [
    "Portalul [data.gov.ro](https://data.gov.ro/) a fost realizat in anul 2013 in scopul centralizarii datelor deschise publicate de institutiile din Romania conform principiilor si standardelor in domeniu.\n",
    "\n",
    "<!-- <img src=\"https://data.gov.ro/assets/images/gov/gov3.png\" width=\"400\">-->\n",
    "<img src=\"https://data.gov.ro/assets/images/gov/gov3.png\" width=\"400\">\n",
    "\n",
    "In cadrul acestui portal pot fi identificate si date publicate de [Administratia Nationala de Meteorologie](https://data.gov.ro/organization/administratia-nationala-de-meteorologie). Printre altele, ANM ofera si setul de [date climatice de la cele 23 de statii esentiale](https://data.gov.ro/dataset/date-climatologice-de-la-cele-23-de-statii-esentiale-pentru-anul-2016), care acopera perioada 1961-2016 si cuprinde 56 de fisiere in format .csv. "
   ]
  },
  {
   "cell_type": "markdown",
   "id": "0632be65",
   "metadata": {},
   "source": [
    "Fisierele CSV (Comma Separated Values) reprezinta fisiere text care contin inregistrari ale caror valori sunt separate prin intermediul virgulei (,). Fiecare linie de la nivelul unui astfel de fisier reprezinta o noua inregistrare din setul de inregistrari stocate la nivelul fisierului. In general, fisierele CSV se utilizeaza pentru transferul datelor intre diverse sisteme. "
   ]
  },
  {
   "cell_type": "markdown",
   "id": "e7c06bad",
   "metadata": {},
   "source": [
    "Descarcam ultimul fisier de la nivelul acestui set de date in folderul data, folder care se gaseste in aceiasi locatie cu notebook-ul curent."
   ]
  },
  {
   "cell_type": "code",
   "execution_count": 2,
   "id": "de89bd99",
   "metadata": {},
   "outputs": [
    {
     "data": {
      "text/plain": [
       "('../data/climrbsn2016.csv', <http.client.HTTPMessage at 0x14da601a5d0>)"
      ]
     },
     "execution_count": 2,
     "metadata": {},
     "output_type": "execute_result"
    }
   ],
   "source": [
    "from urllib import request\n",
    "\n",
    "# stabilim adresa web de unde urmeaza sa descarcam fisierul\n",
    "remote_url = 'https://data.gov.ro/dataset/f649bad3-aa57-43ba-bf9e-bd8e9edde3f4/resource/4419b08f-4b1a-45fc-b88f-822bdacbe02d/download/climrbsn2016.csv'\n",
    "\n",
    "# stabilim locatia in care salvam fisierul\n",
    "local_file = '../data/climrbsn2016.csv'\n",
    "\n",
    "# descarcam fisierul si il salvam local\n",
    "request.urlretrieve(remote_url, local_file)"
   ]
  },
  {
   "cell_type": "markdown",
   "id": "b9311dfb",
   "metadata": {},
   "source": [
    "Citirea fisierelor text care contin valori delimitate prin intermediul unui separator (in acest caz, delimitatorul implicit este virgula) se realizeaza prin intermediul metodei [pandas.read_csv()](https://pandas.pydata.org/docs/reference/api/pandas.read_csv.html)."
   ]
  },
  {
   "cell_type": "code",
   "execution_count": 3,
   "id": "5636e04b",
   "metadata": {},
   "outputs": [],
   "source": [
    "# citim fisierul local de tip csv si incarcam datele in variabila data\n",
    "data_csv = pd.read_csv(\"../data/climrbsn2016.csv\")"
   ]
  },
  {
   "cell_type": "code",
   "execution_count": 4,
   "id": "f0f9f250",
   "metadata": {},
   "outputs": [
    {
     "data": {
      "text/plain": [
       "pandas.core.frame.DataFrame"
      ]
     },
     "execution_count": 4,
     "metadata": {},
     "output_type": "execute_result"
    }
   ],
   "source": [
    "type(data_csv)"
   ]
  },
  {
   "cell_type": "markdown",
   "id": "cbed6d32",
   "metadata": {},
   "source": [
    "Pentru a vizualiza un mic esantion dintr-o structura de tip Series sau DataFrame, in Pandas pot fi utilizate metode de tip head() sau tail(). Implicit, acestea returneaza primele/ultimele 5 inregistrari de la nivelul structurii de date."
   ]
  },
  {
   "cell_type": "code",
   "execution_count": 5,
   "id": "198366bc",
   "metadata": {},
   "outputs": [
    {
     "data": {
      "text/html": [
       "<div>\n",
       "<style scoped>\n",
       "    .dataframe tbody tr th:only-of-type {\n",
       "        vertical-align: middle;\n",
       "    }\n",
       "\n",
       "    .dataframe tbody tr th {\n",
       "        vertical-align: top;\n",
       "    }\n",
       "\n",
       "    .dataframe thead th {\n",
       "        text-align: right;\n",
       "    }\n",
       "</style>\n",
       "<table border=\"1\" class=\"dataframe\">\n",
       "  <thead>\n",
       "    <tr style=\"text-align: right;\">\n",
       "      <th></th>\n",
       "      <th>CODST</th>\n",
       "      <th>ALT</th>\n",
       "      <th>LAT</th>\n",
       "      <th>LON</th>\n",
       "      <th>DATCLIM</th>\n",
       "      <th>TMED</th>\n",
       "      <th>TMAX</th>\n",
       "      <th>TMIN</th>\n",
       "      <th>R24</th>\n",
       "    </tr>\n",
       "  </thead>\n",
       "  <tbody>\n",
       "    <tr>\n",
       "      <th>0</th>\n",
       "      <td>15015</td>\n",
       "      <td>503.0</td>\n",
       "      <td>47.776944</td>\n",
       "      <td>23.940556</td>\n",
       "      <td>2016/01/01 00</td>\n",
       "      <td>-10.0</td>\n",
       "      <td>-5.7</td>\n",
       "      <td>-13.6</td>\n",
       "      <td>NaN</td>\n",
       "    </tr>\n",
       "    <tr>\n",
       "      <th>1</th>\n",
       "      <td>15015</td>\n",
       "      <td>503.0</td>\n",
       "      <td>47.776944</td>\n",
       "      <td>23.940556</td>\n",
       "      <td>2016/01/02 00</td>\n",
       "      <td>-11.0</td>\n",
       "      <td>-5.9</td>\n",
       "      <td>-14.4</td>\n",
       "      <td>NaN</td>\n",
       "    </tr>\n",
       "    <tr>\n",
       "      <th>2</th>\n",
       "      <td>15015</td>\n",
       "      <td>503.0</td>\n",
       "      <td>47.776944</td>\n",
       "      <td>23.940556</td>\n",
       "      <td>2016/01/03 00</td>\n",
       "      <td>-12.2</td>\n",
       "      <td>-5.5</td>\n",
       "      <td>-16.4</td>\n",
       "      <td>NaN</td>\n",
       "    </tr>\n",
       "    <tr>\n",
       "      <th>3</th>\n",
       "      <td>15015</td>\n",
       "      <td>503.0</td>\n",
       "      <td>47.776944</td>\n",
       "      <td>23.940556</td>\n",
       "      <td>2016/01/04 00</td>\n",
       "      <td>-11.0</td>\n",
       "      <td>-5.3</td>\n",
       "      <td>-16.6</td>\n",
       "      <td>0.0</td>\n",
       "    </tr>\n",
       "    <tr>\n",
       "      <th>4</th>\n",
       "      <td>15015</td>\n",
       "      <td>503.0</td>\n",
       "      <td>47.776944</td>\n",
       "      <td>23.940556</td>\n",
       "      <td>2016/01/05 00</td>\n",
       "      <td>-5.7</td>\n",
       "      <td>-4.6</td>\n",
       "      <td>-8.1</td>\n",
       "      <td>1.5</td>\n",
       "    </tr>\n",
       "  </tbody>\n",
       "</table>\n",
       "</div>"
      ],
      "text/plain": [
       "   CODST    ALT        LAT        LON        DATCLIM  TMED  TMAX  TMIN  R24\n",
       "0  15015  503.0  47.776944  23.940556  2016/01/01 00 -10.0  -5.7 -13.6  NaN\n",
       "1  15015  503.0  47.776944  23.940556  2016/01/02 00 -11.0  -5.9 -14.4  NaN\n",
       "2  15015  503.0  47.776944  23.940556  2016/01/03 00 -12.2  -5.5 -16.4  NaN\n",
       "3  15015  503.0  47.776944  23.940556  2016/01/04 00 -11.0  -5.3 -16.6  0.0\n",
       "4  15015  503.0  47.776944  23.940556  2016/01/05 00  -5.7  -4.6  -8.1  1.5"
      ]
     },
     "execution_count": 5,
     "metadata": {},
     "output_type": "execute_result"
    }
   ],
   "source": [
    "data_csv.head()"
   ]
  },
  {
   "cell_type": "code",
   "execution_count": 6,
   "id": "07d6667f",
   "metadata": {},
   "outputs": [
    {
     "data": {
      "text/html": [
       "<div>\n",
       "<style scoped>\n",
       "    .dataframe tbody tr th:only-of-type {\n",
       "        vertical-align: middle;\n",
       "    }\n",
       "\n",
       "    .dataframe tbody tr th {\n",
       "        vertical-align: top;\n",
       "    }\n",
       "\n",
       "    .dataframe thead th {\n",
       "        text-align: right;\n",
       "    }\n",
       "</style>\n",
       "<table border=\"1\" class=\"dataframe\">\n",
       "  <thead>\n",
       "    <tr style=\"text-align: right;\">\n",
       "      <th></th>\n",
       "      <th>CODST</th>\n",
       "      <th>ALT</th>\n",
       "      <th>LAT</th>\n",
       "      <th>LON</th>\n",
       "      <th>DATCLIM</th>\n",
       "      <th>TMED</th>\n",
       "      <th>TMAX</th>\n",
       "      <th>TMIN</th>\n",
       "      <th>R24</th>\n",
       "    </tr>\n",
       "  </thead>\n",
       "  <tbody>\n",
       "    <tr>\n",
       "      <th>6742</th>\n",
       "      <td>15420</td>\n",
       "      <td>90.0</td>\n",
       "      <td>44.510556</td>\n",
       "      <td>26.078056</td>\n",
       "      <td>2016/06/03 00</td>\n",
       "      <td>18.0</td>\n",
       "      <td>25.4</td>\n",
       "      <td>11.7</td>\n",
       "      <td>1.8</td>\n",
       "    </tr>\n",
       "    <tr>\n",
       "      <th>5749</th>\n",
       "      <td>15350</td>\n",
       "      <td>97.0</td>\n",
       "      <td>45.132778</td>\n",
       "      <td>26.851667</td>\n",
       "      <td>2016/09/16 00</td>\n",
       "      <td>21.5</td>\n",
       "      <td>30.7</td>\n",
       "      <td>12.2</td>\n",
       "      <td>NaN</td>\n",
       "    </tr>\n",
       "    <tr>\n",
       "      <th>2265</th>\n",
       "      <td>15170</td>\n",
       "      <td>661.0</td>\n",
       "      <td>46.371389</td>\n",
       "      <td>25.772500</td>\n",
       "      <td>2016/03/10 00</td>\n",
       "      <td>6.1</td>\n",
       "      <td>9.6</td>\n",
       "      <td>3.5</td>\n",
       "      <td>2.1</td>\n",
       "    </tr>\n",
       "    <tr>\n",
       "      <th>3905</th>\n",
       "      <td>15280</td>\n",
       "      <td>2504.0</td>\n",
       "      <td>45.445833</td>\n",
       "      <td>25.456667</td>\n",
       "      <td>2016/09/02 00</td>\n",
       "      <td>6.0</td>\n",
       "      <td>9.5</td>\n",
       "      <td>3.9</td>\n",
       "      <td>NaN</td>\n",
       "    </tr>\n",
       "    <tr>\n",
       "      <th>6456</th>\n",
       "      <td>15410</td>\n",
       "      <td>77.0</td>\n",
       "      <td>44.626389</td>\n",
       "      <td>22.626111</td>\n",
       "      <td>2016/08/22 00</td>\n",
       "      <td>22.0</td>\n",
       "      <td>28.4</td>\n",
       "      <td>19.2</td>\n",
       "      <td>1.0</td>\n",
       "    </tr>\n",
       "    <tr>\n",
       "      <th>591</th>\n",
       "      <td>15020</td>\n",
       "      <td>161.0</td>\n",
       "      <td>47.735556</td>\n",
       "      <td>26.645556</td>\n",
       "      <td>2016/08/13 00</td>\n",
       "      <td>17.1</td>\n",
       "      <td>22.8</td>\n",
       "      <td>11.6</td>\n",
       "      <td>NaN</td>\n",
       "    </tr>\n",
       "    <tr>\n",
       "      <th>6933</th>\n",
       "      <td>15420</td>\n",
       "      <td>90.0</td>\n",
       "      <td>44.510556</td>\n",
       "      <td>26.078056</td>\n",
       "      <td>2016/12/11 00</td>\n",
       "      <td>5.3</td>\n",
       "      <td>12.5</td>\n",
       "      <td>1.2</td>\n",
       "      <td>NaN</td>\n",
       "    </tr>\n",
       "    <tr>\n",
       "      <th>2090</th>\n",
       "      <td>15150</td>\n",
       "      <td>174.0</td>\n",
       "      <td>46.557778</td>\n",
       "      <td>26.896667</td>\n",
       "      <td>2016/09/17 00</td>\n",
       "      <td>20.0</td>\n",
       "      <td>31.4</td>\n",
       "      <td>11.6</td>\n",
       "      <td>NaN</td>\n",
       "    </tr>\n",
       "    <tr>\n",
       "      <th>6694</th>\n",
       "      <td>15420</td>\n",
       "      <td>90.0</td>\n",
       "      <td>44.510556</td>\n",
       "      <td>26.078056</td>\n",
       "      <td>2016/04/16 00</td>\n",
       "      <td>12.7</td>\n",
       "      <td>23.9</td>\n",
       "      <td>3.4</td>\n",
       "      <td>NaN</td>\n",
       "    </tr>\n",
       "    <tr>\n",
       "      <th>1449</th>\n",
       "      <td>15108</td>\n",
       "      <td>1897.0</td>\n",
       "      <td>46.977500</td>\n",
       "      <td>25.950000</td>\n",
       "      <td>2016/12/17 00</td>\n",
       "      <td>-9.0</td>\n",
       "      <td>-6.6</td>\n",
       "      <td>-11.0</td>\n",
       "      <td>NaN</td>\n",
       "    </tr>\n",
       "  </tbody>\n",
       "</table>\n",
       "</div>"
      ],
      "text/plain": [
       "      CODST     ALT        LAT        LON        DATCLIM  TMED  TMAX  TMIN  \\\n",
       "6742  15420    90.0  44.510556  26.078056  2016/06/03 00  18.0  25.4  11.7   \n",
       "5749  15350    97.0  45.132778  26.851667  2016/09/16 00  21.5  30.7  12.2   \n",
       "2265  15170   661.0  46.371389  25.772500  2016/03/10 00   6.1   9.6   3.5   \n",
       "3905  15280  2504.0  45.445833  25.456667  2016/09/02 00   6.0   9.5   3.9   \n",
       "6456  15410    77.0  44.626389  22.626111  2016/08/22 00  22.0  28.4  19.2   \n",
       "591   15020   161.0  47.735556  26.645556  2016/08/13 00  17.1  22.8  11.6   \n",
       "6933  15420    90.0  44.510556  26.078056  2016/12/11 00   5.3  12.5   1.2   \n",
       "2090  15150   174.0  46.557778  26.896667  2016/09/17 00  20.0  31.4  11.6   \n",
       "6694  15420    90.0  44.510556  26.078056  2016/04/16 00  12.7  23.9   3.4   \n",
       "1449  15108  1897.0  46.977500  25.950000  2016/12/17 00  -9.0  -6.6 -11.0   \n",
       "\n",
       "      R24  \n",
       "6742  1.8  \n",
       "5749  NaN  \n",
       "2265  2.1  \n",
       "3905  NaN  \n",
       "6456  1.0  \n",
       "591   NaN  \n",
       "6933  NaN  \n",
       "2090  NaN  \n",
       "6694  NaN  \n",
       "1449  NaN  "
      ]
     },
     "execution_count": 6,
     "metadata": {},
     "output_type": "execute_result"
    }
   ],
   "source": [
    "data_csv.sample(10)"
   ]
  },
  {
   "cell_type": "markdown",
   "id": "266754ba",
   "metadata": {},
   "source": [
    "In imaginea precedenta putem observa caracteristicile de la nivelul structurii de date: CODST (cod statie), ALT (altitudine), LAT (latitudine), LON (longitudine), DATCLIM (data), TMED (temperatura medie), TMAX (temperatura maxima), TMIN (temperatura minima), R24."
   ]
  },
  {
   "cell_type": "markdown",
   "id": "01f94565",
   "metadata": {},
   "source": [
    "Descoperirea si intelegerea setului de date importat la nivelul structurii de date de tip DataFrame (data) are in vedere doua aspecte foarte importante:\n",
    "* intelegerea structurii de date: numarul de linii si coloane, denumirea coloanelor, tipurile de date alocate coloanelor;\n",
    "* intelegerea datelor: valorile stocate la nivelul coloanelor."
   ]
  },
  {
   "cell_type": "markdown",
   "id": "7ec9d367",
   "metadata": {},
   "source": [
    "Pentru a intelege structura setului de date pot fi utilizate proprietati si metode ale structurii de date, precum [pandas.DataFrame.info()](https://pandas.pydata.org/docs/reference/api/pandas.DataFrame.info.html), [pandas.DataFrame.shape](https://pandas.pydata.org/docs/reference/api/pandas.DataFrame.shape.html), [pandas.Dataframe.columns](https://pandas.pydata.org/docs/reference/api/pandas.DataFrame.columns.html). "
   ]
  },
  {
   "cell_type": "markdown",
   "id": "d428dcb9",
   "metadata": {},
   "source": [
    "Metoda [pandas.DataFrame.info()](https://pandas.pydata.org/docs/reference/api/pandas.DataFrame.info.html) afiseaza informatii generale cu privire la structura de date de tip DataFrame, inclusiv tipul de date al valorilor de la nivelul coloanelor, denumirile coloanelor, valorile nenule, dar si informatii cu privire la utilizarea memoriei."
   ]
  },
  {
   "cell_type": "code",
   "execution_count": 7,
   "id": "8df04dea",
   "metadata": {},
   "outputs": [
    {
     "name": "stdout",
     "output_type": "stream",
     "text": [
      "<class 'pandas.core.frame.DataFrame'>\n",
      "RangeIndex: 8418 entries, 0 to 8417\n",
      "Data columns (total 9 columns):\n",
      " #   Column   Non-Null Count  Dtype  \n",
      "---  ------   --------------  -----  \n",
      " 0   CODST    8418 non-null   int64  \n",
      " 1   ALT      8418 non-null   float64\n",
      " 2   LAT      8418 non-null   float64\n",
      " 3   LON      8418 non-null   float64\n",
      " 4   DATCLIM  8418 non-null   object \n",
      " 5   TMED     8418 non-null   float64\n",
      " 6   TMAX     8418 non-null   float64\n",
      " 7   TMIN     8418 non-null   float64\n",
      " 8   R24      3155 non-null   float64\n",
      "dtypes: float64(7), int64(1), object(1)\n",
      "memory usage: 592.0+ KB\n"
     ]
    }
   ],
   "source": [
    "data_csv.info()"
   ]
  },
  {
   "cell_type": "markdown",
   "id": "7584aef1",
   "metadata": {},
   "source": [
    "Proprietatea [pandas.DataFrame.shape](https://pandas.pydata.org/docs/reference/api/pandas.DataFrame.shape.html) returneaza un tuplu care reprezinta dimensionalitatea structurii de date, adica numarul de linii si de coloane de la nivelul acesteia. Astfel, putem observa faptul ca structura beneficiaza de are 8418 linii si 9 coloane."
   ]
  },
  {
   "cell_type": "code",
   "execution_count": 8,
   "id": "e5a9830f",
   "metadata": {},
   "outputs": [
    {
     "data": {
      "text/plain": [
       "(8418, 9)"
      ]
     },
     "execution_count": 8,
     "metadata": {},
     "output_type": "execute_result"
    }
   ],
   "source": [
    "data_csv.shape"
   ]
  },
  {
   "cell_type": "markdown",
   "id": "f0bbc235",
   "metadata": {},
   "source": [
    "Denumirile coloanelor pot fi obtinute la nivelul unei obiect folosind proprietatea [pandas.DataFrame.columns](https://pandas.pydata.org/docs/reference/api/pandas.DataFrame.columns.html). Prin intermediul acestei proprietati exista si posibilitatea modificarii/actualizarii denumirilor coloanelor. "
   ]
  },
  {
   "cell_type": "code",
   "execution_count": 9,
   "id": "5b15f2f1",
   "metadata": {},
   "outputs": [
    {
     "data": {
      "text/plain": [
       "Index(['CODST', 'ALT', 'LAT', 'LON', 'DATCLIM', 'TMED', 'TMAX', 'TMIN', 'R24'], dtype='object')"
      ]
     },
     "execution_count": 9,
     "metadata": {},
     "output_type": "execute_result"
    }
   ],
   "source": [
    "data_csv.columns"
   ]
  },
  {
   "cell_type": "code",
   "execution_count": 10,
   "id": "2e9a1ec1",
   "metadata": {},
   "outputs": [],
   "source": [
    "data_csv.columns = data_csv.columns.str.strip()"
   ]
  },
  {
   "cell_type": "code",
   "execution_count": 11,
   "id": "23a9f1db",
   "metadata": {},
   "outputs": [
    {
     "data": {
      "text/plain": [
       "Index(['codst', 'alt', 'lat', 'lon', 'datclim', 'tmed', 'tmax', 'tmin', 'r24'], dtype='object')"
      ]
     },
     "execution_count": 11,
     "metadata": {},
     "output_type": "execute_result"
    }
   ],
   "source": [
    "data_csv.columns = [col.lower() for col in data_csv.columns]\n",
    "data_csv.columns"
   ]
  },
  {
   "cell_type": "markdown",
   "id": "0e70b222",
   "metadata": {},
   "source": [
    "### Relevanta tipurilor de date in analiza statistica"
   ]
  },
  {
   "cell_type": "markdown",
   "id": "40153430",
   "metadata": {},
   "source": [
    "Distingerea corecta intre datele numerice si datele categorice este cruciala, influentand aplicabilitatea diverselor metode statistice. De exemplu, coloanele reprezentand coduri postale sau numere de identificare, desi numerice, ar trebui tratate ca date categorice pentru a preveni interpretari eronate in analiza."
   ]
  },
  {
   "cell_type": "markdown",
   "id": "0ce8aafa",
   "metadata": {},
   "source": [
    "Un tip de date reprezinta o constructie interna pe care un limbaj de programare o foloseste pentru a intelege cum sa stocheze si manipuleze datele. In analiza datelor, este foarte important sa ne asiguram ca utilizam tipurile de date corecte. In caz contrar, putem obtine rezultate neasteptate sau chiar erori. Mecanismele de baza pentru ingestia simpla a datelor de la nivelul bibliotecii Pandas deduc, in general, corect tipurile de date.  "
   ]
  },
  {
   "cell_type": "markdown",
   "id": "dd76c1d4",
   "metadata": {},
   "source": [
    "In cele ce urmeaza, utilizam atributul [pandas.DataFrame.dtypes](https://pandas.pydata.org/docs/reference/api/pandas.DataFrame.dtypes.html) pentru a afisa coloanele de la nivelul structurii de date de tip DataFrame (data) impreuna cu tipul de date asociat acestora. "
   ]
  },
  {
   "cell_type": "code",
   "execution_count": 12,
   "id": "0e03b84f",
   "metadata": {},
   "outputs": [
    {
     "data": {
      "text/plain": [
       "codst        int64\n",
       "alt        float64\n",
       "lat        float64\n",
       "lon        float64\n",
       "datclim     object\n",
       "tmed       float64\n",
       "tmax       float64\n",
       "tmin       float64\n",
       "r24        float64\n",
       "dtype: object"
      ]
     },
     "execution_count": 12,
     "metadata": {},
     "output_type": "execute_result"
    }
   ],
   "source": [
    "data_csv.dtypes"
   ]
  },
  {
   "cell_type": "markdown",
   "id": "f8d6e5a7",
   "metadata": {},
   "source": [
    "Metoda [pandas.Series.unique()](https://pandas.pydata.org/docs/reference/api/pandas.Series.unique.html) returneaza valorile unice de la nivelul unui obiect de tip Series. In cazul nostru, valorile fiecarei coloane pot fi gestionate prin intermediul unui astfel de obiect. In felul acesta putem determina valorile unice ale unei coloane, precum codst (codul statiei). "
   ]
  },
  {
   "cell_type": "markdown",
   "id": "5287b102",
   "metadata": {},
   "source": [
    "Tipurile de date reprezinta un aspect important al analizei statistice, care trebuie inteles bine pentru a putea aplica corect metode statistice. Din acest punct de vedere exista 2 tipuri principale de date, si anume: date numerice si date categorice. \n",
    "Datele numerice, dupa cum si numele o sugereaza, se refera la variabile numerice, in timp ce datele categorice sunt de obicei grupate intr-una sau mai multe categorii. \n",
    "\n",
    "Cunoscute si sub numele de date calitative, fiecare element al unui set de date categorice poate fi incadrat intr-o singura categorie in functie de calitatile sale. De exemplu, sexul este o data categorica deoarece poate fi clasificat in masculin si feminin in functie de anumite calitati unice. \n",
    "\n",
    "Datele numerice sunt compatibile cu majoritatea metodelor statistice de analiza a datelor, aspect care nu este valabil in cazul datelor categorice."
   ]
  },
  {
   "cell_type": "markdown",
   "id": "ba8c8ee9",
   "metadata": {},
   "source": [
    "<!-- ![Types of data](../images/data_types.png) -->\n",
    "<img src=\"https://www.legac.com.au/cdn/shop/articles/Picture1.png\" width=\"800\">\n",
    "\n",
    "[Further Mathematics - Unit 3 - Data Analysis - Types of Data](https://legac.com.au/blogs/further-mathematics-exam-revision/further-mathematics-unit-3-data-analysis-types-of-data)"
   ]
  },
  {
   "cell_type": "markdown",
   "id": "873868ca",
   "metadata": {},
   "source": [
    "Atat datele numerice, cat si cele categorice pot lua valori numerice. Datele categorice pot lua valori numerice, precum numar identificare, cod postal, numar telefon, dar aceste valori nu prezinta semnificatie matematica.  "
   ]
  },
  {
   "cell_type": "markdown",
   "id": "fefc86d3",
   "metadata": {},
   "source": [
    "Observam faptul ca la nivelul coloanei codst sunt disponibile doar 23 de valori care reprezinta identificatorul fiecarei statii meteorologice pentru care sunt realizate masuratori."
   ]
  },
  {
   "cell_type": "code",
   "execution_count": 13,
   "id": "d9e642d4",
   "metadata": {},
   "outputs": [
    {
     "data": {
      "text/plain": [
       "array([15015, 15020, 15090, 15108, 15120, 15150, 15170, 15200, 15230,\n",
       "       15260, 15280, 15292, 15310, 15335, 15346, 15350, 15360, 15410,\n",
       "       15420, 15450, 15460, 15470, 15480])"
      ]
     },
     "execution_count": 13,
     "metadata": {},
     "output_type": "execute_result"
    }
   ],
   "source": [
    "data_csv['codst'].unique()"
   ]
  },
  {
   "cell_type": "markdown",
   "id": "422a10de",
   "metadata": {},
   "source": [
    "Cea mai simpla modalitate de conversie a unei coloane la tipul category o reprezinta [pandas.DataFrame.astype()](https://pandas.pydata.org/docs/reference/api/pandas.DataFrame.astype.html), metoda care permite trecerea unui obiect Pandas la un tip de date specificat explicit."
   ]
  },
  {
   "cell_type": "code",
   "execution_count": 14,
   "id": "f4cde2aa",
   "metadata": {},
   "outputs": [],
   "source": [
    "data_csv['codst'] = data_csv['codst'].astype('category')"
   ]
  },
  {
   "cell_type": "code",
   "execution_count": 15,
   "id": "722eac31",
   "metadata": {},
   "outputs": [
    {
     "name": "stdout",
     "output_type": "stream",
     "text": [
      "<class 'pandas.core.frame.DataFrame'>\n",
      "RangeIndex: 8418 entries, 0 to 8417\n",
      "Data columns (total 9 columns):\n",
      " #   Column   Non-Null Count  Dtype   \n",
      "---  ------   --------------  -----   \n",
      " 0   codst    8418 non-null   category\n",
      " 1   alt      8418 non-null   float64 \n",
      " 2   lat      8418 non-null   float64 \n",
      " 3   lon      8418 non-null   float64 \n",
      " 4   datclim  8418 non-null   object  \n",
      " 5   tmed     8418 non-null   float64 \n",
      " 6   tmax     8418 non-null   float64 \n",
      " 7   tmin     8418 non-null   float64 \n",
      " 8   r24      3155 non-null   float64 \n",
      "dtypes: category(1), float64(7), object(1)\n",
      "memory usage: 535.2+ KB\n"
     ]
    }
   ],
   "source": [
    "data_csv.info()"
   ]
  },
  {
   "cell_type": "markdown",
   "id": "842e9bdf",
   "metadata": {},
   "source": [
    "Pentru descoperirea si intelegerea datelor prezinta interes o serie de metode definite in Pandas pentru lucrul cu structuri de date, precum: [pandas.DataFrame.describe()](https://pandas.pydata.org/docs/reference/api/pandas.DataFrame.describe.html), [pandas.DataFrame.head()](https://pandas.pydata.org/docs/reference/api/pandas.DataFrame.head.html), [pandas.DataFrame.tail()](https://pandas.pydata.org/docs/reference/api/pandas.DataFrame.tail.html). Metodele si proprietatile precizate mai sus pentru structurile de date de tip DataFrame sunt definite inclusiv la nivelul structurilor de date de tip Series, cea ce-a doua modalitate de stocare si gestionare a datelor in Pandas."
   ]
  },
  {
   "cell_type": "code",
   "execution_count": 16,
   "id": "f4180f17",
   "metadata": {},
   "outputs": [
    {
     "data": {
      "text/html": [
       "<div>\n",
       "<style scoped>\n",
       "    .dataframe tbody tr th:only-of-type {\n",
       "        vertical-align: middle;\n",
       "    }\n",
       "\n",
       "    .dataframe tbody tr th {\n",
       "        vertical-align: top;\n",
       "    }\n",
       "\n",
       "    .dataframe thead th {\n",
       "        text-align: right;\n",
       "    }\n",
       "</style>\n",
       "<table border=\"1\" class=\"dataframe\">\n",
       "  <thead>\n",
       "    <tr style=\"text-align: right;\">\n",
       "      <th></th>\n",
       "      <th>alt</th>\n",
       "      <th>lat</th>\n",
       "      <th>lon</th>\n",
       "      <th>tmed</th>\n",
       "      <th>tmax</th>\n",
       "      <th>tmin</th>\n",
       "      <th>r24</th>\n",
       "    </tr>\n",
       "  </thead>\n",
       "  <tbody>\n",
       "    <tr>\n",
       "      <th>count</th>\n",
       "      <td>8418.000000</td>\n",
       "      <td>8418.000000</td>\n",
       "      <td>8418.000000</td>\n",
       "      <td>8418.000000</td>\n",
       "      <td>8418.000000</td>\n",
       "      <td>8418.000000</td>\n",
       "      <td>3155.000000</td>\n",
       "    </tr>\n",
       "    <tr>\n",
       "      <th>mean</th>\n",
       "      <td>362.504348</td>\n",
       "      <td>45.653587</td>\n",
       "      <td>25.555000</td>\n",
       "      <td>10.355524</td>\n",
       "      <td>15.862236</td>\n",
       "      <td>5.842492</td>\n",
       "      <td>5.341395</td>\n",
       "    </tr>\n",
       "    <tr>\n",
       "      <th>std</th>\n",
       "      <td>597.997236</td>\n",
       "      <td>1.096888</td>\n",
       "      <td>2.226897</td>\n",
       "      <td>9.670633</td>\n",
       "      <td>10.988680</td>\n",
       "      <td>8.798955</td>\n",
       "      <td>8.610003</td>\n",
       "    </tr>\n",
       "    <tr>\n",
       "      <th>min</th>\n",
       "      <td>4.360000</td>\n",
       "      <td>44.107222</td>\n",
       "      <td>21.353611</td>\n",
       "      <td>-22.400000</td>\n",
       "      <td>-19.700000</td>\n",
       "      <td>-24.000000</td>\n",
       "      <td>0.000000</td>\n",
       "    </tr>\n",
       "    <tr>\n",
       "      <th>25%</th>\n",
       "      <td>74.290000</td>\n",
       "      <td>44.626389</td>\n",
       "      <td>23.866944</td>\n",
       "      <td>3.700000</td>\n",
       "      <td>7.800000</td>\n",
       "      <td>0.000000</td>\n",
       "      <td>0.500000</td>\n",
       "    </tr>\n",
       "    <tr>\n",
       "      <th>50%</th>\n",
       "      <td>161.000000</td>\n",
       "      <td>45.445833</td>\n",
       "      <td>25.772500</td>\n",
       "      <td>10.100000</td>\n",
       "      <td>15.500000</td>\n",
       "      <td>6.100000</td>\n",
       "      <td>2.000000</td>\n",
       "    </tr>\n",
       "    <tr>\n",
       "      <th>75%</th>\n",
       "      <td>410.000000</td>\n",
       "      <td>46.557778</td>\n",
       "      <td>27.338333</td>\n",
       "      <td>18.500000</td>\n",
       "      <td>25.500000</td>\n",
       "      <td>12.800000</td>\n",
       "      <td>6.450000</td>\n",
       "    </tr>\n",
       "    <tr>\n",
       "      <th>max</th>\n",
       "      <td>2504.000000</td>\n",
       "      <td>47.776944</td>\n",
       "      <td>29.726944</td>\n",
       "      <td>29.500000</td>\n",
       "      <td>37.800000</td>\n",
       "      <td>26.100000</td>\n",
       "      <td>92.000000</td>\n",
       "    </tr>\n",
       "  </tbody>\n",
       "</table>\n",
       "</div>"
      ],
      "text/plain": [
       "               alt          lat          lon         tmed         tmax  \\\n",
       "count  8418.000000  8418.000000  8418.000000  8418.000000  8418.000000   \n",
       "mean    362.504348    45.653587    25.555000    10.355524    15.862236   \n",
       "std     597.997236     1.096888     2.226897     9.670633    10.988680   \n",
       "min       4.360000    44.107222    21.353611   -22.400000   -19.700000   \n",
       "25%      74.290000    44.626389    23.866944     3.700000     7.800000   \n",
       "50%     161.000000    45.445833    25.772500    10.100000    15.500000   \n",
       "75%     410.000000    46.557778    27.338333    18.500000    25.500000   \n",
       "max    2504.000000    47.776944    29.726944    29.500000    37.800000   \n",
       "\n",
       "              tmin          r24  \n",
       "count  8418.000000  3155.000000  \n",
       "mean      5.842492     5.341395  \n",
       "std       8.798955     8.610003  \n",
       "min     -24.000000     0.000000  \n",
       "25%       0.000000     0.500000  \n",
       "50%       6.100000     2.000000  \n",
       "75%      12.800000     6.450000  \n",
       "max      26.100000    92.000000  "
      ]
     },
     "execution_count": 16,
     "metadata": {},
     "output_type": "execute_result"
    }
   ],
   "source": [
    "data_csv.describe()"
   ]
  },
  {
   "cell_type": "code",
   "execution_count": 17,
   "id": "8274fcaa",
   "metadata": {},
   "outputs": [
    {
     "data": {
      "text/html": [
       "<div>\n",
       "<style scoped>\n",
       "    .dataframe tbody tr th:only-of-type {\n",
       "        vertical-align: middle;\n",
       "    }\n",
       "\n",
       "    .dataframe tbody tr th {\n",
       "        vertical-align: top;\n",
       "    }\n",
       "\n",
       "    .dataframe thead th {\n",
       "        text-align: right;\n",
       "    }\n",
       "</style>\n",
       "<table border=\"1\" class=\"dataframe\">\n",
       "  <thead>\n",
       "    <tr style=\"text-align: right;\">\n",
       "      <th></th>\n",
       "      <th>codst</th>\n",
       "      <th>alt</th>\n",
       "      <th>lat</th>\n",
       "      <th>lon</th>\n",
       "      <th>datclim</th>\n",
       "      <th>tmed</th>\n",
       "      <th>tmax</th>\n",
       "      <th>tmin</th>\n",
       "      <th>r24</th>\n",
       "    </tr>\n",
       "  </thead>\n",
       "  <tbody>\n",
       "    <tr>\n",
       "      <th>count</th>\n",
       "      <td>8418.0</td>\n",
       "      <td>8418.000000</td>\n",
       "      <td>8418.000000</td>\n",
       "      <td>8418.000000</td>\n",
       "      <td>8418</td>\n",
       "      <td>8418.000000</td>\n",
       "      <td>8418.000000</td>\n",
       "      <td>8418.000000</td>\n",
       "      <td>3155.000000</td>\n",
       "    </tr>\n",
       "    <tr>\n",
       "      <th>unique</th>\n",
       "      <td>23.0</td>\n",
       "      <td>NaN</td>\n",
       "      <td>NaN</td>\n",
       "      <td>NaN</td>\n",
       "      <td>366</td>\n",
       "      <td>NaN</td>\n",
       "      <td>NaN</td>\n",
       "      <td>NaN</td>\n",
       "      <td>NaN</td>\n",
       "    </tr>\n",
       "    <tr>\n",
       "      <th>top</th>\n",
       "      <td>15015.0</td>\n",
       "      <td>NaN</td>\n",
       "      <td>NaN</td>\n",
       "      <td>NaN</td>\n",
       "      <td>2016/12/31 00</td>\n",
       "      <td>NaN</td>\n",
       "      <td>NaN</td>\n",
       "      <td>NaN</td>\n",
       "      <td>NaN</td>\n",
       "    </tr>\n",
       "    <tr>\n",
       "      <th>freq</th>\n",
       "      <td>366.0</td>\n",
       "      <td>NaN</td>\n",
       "      <td>NaN</td>\n",
       "      <td>NaN</td>\n",
       "      <td>23</td>\n",
       "      <td>NaN</td>\n",
       "      <td>NaN</td>\n",
       "      <td>NaN</td>\n",
       "      <td>NaN</td>\n",
       "    </tr>\n",
       "    <tr>\n",
       "      <th>mean</th>\n",
       "      <td>NaN</td>\n",
       "      <td>362.504348</td>\n",
       "      <td>45.653587</td>\n",
       "      <td>25.555000</td>\n",
       "      <td>NaN</td>\n",
       "      <td>10.355524</td>\n",
       "      <td>15.862236</td>\n",
       "      <td>5.842492</td>\n",
       "      <td>5.341395</td>\n",
       "    </tr>\n",
       "    <tr>\n",
       "      <th>std</th>\n",
       "      <td>NaN</td>\n",
       "      <td>597.997236</td>\n",
       "      <td>1.096888</td>\n",
       "      <td>2.226897</td>\n",
       "      <td>NaN</td>\n",
       "      <td>9.670633</td>\n",
       "      <td>10.988680</td>\n",
       "      <td>8.798955</td>\n",
       "      <td>8.610003</td>\n",
       "    </tr>\n",
       "    <tr>\n",
       "      <th>min</th>\n",
       "      <td>NaN</td>\n",
       "      <td>4.360000</td>\n",
       "      <td>44.107222</td>\n",
       "      <td>21.353611</td>\n",
       "      <td>NaN</td>\n",
       "      <td>-22.400000</td>\n",
       "      <td>-19.700000</td>\n",
       "      <td>-24.000000</td>\n",
       "      <td>0.000000</td>\n",
       "    </tr>\n",
       "    <tr>\n",
       "      <th>25%</th>\n",
       "      <td>NaN</td>\n",
       "      <td>74.290000</td>\n",
       "      <td>44.626389</td>\n",
       "      <td>23.866944</td>\n",
       "      <td>NaN</td>\n",
       "      <td>3.700000</td>\n",
       "      <td>7.800000</td>\n",
       "      <td>0.000000</td>\n",
       "      <td>0.500000</td>\n",
       "    </tr>\n",
       "    <tr>\n",
       "      <th>50%</th>\n",
       "      <td>NaN</td>\n",
       "      <td>161.000000</td>\n",
       "      <td>45.445833</td>\n",
       "      <td>25.772500</td>\n",
       "      <td>NaN</td>\n",
       "      <td>10.100000</td>\n",
       "      <td>15.500000</td>\n",
       "      <td>6.100000</td>\n",
       "      <td>2.000000</td>\n",
       "    </tr>\n",
       "    <tr>\n",
       "      <th>75%</th>\n",
       "      <td>NaN</td>\n",
       "      <td>410.000000</td>\n",
       "      <td>46.557778</td>\n",
       "      <td>27.338333</td>\n",
       "      <td>NaN</td>\n",
       "      <td>18.500000</td>\n",
       "      <td>25.500000</td>\n",
       "      <td>12.800000</td>\n",
       "      <td>6.450000</td>\n",
       "    </tr>\n",
       "    <tr>\n",
       "      <th>max</th>\n",
       "      <td>NaN</td>\n",
       "      <td>2504.000000</td>\n",
       "      <td>47.776944</td>\n",
       "      <td>29.726944</td>\n",
       "      <td>NaN</td>\n",
       "      <td>29.500000</td>\n",
       "      <td>37.800000</td>\n",
       "      <td>26.100000</td>\n",
       "      <td>92.000000</td>\n",
       "    </tr>\n",
       "  </tbody>\n",
       "</table>\n",
       "</div>"
      ],
      "text/plain": [
       "          codst          alt          lat          lon        datclim  \\\n",
       "count    8418.0  8418.000000  8418.000000  8418.000000           8418   \n",
       "unique     23.0          NaN          NaN          NaN            366   \n",
       "top     15015.0          NaN          NaN          NaN  2016/12/31 00   \n",
       "freq      366.0          NaN          NaN          NaN             23   \n",
       "mean        NaN   362.504348    45.653587    25.555000            NaN   \n",
       "std         NaN   597.997236     1.096888     2.226897            NaN   \n",
       "min         NaN     4.360000    44.107222    21.353611            NaN   \n",
       "25%         NaN    74.290000    44.626389    23.866944            NaN   \n",
       "50%         NaN   161.000000    45.445833    25.772500            NaN   \n",
       "75%         NaN   410.000000    46.557778    27.338333            NaN   \n",
       "max         NaN  2504.000000    47.776944    29.726944            NaN   \n",
       "\n",
       "               tmed         tmax         tmin          r24  \n",
       "count   8418.000000  8418.000000  8418.000000  3155.000000  \n",
       "unique          NaN          NaN          NaN          NaN  \n",
       "top             NaN          NaN          NaN          NaN  \n",
       "freq            NaN          NaN          NaN          NaN  \n",
       "mean      10.355524    15.862236     5.842492     5.341395  \n",
       "std        9.670633    10.988680     8.798955     8.610003  \n",
       "min      -22.400000   -19.700000   -24.000000     0.000000  \n",
       "25%        3.700000     7.800000     0.000000     0.500000  \n",
       "50%       10.100000    15.500000     6.100000     2.000000  \n",
       "75%       18.500000    25.500000    12.800000     6.450000  \n",
       "max       29.500000    37.800000    26.100000    92.000000  "
      ]
     },
     "execution_count": 17,
     "metadata": {},
     "output_type": "execute_result"
    }
   ],
   "source": [
    "data_csv.describe(include='all')"
   ]
  },
  {
   "cell_type": "markdown",
   "id": "6a6cd394",
   "metadata": {},
   "source": [
    "Implicit, metoda [pandas.DataFrame.describe()](https://pandas.pydata.org/docs/reference/api/pandas.DataFrame.describe.html) genereaza valori statistice corespunzatoare datelor din fiecare coloana de tip numeric. Astfel, sunt disponibile: numarul de observatii nenule, valoarea maxima, valoare minima, valoarea medie, deviatia standard a observatiilor, dar si percentilele 25. 50 si 75.\n",
    "Percentilele sunt utilizate in statistica pentru a intelege si interpreta datele. De exemplu, percentila a 25-a unui set de date reprezinta valoarea la care 25% din date se afla sub aceasta valoare. "
   ]
  },
  {
   "cell_type": "code",
   "execution_count": 18,
   "id": "6c8feb9c",
   "metadata": {},
   "outputs": [
    {
     "data": {
      "text/plain": [
       "alt     74.290000\n",
       "lat     44.626389\n",
       "lon     23.866944\n",
       "tmed     3.700000\n",
       "tmax     7.800000\n",
       "tmin     0.000000\n",
       "r24      0.500000\n",
       "Name: 0.25, dtype: float64"
      ]
     },
     "execution_count": 18,
     "metadata": {},
     "output_type": "execute_result"
    }
   ],
   "source": [
    "data_csv.quantile(q=.25, axis=0, numeric_only=True)"
   ]
  },
  {
   "cell_type": "code",
   "execution_count": 19,
   "id": "f5ed65b4",
   "metadata": {},
   "outputs": [
    {
     "name": "stdout",
     "output_type": "stream",
     "text": [
      "<class 'pandas.core.frame.DataFrame'>\n",
      "RangeIndex: 8418 entries, 0 to 8417\n",
      "Data columns (total 9 columns):\n",
      " #   Column   Non-Null Count  Dtype   \n",
      "---  ------   --------------  -----   \n",
      " 0   codst    8418 non-null   category\n",
      " 1   alt      8418 non-null   float64 \n",
      " 2   lat      8418 non-null   float64 \n",
      " 3   lon      8418 non-null   float64 \n",
      " 4   datclim  8418 non-null   object  \n",
      " 5   tmed     8418 non-null   float64 \n",
      " 6   tmax     8418 non-null   float64 \n",
      " 7   tmin     8418 non-null   float64 \n",
      " 8   r24      3155 non-null   float64 \n",
      "dtypes: category(1), float64(7), object(1)\n",
      "memory usage: 535.2+ KB\n"
     ]
    }
   ],
   "source": [
    "data_csv.info()"
   ]
  },
  {
   "cell_type": "code",
   "execution_count": 20,
   "id": "bac49197",
   "metadata": {},
   "outputs": [
    {
     "data": {
      "text/html": [
       "<div>\n",
       "<style scoped>\n",
       "    .dataframe tbody tr th:only-of-type {\n",
       "        vertical-align: middle;\n",
       "    }\n",
       "\n",
       "    .dataframe tbody tr th {\n",
       "        vertical-align: top;\n",
       "    }\n",
       "\n",
       "    .dataframe thead th {\n",
       "        text-align: right;\n",
       "    }\n",
       "</style>\n",
       "<table border=\"1\" class=\"dataframe\">\n",
       "  <thead>\n",
       "    <tr style=\"text-align: right;\">\n",
       "      <th></th>\n",
       "      <th>codst</th>\n",
       "      <th>datclim</th>\n",
       "    </tr>\n",
       "  </thead>\n",
       "  <tbody>\n",
       "    <tr>\n",
       "      <th>count</th>\n",
       "      <td>8418</td>\n",
       "      <td>8418</td>\n",
       "    </tr>\n",
       "    <tr>\n",
       "      <th>unique</th>\n",
       "      <td>23</td>\n",
       "      <td>366</td>\n",
       "    </tr>\n",
       "    <tr>\n",
       "      <th>top</th>\n",
       "      <td>15015</td>\n",
       "      <td>2016/12/31 00</td>\n",
       "    </tr>\n",
       "    <tr>\n",
       "      <th>freq</th>\n",
       "      <td>366</td>\n",
       "      <td>23</td>\n",
       "    </tr>\n",
       "  </tbody>\n",
       "</table>\n",
       "</div>"
      ],
      "text/plain": [
       "        codst        datclim\n",
       "count    8418           8418\n",
       "unique     23            366\n",
       "top     15015  2016/12/31 00\n",
       "freq      366             23"
      ]
     },
     "execution_count": 20,
     "metadata": {},
     "output_type": "execute_result"
    }
   ],
   "source": [
    "data_csv.describe(include=[object, 'category'])"
   ]
  },
  {
   "cell_type": "markdown",
   "id": "dc39e7d9",
   "metadata": {},
   "source": [
    "Daca este precizat parametrul include cu valoarea all, metoda ofera in plus pentru coloanele de tip object numarul de valori unice, cea mai comuna valoare si frecventa celei mai comune valori. Precizarea valorii [object] pentru parametrul include, determina includerea in rezultat doar a coloanelor care prezinta acest domeniu de definitie."
   ]
  },
  {
   "cell_type": "markdown",
   "id": "27b43673",
   "metadata": {},
   "source": [
    "Dupa cum am precizat si mai sus, metodele de tip head() si tail() returneaza un numar de observatii de la nivelul structurii. Prin transmiterea unui argument la nivelul acestor metode, nu vor mai fi avute in vedere primele / ultimele 5 inregistrari de la nivelul structurii, ci numarul de inregistrari precizate explicit."
   ]
  },
  {
   "cell_type": "code",
   "execution_count": 21,
   "id": "5b58c187",
   "metadata": {},
   "outputs": [
    {
     "data": {
      "text/html": [
       "<div>\n",
       "<style scoped>\n",
       "    .dataframe tbody tr th:only-of-type {\n",
       "        vertical-align: middle;\n",
       "    }\n",
       "\n",
       "    .dataframe tbody tr th {\n",
       "        vertical-align: top;\n",
       "    }\n",
       "\n",
       "    .dataframe thead th {\n",
       "        text-align: right;\n",
       "    }\n",
       "</style>\n",
       "<table border=\"1\" class=\"dataframe\">\n",
       "  <thead>\n",
       "    <tr style=\"text-align: right;\">\n",
       "      <th></th>\n",
       "      <th>codst</th>\n",
       "      <th>alt</th>\n",
       "      <th>lat</th>\n",
       "      <th>lon</th>\n",
       "      <th>datclim</th>\n",
       "      <th>tmed</th>\n",
       "      <th>tmax</th>\n",
       "      <th>tmin</th>\n",
       "      <th>r24</th>\n",
       "    </tr>\n",
       "  </thead>\n",
       "  <tbody>\n",
       "    <tr>\n",
       "      <th>0</th>\n",
       "      <td>15015</td>\n",
       "      <td>503.0</td>\n",
       "      <td>47.776944</td>\n",
       "      <td>23.940556</td>\n",
       "      <td>2016/01/01 00</td>\n",
       "      <td>-10.0</td>\n",
       "      <td>-5.7</td>\n",
       "      <td>-13.6</td>\n",
       "      <td>NaN</td>\n",
       "    </tr>\n",
       "    <tr>\n",
       "      <th>1</th>\n",
       "      <td>15015</td>\n",
       "      <td>503.0</td>\n",
       "      <td>47.776944</td>\n",
       "      <td>23.940556</td>\n",
       "      <td>2016/01/02 00</td>\n",
       "      <td>-11.0</td>\n",
       "      <td>-5.9</td>\n",
       "      <td>-14.4</td>\n",
       "      <td>NaN</td>\n",
       "    </tr>\n",
       "    <tr>\n",
       "      <th>2</th>\n",
       "      <td>15015</td>\n",
       "      <td>503.0</td>\n",
       "      <td>47.776944</td>\n",
       "      <td>23.940556</td>\n",
       "      <td>2016/01/03 00</td>\n",
       "      <td>-12.2</td>\n",
       "      <td>-5.5</td>\n",
       "      <td>-16.4</td>\n",
       "      <td>NaN</td>\n",
       "    </tr>\n",
       "  </tbody>\n",
       "</table>\n",
       "</div>"
      ],
      "text/plain": [
       "   codst    alt        lat        lon        datclim  tmed  tmax  tmin  r24\n",
       "0  15015  503.0  47.776944  23.940556  2016/01/01 00 -10.0  -5.7 -13.6  NaN\n",
       "1  15015  503.0  47.776944  23.940556  2016/01/02 00 -11.0  -5.9 -14.4  NaN\n",
       "2  15015  503.0  47.776944  23.940556  2016/01/03 00 -12.2  -5.5 -16.4  NaN"
      ]
     },
     "execution_count": 21,
     "metadata": {},
     "output_type": "execute_result"
    }
   ],
   "source": [
    "data_csv.head(3)"
   ]
  },
  {
   "cell_type": "code",
   "execution_count": 22,
   "id": "8cfa788a",
   "metadata": {},
   "outputs": [
    {
     "data": {
      "text/html": [
       "<div>\n",
       "<style scoped>\n",
       "    .dataframe tbody tr th:only-of-type {\n",
       "        vertical-align: middle;\n",
       "    }\n",
       "\n",
       "    .dataframe tbody tr th {\n",
       "        vertical-align: top;\n",
       "    }\n",
       "\n",
       "    .dataframe thead th {\n",
       "        text-align: right;\n",
       "    }\n",
       "</style>\n",
       "<table border=\"1\" class=\"dataframe\">\n",
       "  <thead>\n",
       "    <tr style=\"text-align: right;\">\n",
       "      <th></th>\n",
       "      <th>codst</th>\n",
       "      <th>alt</th>\n",
       "      <th>lat</th>\n",
       "      <th>lon</th>\n",
       "      <th>datclim</th>\n",
       "      <th>tmed</th>\n",
       "      <th>tmax</th>\n",
       "      <th>tmin</th>\n",
       "      <th>r24</th>\n",
       "    </tr>\n",
       "  </thead>\n",
       "  <tbody>\n",
       "    <tr>\n",
       "      <th>8415</th>\n",
       "      <td>15480</td>\n",
       "      <td>12.8</td>\n",
       "      <td>44.213889</td>\n",
       "      <td>28.645556</td>\n",
       "      <td>2016/12/29 00</td>\n",
       "      <td>1.6</td>\n",
       "      <td>2.7</td>\n",
       "      <td>0.5</td>\n",
       "      <td>0.0</td>\n",
       "    </tr>\n",
       "    <tr>\n",
       "      <th>8416</th>\n",
       "      <td>15480</td>\n",
       "      <td>12.8</td>\n",
       "      <td>44.213889</td>\n",
       "      <td>28.645556</td>\n",
       "      <td>2016/12/30 00</td>\n",
       "      <td>0.4</td>\n",
       "      <td>1.5</td>\n",
       "      <td>-0.5</td>\n",
       "      <td>0.6</td>\n",
       "    </tr>\n",
       "    <tr>\n",
       "      <th>8417</th>\n",
       "      <td>15480</td>\n",
       "      <td>12.8</td>\n",
       "      <td>44.213889</td>\n",
       "      <td>28.645556</td>\n",
       "      <td>2016/12/31 00</td>\n",
       "      <td>-1.5</td>\n",
       "      <td>1.5</td>\n",
       "      <td>-2.8</td>\n",
       "      <td>0.0</td>\n",
       "    </tr>\n",
       "  </tbody>\n",
       "</table>\n",
       "</div>"
      ],
      "text/plain": [
       "      codst   alt        lat        lon        datclim  tmed  tmax  tmin  r24\n",
       "8415  15480  12.8  44.213889  28.645556  2016/12/29 00   1.6   2.7   0.5  0.0\n",
       "8416  15480  12.8  44.213889  28.645556  2016/12/30 00   0.4   1.5  -0.5  0.6\n",
       "8417  15480  12.8  44.213889  28.645556  2016/12/31 00  -1.5   1.5  -2.8  0.0"
      ]
     },
     "execution_count": 22,
     "metadata": {},
     "output_type": "execute_result"
    }
   ],
   "source": [
    "data_csv.tail(3)"
   ]
  },
  {
   "cell_type": "markdown",
   "id": "b36fd6e4",
   "metadata": {},
   "source": [
    "### Vizualizarea datelor: de la boxplot-uri la histograme"
   ]
  },
  {
   "cell_type": "markdown",
   "id": "682b20b5",
   "metadata": {},
   "source": [
    "In etapele initiale ale explorarii datelor, vizualizarile joacă un rol important in identificarea tendintelor, distributiilor si potentialelor valori aberante. Pandas ofera facilitati pentru generarea rapida a boxplot-urilor si histogramelor, care pot oferi insight-uri valoroase despre setul de date analizat."
   ]
  },
  {
   "cell_type": "markdown",
   "id": "a9ebc49b",
   "metadata": {},
   "source": [
    "O diagrama de tip boxplot este o metoda de reprezentare grafica a grupurilor de date numerice prin intermediul cuartilelor acestora. Dreptunghiul/cutia (box) se intinde de la valorile cuartilelor Q1 pana la Q3, cu o linie mediana (Q2). Mustatile (whiskers) se intind de la marginile cutiei pentru a arata intervalul de variatie a datelor. Pozitia mustatilor este setata implicit la 1.5*IQR, unde IQR este intercuartila (IQR = Q3-Q1) sau intervalul dintre quartile. Punctele aberante (outliers) se gasesc dincolo de capatul mustatilor."
   ]
  },
  {
   "cell_type": "code",
   "execution_count": 23,
   "id": "c3c8f789",
   "metadata": {},
   "outputs": [
    {
     "data": {
      "text/plain": [
       "<Axes: >"
      ]
     },
     "execution_count": 23,
     "metadata": {},
     "output_type": "execute_result"
    },
    {
     "data": {
      "image/png": "[encoded data removed]",
      "text/plain": [
       "<Figure size 1000x800 with 1 Axes>"
      ]
     },
     "metadata": {},
     "output_type": "display_data"
    }
   ],
   "source": [
    "data_csv[['tmed', 'tmin', 'tmax']].plot.box(figsize=(10,8))"
   ]
  },
  {
   "cell_type": "markdown",
   "id": "b20bdcf2",
   "metadata": {},
   "source": [
    "O histograma este o reprezentarea a distributiei datelor. Histogramele indica numarul de valori care se afla intr-un anumit interval de valori. Functia [pandas.DataFrame.plot.hist()](https://pandas.pydata.org/docs/reference/api/pandas.DataFrame.plot.hist.html) grupeaza valorile de la nivelul coloanelor structurii de date in clase sau pubele (bins)."
   ]
  },
  {
   "cell_type": "code",
   "execution_count": 24,
   "id": "be93176b",
   "metadata": {},
   "outputs": [
    {
     "data": {
      "text/plain": [
       "<Axes: ylabel='Frequency'>"
      ]
     },
     "execution_count": 24,
     "metadata": {},
     "output_type": "execute_result"
    },
    {
     "data": {
      "image/png": "[encoded data removed]",
      "text/plain": [
       "<Figure size 1000x600 with 1 Axes>"
      ]
     },
     "metadata": {},
     "output_type": "display_data"
    }
   ],
   "source": [
    "data_csv[['tmed', 'tmin', 'tmax']].plot.hist(bins=10, alpha=0.5, figsize=(10,6))"
   ]
  },
  {
   "cell_type": "markdown",
   "id": "40900ca5",
   "metadata": {},
   "source": [
    "Primul argument al metodei [pandas.read_csv()](https://pandas.pydata.org/docs/reference/api/pandas.read_csv.html), filepath_or_buffer, permite specificarea unui sir de caractere corespunzator unei cai valide. Sirul poate include si un URL valid (http, ftp, s3, gs sau file). "
   ]
  },
  {
   "cell_type": "code",
   "execution_count": 25,
   "id": "c50ca47f",
   "metadata": {},
   "outputs": [],
   "source": [
    "# cititi fisierul remote de tip csv si incarcati datele in variabila data\n",
    "data_tmp = pd.read_csv(\"https://data.gov.ro/dataset/f649bad3-aa57-43ba-bf9e-bd8e9edde3f4/resource/4419b08f-4b1a-45fc-b88f-822bdacbe02d/download/climrbsn2016.csv\")"
   ]
  },
  {
   "cell_type": "code",
   "execution_count": 26,
   "id": "abd78ec1",
   "metadata": {
    "scrolled": true
   },
   "outputs": [
    {
     "data": {
      "text/html": [
       "<div>\n",
       "<style scoped>\n",
       "    .dataframe tbody tr th:only-of-type {\n",
       "        vertical-align: middle;\n",
       "    }\n",
       "\n",
       "    .dataframe tbody tr th {\n",
       "        vertical-align: top;\n",
       "    }\n",
       "\n",
       "    .dataframe thead th {\n",
       "        text-align: right;\n",
       "    }\n",
       "</style>\n",
       "<table border=\"1\" class=\"dataframe\">\n",
       "  <thead>\n",
       "    <tr style=\"text-align: right;\">\n",
       "      <th></th>\n",
       "      <th>CODST</th>\n",
       "      <th>ALT</th>\n",
       "      <th>LAT</th>\n",
       "      <th>LON</th>\n",
       "      <th>DATCLIM</th>\n",
       "      <th>TMED</th>\n",
       "      <th>TMAX</th>\n",
       "      <th>TMIN</th>\n",
       "      <th>R24</th>\n",
       "    </tr>\n",
       "  </thead>\n",
       "  <tbody>\n",
       "    <tr>\n",
       "      <th>0</th>\n",
       "      <td>15015</td>\n",
       "      <td>503.0</td>\n",
       "      <td>47.776944</td>\n",
       "      <td>23.940556</td>\n",
       "      <td>2016/01/01 00</td>\n",
       "      <td>-10.0</td>\n",
       "      <td>-5.7</td>\n",
       "      <td>-13.6</td>\n",
       "      <td>NaN</td>\n",
       "    </tr>\n",
       "    <tr>\n",
       "      <th>1</th>\n",
       "      <td>15015</td>\n",
       "      <td>503.0</td>\n",
       "      <td>47.776944</td>\n",
       "      <td>23.940556</td>\n",
       "      <td>2016/01/02 00</td>\n",
       "      <td>-11.0</td>\n",
       "      <td>-5.9</td>\n",
       "      <td>-14.4</td>\n",
       "      <td>NaN</td>\n",
       "    </tr>\n",
       "    <tr>\n",
       "      <th>2</th>\n",
       "      <td>15015</td>\n",
       "      <td>503.0</td>\n",
       "      <td>47.776944</td>\n",
       "      <td>23.940556</td>\n",
       "      <td>2016/01/03 00</td>\n",
       "      <td>-12.2</td>\n",
       "      <td>-5.5</td>\n",
       "      <td>-16.4</td>\n",
       "      <td>NaN</td>\n",
       "    </tr>\n",
       "    <tr>\n",
       "      <th>3</th>\n",
       "      <td>15015</td>\n",
       "      <td>503.0</td>\n",
       "      <td>47.776944</td>\n",
       "      <td>23.940556</td>\n",
       "      <td>2016/01/04 00</td>\n",
       "      <td>-11.0</td>\n",
       "      <td>-5.3</td>\n",
       "      <td>-16.6</td>\n",
       "      <td>0.0</td>\n",
       "    </tr>\n",
       "    <tr>\n",
       "      <th>4</th>\n",
       "      <td>15015</td>\n",
       "      <td>503.0</td>\n",
       "      <td>47.776944</td>\n",
       "      <td>23.940556</td>\n",
       "      <td>2016/01/05 00</td>\n",
       "      <td>-5.7</td>\n",
       "      <td>-4.6</td>\n",
       "      <td>-8.1</td>\n",
       "      <td>1.5</td>\n",
       "    </tr>\n",
       "  </tbody>\n",
       "</table>\n",
       "</div>"
      ],
      "text/plain": [
       "   CODST    ALT        LAT        LON        DATCLIM  TMED  TMAX  TMIN  R24\n",
       "0  15015  503.0  47.776944  23.940556  2016/01/01 00 -10.0  -5.7 -13.6  NaN\n",
       "1  15015  503.0  47.776944  23.940556  2016/01/02 00 -11.0  -5.9 -14.4  NaN\n",
       "2  15015  503.0  47.776944  23.940556  2016/01/03 00 -12.2  -5.5 -16.4  NaN\n",
       "3  15015  503.0  47.776944  23.940556  2016/01/04 00 -11.0  -5.3 -16.6  0.0\n",
       "4  15015  503.0  47.776944  23.940556  2016/01/05 00  -5.7  -4.6  -8.1  1.5"
      ]
     },
     "execution_count": 26,
     "metadata": {},
     "output_type": "execute_result"
    }
   ],
   "source": [
    "data_tmp.head()"
   ]
  },
  {
   "cell_type": "markdown",
   "id": "a2df1bf5",
   "metadata": {},
   "source": [
    "Fisierele TSV (Tab Separated Values) reprezinta fisiere text care contin inregistrari ale caror valori sunt separate prin intermediul tab-ului (\\t). Fiecare linie de la nivelul unui astfel de fisier reprezinta o noua inregistrare din setul de inregistrari stocate la nivelul fisierului. In general, fisierele TSV se utilizeaza pentru transferul datelor intre diverse sisteme."
   ]
  },
  {
   "cell_type": "code",
   "execution_count": 27,
   "id": "7effc49b",
   "metadata": {},
   "outputs": [],
   "source": [
    "# cititi fisierul remote de tip csv si incarcati datele in variabila data\n",
    "data_tsv = pd.read_csv(\"../data/climrbsn2016.tsv\", sep=\"\\t\", header=0)"
   ]
  },
  {
   "cell_type": "code",
   "execution_count": 28,
   "id": "14bfd4aa",
   "metadata": {},
   "outputs": [
    {
     "data": {
      "text/html": [
       "<div>\n",
       "<style scoped>\n",
       "    .dataframe tbody tr th:only-of-type {\n",
       "        vertical-align: middle;\n",
       "    }\n",
       "\n",
       "    .dataframe tbody tr th {\n",
       "        vertical-align: top;\n",
       "    }\n",
       "\n",
       "    .dataframe thead th {\n",
       "        text-align: right;\n",
       "    }\n",
       "</style>\n",
       "<table border=\"1\" class=\"dataframe\">\n",
       "  <thead>\n",
       "    <tr style=\"text-align: right;\">\n",
       "      <th></th>\n",
       "      <th>CODST</th>\n",
       "      <th>ALT</th>\n",
       "      <th>LAT</th>\n",
       "      <th>LON</th>\n",
       "      <th>DATCLIM</th>\n",
       "      <th>TMED</th>\n",
       "      <th>TMAX</th>\n",
       "      <th>TMIN</th>\n",
       "      <th>R24</th>\n",
       "    </tr>\n",
       "  </thead>\n",
       "  <tbody>\n",
       "    <tr>\n",
       "      <th>0</th>\n",
       "      <td>15015</td>\n",
       "      <td>503.0</td>\n",
       "      <td>47.776944</td>\n",
       "      <td>23.940556</td>\n",
       "      <td>2016/01/01 00</td>\n",
       "      <td>-10.0</td>\n",
       "      <td>-5.7</td>\n",
       "      <td>-13.6</td>\n",
       "      <td>NaN</td>\n",
       "    </tr>\n",
       "    <tr>\n",
       "      <th>1</th>\n",
       "      <td>15015</td>\n",
       "      <td>503.0</td>\n",
       "      <td>47.776944</td>\n",
       "      <td>23.940556</td>\n",
       "      <td>2016/01/02 00</td>\n",
       "      <td>-11.0</td>\n",
       "      <td>-5.9</td>\n",
       "      <td>-14.4</td>\n",
       "      <td>NaN</td>\n",
       "    </tr>\n",
       "    <tr>\n",
       "      <th>2</th>\n",
       "      <td>15015</td>\n",
       "      <td>503.0</td>\n",
       "      <td>47.776944</td>\n",
       "      <td>23.940556</td>\n",
       "      <td>2016/01/03 00</td>\n",
       "      <td>-12.2</td>\n",
       "      <td>-5.5</td>\n",
       "      <td>-16.4</td>\n",
       "      <td>NaN</td>\n",
       "    </tr>\n",
       "    <tr>\n",
       "      <th>3</th>\n",
       "      <td>15015</td>\n",
       "      <td>503.0</td>\n",
       "      <td>47.776944</td>\n",
       "      <td>23.940556</td>\n",
       "      <td>2016/01/04 00</td>\n",
       "      <td>-11.0</td>\n",
       "      <td>-5.3</td>\n",
       "      <td>-16.6</td>\n",
       "      <td>0.0</td>\n",
       "    </tr>\n",
       "    <tr>\n",
       "      <th>4</th>\n",
       "      <td>15015</td>\n",
       "      <td>503.0</td>\n",
       "      <td>47.776944</td>\n",
       "      <td>23.940556</td>\n",
       "      <td>2016/01/05 00</td>\n",
       "      <td>-5.7</td>\n",
       "      <td>-4.6</td>\n",
       "      <td>-8.1</td>\n",
       "      <td>1.5</td>\n",
       "    </tr>\n",
       "  </tbody>\n",
       "</table>\n",
       "</div>"
      ],
      "text/plain": [
       "    CODST    ALT        LAT        LON        DATCLIM  TMED  TMAX  TMIN  R24\n",
       "0   15015  503.0  47.776944  23.940556  2016/01/01 00 -10.0  -5.7 -13.6  NaN\n",
       "1   15015  503.0  47.776944  23.940556  2016/01/02 00 -11.0  -5.9 -14.4  NaN\n",
       "2   15015  503.0  47.776944  23.940556  2016/01/03 00 -12.2  -5.5 -16.4  NaN\n",
       "3   15015  503.0  47.776944  23.940556  2016/01/04 00 -11.0  -5.3 -16.6  0.0\n",
       "4   15015  503.0  47.776944  23.940556  2016/01/05 00  -5.7  -4.6  -8.1  1.5"
      ]
     },
     "execution_count": 28,
     "metadata": {},
     "output_type": "execute_result"
    }
   ],
   "source": [
    "data_tsv.head()"
   ]
  },
  {
   "cell_type": "markdown",
   "id": "d26260e2",
   "metadata": {},
   "source": [
    "### Importul datelor JSON <a name=\"json\"></a>"
   ]
  },
  {
   "cell_type": "markdown",
   "id": "98827678",
   "metadata": {},
   "source": [
    "JavaScript Object Notation (JSON) este un standard deschis care permite reprezentarea datelor ca si perechi de tipul nume-valoare si liste ordonate de valori. Derivat din sintaxa obiectelor de la nivelul limbajului JavaScript (de unde si numele sau, JavaScript Object Notation), JSON reprezinta cel mai popular format pentru schimbul de date intre diverse sisteme. \n",
    "\n",
    "Desi formatul JSON are ca si punct de plecare limbajul de programare JavaScript, el prezinta suport, direct sau prin intermediul unor biblioteci, pentru marea majoritate a limbajelor de programare. In momentul de fata, JSON este utilizat in mod obisnuit pentru a realiza schimbul de date intre clientii si serverele web."
   ]
  },
  {
   "cell_type": "markdown",
   "id": "3bb94ebb",
   "metadata": {},
   "source": [
    "O interfata de programare a aplicatiilor (API: Application Programming Interface) este un serviciu web care ofera acces la date pe care alte aplicatii le pot accesa prin intermediul protocoalelor HTTP. Un API poate fi usor integrat intr-o varietate de aplicatii. REpresentational State Transfer (REST) reprezinta cea mai populara arhitectura de API-uri pentru servicii web, conceputa pentru a simplifica comunicarea client-server."
   ]
  },
  {
   "cell_type": "markdown",
   "id": "40014f11",
   "metadata": {},
   "source": [
    "[OpenWeather](https://openweathermap.org/) este un serviciu web comercial care ofera date meteorologice istorice, actuale si prognozate pentru orice locatie geografica. Accesarea unui API de tip REST, precum cel oferit de serviciul OpenWeather poate fi realizata prin intermediul bibliotecii Python [Requests](https://pypi.org/project/requests/)."
   ]
  },
  {
   "cell_type": "markdown",
   "id": "6bbe219c",
   "metadata": {},
   "source": [
    "Pentru a putea utiliza elemente de la nivelul bibliotecii Requests, mai intai este necesara includerea acesteia. Dupa stabilirea valorilor pentru parametrii de la nivelul API-ului (lat - latitudine, lon - longitudine, type - tip apel (hour), start - data inceput, end - data final, appid - identificator aplicatie), putem accesa date prin intermediul metodei GET."
   ]
  },
  {
   "cell_type": "code",
   "execution_count": null,
   "id": "1c067541",
   "metadata": {},
   "outputs": [],
   "source": [
    "import requests\n",
    "\n",
    "# stabilim parametri de la nivelul adresei la care este oferit API-ul\n",
    "api_url = 'https://history.openweathermap.org/data/2.5/history/city';\n",
    "params = {\"lat\": \"45.76\",\n",
    "          \"lon\": \"21.22\",\n",
    "          \"type\": \"hour\",\n",
    "          \"units\": \"metric\",\n",
    "          \"start\": \"1640988000\",\n",
    "          \"end\": \"1648897200\", \n",
    "          \"appid\": \"api-key\"}\n",
    "\n",
    "# accesam datele de la nivelul API-ului\n",
    "response = requests.get(api_url, params=params)"
   ]
  },
  {
   "cell_type": "code",
   "execution_count": 30,
   "id": "794f7973",
   "metadata": {},
   "outputs": [
    {
     "data": {
      "text/plain": [
       "requests.models.Response"
      ]
     },
     "execution_count": 30,
     "metadata": {},
     "output_type": "execute_result"
    }
   ],
   "source": [
    "type(response)"
   ]
  },
  {
   "cell_type": "code",
   "execution_count": 31,
   "id": "fec60390",
   "metadata": {},
   "outputs": [
    {
     "data": {
      "text/plain": [
       "<Response [401]>"
      ]
     },
     "execution_count": 31,
     "metadata": {},
     "output_type": "execute_result"
    }
   ],
   "source": [
    "response"
   ]
  },
  {
   "cell_type": "markdown",
   "id": "f93273cb",
   "metadata": {},
   "source": [
    "Obiectul response contine toate datele si metadatele trimise de server ca urmare a cererii de tip GET. Pentru a accesa doar datele de la nivelul raspunsului poate fi utilizata metoda response.json(), care returneaza continutul sub forma unui dictionar."
   ]
  },
  {
   "cell_type": "code",
   "execution_count": 32,
   "id": "7da080b1",
   "metadata": {},
   "outputs": [
    {
     "data": {
      "text/plain": [
       "dict"
      ]
     },
     "execution_count": 32,
     "metadata": {},
     "output_type": "execute_result"
    }
   ],
   "source": [
    "type(response.json())"
   ]
  },
  {
   "cell_type": "code",
   "execution_count": 33,
   "id": "9376a468",
   "metadata": {},
   "outputs": [
    {
     "data": {
      "text/plain": [
       "{'cod': 401,\n",
       " 'message': 'Invalid API key. Please see http://openweathermap.org/faq#error401 for more info.'}"
      ]
     },
     "execution_count": 33,
     "metadata": {},
     "output_type": "execute_result"
    }
   ],
   "source": [
    "response.json()"
   ]
  },
  {
   "cell_type": "code",
   "execution_count": 34,
   "id": "b9bf1d3d",
   "metadata": {},
   "outputs": [],
   "source": [
    "# extragem datele din obiectul raspuns\n",
    "data_tmp = response.json()"
   ]
  },
  {
   "cell_type": "markdown",
   "id": "a39653a5",
   "metadata": {},
   "source": [
    "Exemplul JSON de mai jos reprezinta o prognoza meteo care contine informatii generale (cum ar fi `message`, `cod`, `city_id`, etc.) si o lista de prognoze (`list`). Fiecare intrare din lista include ora la care se realizeaza estimarea (`dt`), temperatura, presiunea, detaliile despre umiditate (`main`), viteza vantului (`wind`), acoperirea norilor (`clouds`) si conditiile meteorologice (`weather`). Atributul `weather` este la randul sau o lista care contine unul sau mai multe elemente care descriu conditiile meteorologice, cum ar fi ceata sau nori."
   ]
  },
  {
   "cell_type": "markdown",
   "id": "13c4a7ae",
   "metadata": {},
   "source": [
    "{'message': 'Count: 169',\n",
    " 'cod': '200',\n",
    " 'city_id': 1,\n",
    " 'calctime': 0.007814431,\n",
    " 'cnt': 169,\n",
    " 'list': [{'dt': 1640988000,\n",
    "   'main': {'temp': 3.39,\n",
    "    'feels_like': 1.43,\n",
    "    'pressure': 1021,\n",
    "    'humidity': 98,\n",
    "    'temp_min': 2.89,\n",
    "    'temp_max': 4.1},\n",
    "   'wind': {'speed': 2.06, 'deg': 120},\n",
    "   'clouds': {'all': 50},\n",
    "   'weather': [{'id': 802,\n",
    "     'main': 'Clouds',\n",
    "     'description': 'scattered clouds',\n",
    "     'icon': '03n'}]},\n",
    "  {'dt': 1640991600,\n",
    "   'main': {'temp': 4.22,\n",
    "    'feels_like': 4.22,\n",
    "    'pressure': 1021,\n",
    "    'humidity': 98,\n",
    "    'temp_min': 3.99,\n",
    "    'temp_max': 4.43},\n",
    "   'wind': {'speed': 1.03, 'deg': 40},\n",
    "   'clouds': {'all': 60},\n",
    "   'weather': [{'id': 741, 'main': 'Fog', 'description': 'fog', 'icon': '50n'},\n",
    "    {'id': 701, 'main': 'Mist', 'description': 'mist', 'icon': '50n'}]}, \n",
    "    ...\n",
    "}"
   ]
  },
  {
   "cell_type": "code",
   "execution_count": 35,
   "id": "18a100fb",
   "metadata": {},
   "outputs": [],
   "source": [
    "# salvam local raspunsul intr-un fisier .json\n",
    "# open('../data/openweather.json', 'wb').write(response.content)"
   ]
  },
  {
   "cell_type": "code",
   "execution_count": 36,
   "id": "450bb095",
   "metadata": {},
   "outputs": [],
   "source": [
    "# citim fisierul local de tip json si incarcam datele in variabila data\n",
    "data = pd.read_json(\"../data/openweather.json\", orient=\"records\")"
   ]
  },
  {
   "cell_type": "code",
   "execution_count": 37,
   "id": "47960864",
   "metadata": {},
   "outputs": [
    {
     "data": {
      "text/html": [
       "<div>\n",
       "<style scoped>\n",
       "    .dataframe tbody tr th:only-of-type {\n",
       "        vertical-align: middle;\n",
       "    }\n",
       "\n",
       "    .dataframe tbody tr th {\n",
       "        vertical-align: top;\n",
       "    }\n",
       "\n",
       "    .dataframe thead th {\n",
       "        text-align: right;\n",
       "    }\n",
       "</style>\n",
       "<table border=\"1\" class=\"dataframe\">\n",
       "  <thead>\n",
       "    <tr style=\"text-align: right;\">\n",
       "      <th></th>\n",
       "      <th>message</th>\n",
       "      <th>cod</th>\n",
       "      <th>city_id</th>\n",
       "      <th>calctime</th>\n",
       "      <th>cnt</th>\n",
       "      <th>list</th>\n",
       "    </tr>\n",
       "  </thead>\n",
       "  <tbody>\n",
       "    <tr>\n",
       "      <th>0</th>\n",
       "      <td>Count: 169</td>\n",
       "      <td>200</td>\n",
       "      <td>1</td>\n",
       "      <td>0.007337</td>\n",
       "      <td>169</td>\n",
       "      <td>{'dt': 1640988000, 'main': {'temp': 3.39, 'fee...</td>\n",
       "    </tr>\n",
       "    <tr>\n",
       "      <th>1</th>\n",
       "      <td>Count: 169</td>\n",
       "      <td>200</td>\n",
       "      <td>1</td>\n",
       "      <td>0.007337</td>\n",
       "      <td>169</td>\n",
       "      <td>{'dt': 1640991600, 'main': {'temp': 4.22, 'fee...</td>\n",
       "    </tr>\n",
       "    <tr>\n",
       "      <th>2</th>\n",
       "      <td>Count: 169</td>\n",
       "      <td>200</td>\n",
       "      <td>1</td>\n",
       "      <td>0.007337</td>\n",
       "      <td>169</td>\n",
       "      <td>{'dt': 1640995200, 'main': {'temp': 3.6, 'feel...</td>\n",
       "    </tr>\n",
       "    <tr>\n",
       "      <th>3</th>\n",
       "      <td>Count: 169</td>\n",
       "      <td>200</td>\n",
       "      <td>1</td>\n",
       "      <td>0.007337</td>\n",
       "      <td>169</td>\n",
       "      <td>{'dt': 1640998800, 'main': {'temp': 3.7, 'feel...</td>\n",
       "    </tr>\n",
       "    <tr>\n",
       "      <th>4</th>\n",
       "      <td>Count: 169</td>\n",
       "      <td>200</td>\n",
       "      <td>1</td>\n",
       "      <td>0.007337</td>\n",
       "      <td>169</td>\n",
       "      <td>{'dt': 1641002400, 'main': {'temp': 4.37, 'fee...</td>\n",
       "    </tr>\n",
       "    <tr>\n",
       "      <th>...</th>\n",
       "      <td>...</td>\n",
       "      <td>...</td>\n",
       "      <td>...</td>\n",
       "      <td>...</td>\n",
       "      <td>...</td>\n",
       "      <td>...</td>\n",
       "    </tr>\n",
       "    <tr>\n",
       "      <th>164</th>\n",
       "      <td>Count: 169</td>\n",
       "      <td>200</td>\n",
       "      <td>1</td>\n",
       "      <td>0.007337</td>\n",
       "      <td>169</td>\n",
       "      <td>{'dt': 1641578400, 'main': {'temp': -0.13, 'fe...</td>\n",
       "    </tr>\n",
       "    <tr>\n",
       "      <th>165</th>\n",
       "      <td>Count: 169</td>\n",
       "      <td>200</td>\n",
       "      <td>1</td>\n",
       "      <td>0.007337</td>\n",
       "      <td>169</td>\n",
       "      <td>{'dt': 1641582000, 'main': {'temp': -0.9500000...</td>\n",
       "    </tr>\n",
       "    <tr>\n",
       "      <th>166</th>\n",
       "      <td>Count: 169</td>\n",
       "      <td>200</td>\n",
       "      <td>1</td>\n",
       "      <td>0.007337</td>\n",
       "      <td>169</td>\n",
       "      <td>{'dt': 1641585600, 'main': {'temp': -0.66, 'fe...</td>\n",
       "    </tr>\n",
       "    <tr>\n",
       "      <th>167</th>\n",
       "      <td>Count: 169</td>\n",
       "      <td>200</td>\n",
       "      <td>1</td>\n",
       "      <td>0.007337</td>\n",
       "      <td>169</td>\n",
       "      <td>{'dt': 1641589200, 'main': {'temp': -1.24, 'fe...</td>\n",
       "    </tr>\n",
       "    <tr>\n",
       "      <th>168</th>\n",
       "      <td>Count: 169</td>\n",
       "      <td>200</td>\n",
       "      <td>1</td>\n",
       "      <td>0.007337</td>\n",
       "      <td>169</td>\n",
       "      <td>{'dt': 1641592800, 'main': {'temp': -0.44, 'fe...</td>\n",
       "    </tr>\n",
       "  </tbody>\n",
       "</table>\n",
       "<p>169 rows × 6 columns</p>\n",
       "</div>"
      ],
      "text/plain": [
       "        message  cod  city_id  calctime  cnt  \\\n",
       "0    Count: 169  200        1  0.007337  169   \n",
       "1    Count: 169  200        1  0.007337  169   \n",
       "2    Count: 169  200        1  0.007337  169   \n",
       "3    Count: 169  200        1  0.007337  169   \n",
       "4    Count: 169  200        1  0.007337  169   \n",
       "..          ...  ...      ...       ...  ...   \n",
       "164  Count: 169  200        1  0.007337  169   \n",
       "165  Count: 169  200        1  0.007337  169   \n",
       "166  Count: 169  200        1  0.007337  169   \n",
       "167  Count: 169  200        1  0.007337  169   \n",
       "168  Count: 169  200        1  0.007337  169   \n",
       "\n",
       "                                                  list  \n",
       "0    {'dt': 1640988000, 'main': {'temp': 3.39, 'fee...  \n",
       "1    {'dt': 1640991600, 'main': {'temp': 4.22, 'fee...  \n",
       "2    {'dt': 1640995200, 'main': {'temp': 3.6, 'feel...  \n",
       "3    {'dt': 1640998800, 'main': {'temp': 3.7, 'feel...  \n",
       "4    {'dt': 1641002400, 'main': {'temp': 4.37, 'fee...  \n",
       "..                                                 ...  \n",
       "164  {'dt': 1641578400, 'main': {'temp': -0.13, 'fe...  \n",
       "165  {'dt': 1641582000, 'main': {'temp': -0.9500000...  \n",
       "166  {'dt': 1641585600, 'main': {'temp': -0.66, 'fe...  \n",
       "167  {'dt': 1641589200, 'main': {'temp': -1.24, 'fe...  \n",
       "168  {'dt': 1641592800, 'main': {'temp': -0.44, 'fe...  \n",
       "\n",
       "[169 rows x 6 columns]"
      ]
     },
     "execution_count": 37,
     "metadata": {},
     "output_type": "execute_result"
    }
   ],
   "source": [
    "data"
   ]
  },
  {
   "cell_type": "code",
   "execution_count": 38,
   "id": "faba74fd",
   "metadata": {},
   "outputs": [
    {
     "data": {
      "text/plain": [
       "{'speed': 1.34, 'deg': 158, 'gust': 3.58}"
      ]
     },
     "execution_count": 38,
     "metadata": {},
     "output_type": "execute_result"
    }
   ],
   "source": [
    "data['list'][100]['wind']"
   ]
  },
  {
   "cell_type": "markdown",
   "id": "47552c70",
   "metadata": {},
   "source": [
    "Pentru structurile JSON, metoda [pd.json_normalize()](https://pandas.pydata.org/pandas-docs/stable/reference/api/pandas.json_normalize.html) poate fi extrem de utila, permitand aplatizarea datele intr-un format tabular care faciliteaza analiza ulterioara."
   ]
  },
  {
   "cell_type": "markdown",
   "id": "ed248978",
   "metadata": {},
   "source": [
    "In exemplul urmator, functia `json_normalize` din biblioteca pandas este utilizata pentru a converti o structura de date JSON imbricata intr-o structura tabelara (adica un DataFrame). Această transformare este deosebit de utila pentru a analiza date JSON complexe, imbricate, cu ajutorul pandas. O analiza a componentelor cheie si a rolului lui `record_path` si `meta` in acest exemplu specific:"
   ]
  },
  {
   "cell_type": "markdown",
   "id": "2bca938f",
   "metadata": {},
   "source": [
    "Obiectivul este acela de a aplatiza aceasta structura JSON complexa imbricata intr-o structura de tip pandas DataFrame pentru o analiza mai usoara. In mod specific, dorim un rand pentru fiecare element din lista `weather` din toate intrările estimate, impreuna cu informatii selectate din structurile parinte (cum ar fi temperatura, viteza vantului etc.)."
   ]
  },
  {
   "cell_type": "code",
   "execution_count": 39,
   "id": "383d5fbf",
   "metadata": {},
   "outputs": [],
   "source": [
    "data_json = pd.json_normalize(data['list'], \n",
    "                         meta=['dt', \n",
    "                               ['main', 'temp'], ['main', 'feels_like'], ['main', 'pressure'], ['main', 'humidity'], \\\n",
    "                               ['main', 'temp_min'], ['main', 'temp_max'], \\\n",
    "                               ['wind', 'speed'], ['wind', 'deg'], ['wind', 'gust'], \\\n",
    "                               ['clouds', 'all'],\n",
    "                               ['rain', '1h'], \n",
    "                               ['snow', '1h']\n",
    "                              ], \n",
    "                         record_path=['weather'], errors='ignore')"
   ]
  },
  {
   "cell_type": "markdown",
   "id": "82550704",
   "metadata": {},
   "source": [
    "Parametrul `record_path` specifica modul de parcurgere a documentului JSON pentru a gasi lista de inregistrari pe care dorim sa le introducem in liniile din cadrul structurii de tip DataFrame. In acest exemplu, `record_path=['weather']` indica faptul ca functia ar trebui sa caute listele localizate sub cheia `weather` in interiorul fiecarui element din `list`. Acest parametru este esential pentru identificarea datelor imbricate care trebuie convertite direct in linii in structura de date de tip DataFrame rezultata."
   ]
  },
  {
   "cell_type": "markdown",
   "id": "c8bd622c",
   "metadata": {},
   "source": [
    "Parametrul `meta` specifica informatiile suplimentare care ar trebui sa fie incluse alaturi de fiecare inregistrare extrasa prin intermediul `record_path`. Acestea sunt, in esenta, coloanele care vor fi adaugate pentru a completa fiecare inregistrare `weather` in DataFrame. "
   ]
  },
  {
   "cell_type": "markdown",
   "id": "8d5375fd",
   "metadata": {},
   "source": [
    "In exemplul de mai sus, pentru fiecare inregistrare meteorologica (cum ar fi ceata, nori etc.), includem, de asemenea, urmatoarele date:\n",
    "  - data si ora (`dt`),\n",
    "  - diverse inregistrari din sectiunea `main`, cum ar fi temperatura (`temp`, `feels_like`, `pressure`, `humidity`, `temp_min` si `temp_max`,\n",
    "  - informatii despre vant provenite din `wind`, adica `speed`, `deg` si `gust` (daca sunt disponibile, in caz contrar vor fi ignorate datorita parametrului `errors` care prezinta valoarea `'ignore'`),\n",
    "  - prezenta norilor (`clouds['all']`) si precipitatiile, daca sunt disponibile, `rain['1h']` si `snow['1h']`."
   ]
  },
  {
   "cell_type": "markdown",
   "id": "8a419a4b",
   "metadata": {},
   "source": [
    "Fiecare dintre aceste atribute `meta` este specificat ca o cale catre valoarea de interes, in raport cu fiecare element din `list`. Pentru valorile imbricate, calea este reprezentata ca o lista, de exemplu, `['main', 'temp']` pentru temperatura."
   ]
  },
  {
   "cell_type": "markdown",
   "id": "530a167f",
   "metadata": {},
   "source": [
    "Argumentul `errors='ignore'` transmite functiei `json_normalize` obligatia de a ignora orice date lipsa pentru caile specificate. De exemplu, este posibil ca nu toate estimarile sa prezinte datele `rain['1h']` sau `wind['gust']`. Setarea `errors='ignore'` asigura faptul ca functia nu va genera o eroare din cauza acestor elemente lipsa, precum si ca va ignora aceste campuri pentru inregistrarile care nu le detin."
   ]
  },
  {
   "cell_type": "code",
   "execution_count": 40,
   "id": "2ce989bb",
   "metadata": {},
   "outputs": [
    {
     "data": {
      "text/html": [
       "<div>\n",
       "<style scoped>\n",
       "    .dataframe tbody tr th:only-of-type {\n",
       "        vertical-align: middle;\n",
       "    }\n",
       "\n",
       "    .dataframe tbody tr th {\n",
       "        vertical-align: top;\n",
       "    }\n",
       "\n",
       "    .dataframe thead th {\n",
       "        text-align: right;\n",
       "    }\n",
       "</style>\n",
       "<table border=\"1\" class=\"dataframe\">\n",
       "  <thead>\n",
       "    <tr style=\"text-align: right;\">\n",
       "      <th></th>\n",
       "      <th>id</th>\n",
       "      <th>main</th>\n",
       "      <th>description</th>\n",
       "      <th>icon</th>\n",
       "      <th>dt</th>\n",
       "      <th>main.temp</th>\n",
       "      <th>main.feels_like</th>\n",
       "      <th>main.pressure</th>\n",
       "      <th>main.humidity</th>\n",
       "      <th>main.temp_min</th>\n",
       "      <th>main.temp_max</th>\n",
       "      <th>wind.speed</th>\n",
       "      <th>wind.deg</th>\n",
       "      <th>wind.gust</th>\n",
       "      <th>clouds.all</th>\n",
       "      <th>rain.1h</th>\n",
       "      <th>snow.1h</th>\n",
       "    </tr>\n",
       "  </thead>\n",
       "  <tbody>\n",
       "    <tr>\n",
       "      <th>0</th>\n",
       "      <td>802</td>\n",
       "      <td>Clouds</td>\n",
       "      <td>scattered clouds</td>\n",
       "      <td>03n</td>\n",
       "      <td>1640988000</td>\n",
       "      <td>3.39</td>\n",
       "      <td>1.43</td>\n",
       "      <td>1021</td>\n",
       "      <td>98</td>\n",
       "      <td>2.89</td>\n",
       "      <td>4.1</td>\n",
       "      <td>2.06</td>\n",
       "      <td>120</td>\n",
       "      <td>NaN</td>\n",
       "      <td>50</td>\n",
       "      <td>NaN</td>\n",
       "      <td>NaN</td>\n",
       "    </tr>\n",
       "    <tr>\n",
       "      <th>1</th>\n",
       "      <td>741</td>\n",
       "      <td>Fog</td>\n",
       "      <td>fog</td>\n",
       "      <td>50n</td>\n",
       "      <td>1640991600</td>\n",
       "      <td>4.22</td>\n",
       "      <td>4.22</td>\n",
       "      <td>1021</td>\n",
       "      <td>98</td>\n",
       "      <td>3.99</td>\n",
       "      <td>4.43</td>\n",
       "      <td>1.03</td>\n",
       "      <td>40</td>\n",
       "      <td>NaN</td>\n",
       "      <td>60</td>\n",
       "      <td>NaN</td>\n",
       "      <td>NaN</td>\n",
       "    </tr>\n",
       "    <tr>\n",
       "      <th>2</th>\n",
       "      <td>701</td>\n",
       "      <td>Mist</td>\n",
       "      <td>mist</td>\n",
       "      <td>50n</td>\n",
       "      <td>1640991600</td>\n",
       "      <td>4.22</td>\n",
       "      <td>4.22</td>\n",
       "      <td>1021</td>\n",
       "      <td>98</td>\n",
       "      <td>3.99</td>\n",
       "      <td>4.43</td>\n",
       "      <td>1.03</td>\n",
       "      <td>40</td>\n",
       "      <td>NaN</td>\n",
       "      <td>60</td>\n",
       "      <td>NaN</td>\n",
       "      <td>NaN</td>\n",
       "    </tr>\n",
       "    <tr>\n",
       "      <th>3</th>\n",
       "      <td>701</td>\n",
       "      <td>Mist</td>\n",
       "      <td>mist</td>\n",
       "      <td>50n</td>\n",
       "      <td>1640995200</td>\n",
       "      <td>3.6</td>\n",
       "      <td>3.6</td>\n",
       "      <td>1020</td>\n",
       "      <td>98</td>\n",
       "      <td>1.95</td>\n",
       "      <td>5.1</td>\n",
       "      <td>0.45</td>\n",
       "      <td>158</td>\n",
       "      <td>0.45</td>\n",
       "      <td>20</td>\n",
       "      <td>NaN</td>\n",
       "      <td>NaN</td>\n",
       "    </tr>\n",
       "    <tr>\n",
       "      <th>4</th>\n",
       "      <td>701</td>\n",
       "      <td>Mist</td>\n",
       "      <td>mist</td>\n",
       "      <td>50n</td>\n",
       "      <td>1640998800</td>\n",
       "      <td>3.7</td>\n",
       "      <td>1.79</td>\n",
       "      <td>1020</td>\n",
       "      <td>98</td>\n",
       "      <td>2.1</td>\n",
       "      <td>6.21</td>\n",
       "      <td>2.06</td>\n",
       "      <td>80</td>\n",
       "      <td>NaN</td>\n",
       "      <td>100</td>\n",
       "      <td>NaN</td>\n",
       "      <td>NaN</td>\n",
       "    </tr>\n",
       "  </tbody>\n",
       "</table>\n",
       "</div>"
      ],
      "text/plain": [
       "    id    main       description icon          dt main.temp main.feels_like  \\\n",
       "0  802  Clouds  scattered clouds  03n  1640988000      3.39            1.43   \n",
       "1  741     Fog               fog  50n  1640991600      4.22            4.22   \n",
       "2  701    Mist              mist  50n  1640991600      4.22            4.22   \n",
       "3  701    Mist              mist  50n  1640995200       3.6             3.6   \n",
       "4  701    Mist              mist  50n  1640998800       3.7            1.79   \n",
       "\n",
       "  main.pressure main.humidity main.temp_min main.temp_max wind.speed wind.deg  \\\n",
       "0          1021            98          2.89           4.1       2.06      120   \n",
       "1          1021            98          3.99          4.43       1.03       40   \n",
       "2          1021            98          3.99          4.43       1.03       40   \n",
       "3          1020            98          1.95           5.1       0.45      158   \n",
       "4          1020            98           2.1          6.21       2.06       80   \n",
       "\n",
       "  wind.gust clouds.all rain.1h snow.1h  \n",
       "0       NaN         50     NaN     NaN  \n",
       "1       NaN         60     NaN     NaN  \n",
       "2       NaN         60     NaN     NaN  \n",
       "3      0.45         20     NaN     NaN  \n",
       "4       NaN        100     NaN     NaN  "
      ]
     },
     "execution_count": 40,
     "metadata": {},
     "output_type": "execute_result"
    }
   ],
   "source": [
    "data_json.head()"
   ]
  },
  {
   "cell_type": "code",
   "execution_count": 41,
   "id": "66c714e5",
   "metadata": {},
   "outputs": [
    {
     "name": "stdout",
     "output_type": "stream",
     "text": [
      "<class 'pandas.core.frame.DataFrame'>\n",
      "RangeIndex: 169 entries, 0 to 168\n",
      "Data columns (total 6 columns):\n",
      " #   Column    Non-Null Count  Dtype  \n",
      "---  ------    --------------  -----  \n",
      " 0   message   169 non-null    object \n",
      " 1   cod       169 non-null    int64  \n",
      " 2   city_id   169 non-null    int64  \n",
      " 3   calctime  169 non-null    float64\n",
      " 4   cnt       169 non-null    int64  \n",
      " 5   list      169 non-null    object \n",
      "dtypes: float64(1), int64(3), object(2)\n",
      "memory usage: 8.1+ KB\n"
     ]
    }
   ],
   "source": [
    "data.info()"
   ]
  },
  {
   "cell_type": "code",
   "execution_count": 42,
   "id": "a30c4e91",
   "metadata": {},
   "outputs": [
    {
     "data": {
      "text/plain": [
       "Index(['message', 'cod', 'city_id', 'calctime', 'cnt', 'list'], dtype='object')"
      ]
     },
     "execution_count": 42,
     "metadata": {},
     "output_type": "execute_result"
    }
   ],
   "source": [
    "data.columns"
   ]
  },
  {
   "cell_type": "code",
   "execution_count": 43,
   "id": "153074fa",
   "metadata": {},
   "outputs": [],
   "source": [
    "data2 = pd.json_normalize(data['list'], max_level=2).head()"
   ]
  },
  {
   "cell_type": "code",
   "execution_count": 44,
   "id": "cb29142b",
   "metadata": {},
   "outputs": [
    {
     "data": {
      "text/html": [
       "<div>\n",
       "<style scoped>\n",
       "    .dataframe tbody tr th:only-of-type {\n",
       "        vertical-align: middle;\n",
       "    }\n",
       "\n",
       "    .dataframe tbody tr th {\n",
       "        vertical-align: top;\n",
       "    }\n",
       "\n",
       "    .dataframe thead th {\n",
       "        text-align: right;\n",
       "    }\n",
       "</style>\n",
       "<table border=\"1\" class=\"dataframe\">\n",
       "  <thead>\n",
       "    <tr style=\"text-align: right;\">\n",
       "      <th></th>\n",
       "      <th>dt</th>\n",
       "      <th>weather</th>\n",
       "      <th>main.temp</th>\n",
       "      <th>main.feels_like</th>\n",
       "      <th>main.pressure</th>\n",
       "      <th>main.humidity</th>\n",
       "      <th>main.temp_min</th>\n",
       "      <th>main.temp_max</th>\n",
       "      <th>wind.speed</th>\n",
       "      <th>wind.deg</th>\n",
       "      <th>clouds.all</th>\n",
       "      <th>wind.gust</th>\n",
       "      <th>rain.1h</th>\n",
       "      <th>snow.1h</th>\n",
       "    </tr>\n",
       "  </thead>\n",
       "  <tbody>\n",
       "    <tr>\n",
       "      <th>0</th>\n",
       "      <td>1640988000</td>\n",
       "      <td>[{'id': 802, 'main': 'Clouds', 'description': ...</td>\n",
       "      <td>3.39</td>\n",
       "      <td>1.43</td>\n",
       "      <td>1021</td>\n",
       "      <td>98</td>\n",
       "      <td>2.89</td>\n",
       "      <td>4.10</td>\n",
       "      <td>2.06</td>\n",
       "      <td>120</td>\n",
       "      <td>50</td>\n",
       "      <td>NaN</td>\n",
       "      <td>NaN</td>\n",
       "      <td>NaN</td>\n",
       "    </tr>\n",
       "    <tr>\n",
       "      <th>1</th>\n",
       "      <td>1640991600</td>\n",
       "      <td>[{'id': 741, 'main': 'Fog', 'description': 'fo...</td>\n",
       "      <td>4.22</td>\n",
       "      <td>4.22</td>\n",
       "      <td>1021</td>\n",
       "      <td>98</td>\n",
       "      <td>3.99</td>\n",
       "      <td>4.43</td>\n",
       "      <td>1.03</td>\n",
       "      <td>40</td>\n",
       "      <td>60</td>\n",
       "      <td>NaN</td>\n",
       "      <td>NaN</td>\n",
       "      <td>NaN</td>\n",
       "    </tr>\n",
       "    <tr>\n",
       "      <th>2</th>\n",
       "      <td>1640995200</td>\n",
       "      <td>[{'id': 701, 'main': 'Mist', 'description': 'm...</td>\n",
       "      <td>3.60</td>\n",
       "      <td>3.60</td>\n",
       "      <td>1020</td>\n",
       "      <td>98</td>\n",
       "      <td>1.95</td>\n",
       "      <td>5.10</td>\n",
       "      <td>0.45</td>\n",
       "      <td>158</td>\n",
       "      <td>20</td>\n",
       "      <td>0.45</td>\n",
       "      <td>NaN</td>\n",
       "      <td>NaN</td>\n",
       "    </tr>\n",
       "    <tr>\n",
       "      <th>3</th>\n",
       "      <td>1640998800</td>\n",
       "      <td>[{'id': 701, 'main': 'Mist', 'description': 'm...</td>\n",
       "      <td>3.70</td>\n",
       "      <td>1.79</td>\n",
       "      <td>1020</td>\n",
       "      <td>98</td>\n",
       "      <td>2.10</td>\n",
       "      <td>6.21</td>\n",
       "      <td>2.06</td>\n",
       "      <td>80</td>\n",
       "      <td>100</td>\n",
       "      <td>NaN</td>\n",
       "      <td>NaN</td>\n",
       "      <td>NaN</td>\n",
       "    </tr>\n",
       "    <tr>\n",
       "      <th>4</th>\n",
       "      <td>1641002400</td>\n",
       "      <td>[{'id': 701, 'main': 'Mist', 'description': 'm...</td>\n",
       "      <td>4.37</td>\n",
       "      <td>2.57</td>\n",
       "      <td>1020</td>\n",
       "      <td>98</td>\n",
       "      <td>2.95</td>\n",
       "      <td>6.21</td>\n",
       "      <td>2.06</td>\n",
       "      <td>110</td>\n",
       "      <td>20</td>\n",
       "      <td>NaN</td>\n",
       "      <td>NaN</td>\n",
       "      <td>NaN</td>\n",
       "    </tr>\n",
       "  </tbody>\n",
       "</table>\n",
       "</div>"
      ],
      "text/plain": [
       "           dt                                            weather  main.temp  \\\n",
       "0  1640988000  [{'id': 802, 'main': 'Clouds', 'description': ...       3.39   \n",
       "1  1640991600  [{'id': 741, 'main': 'Fog', 'description': 'fo...       4.22   \n",
       "2  1640995200  [{'id': 701, 'main': 'Mist', 'description': 'm...       3.60   \n",
       "3  1640998800  [{'id': 701, 'main': 'Mist', 'description': 'm...       3.70   \n",
       "4  1641002400  [{'id': 701, 'main': 'Mist', 'description': 'm...       4.37   \n",
       "\n",
       "   main.feels_like  main.pressure  main.humidity  main.temp_min  \\\n",
       "0             1.43           1021             98           2.89   \n",
       "1             4.22           1021             98           3.99   \n",
       "2             3.60           1020             98           1.95   \n",
       "3             1.79           1020             98           2.10   \n",
       "4             2.57           1020             98           2.95   \n",
       "\n",
       "   main.temp_max  wind.speed  wind.deg  clouds.all  wind.gust  rain.1h  \\\n",
       "0           4.10        2.06       120          50        NaN      NaN   \n",
       "1           4.43        1.03        40          60        NaN      NaN   \n",
       "2           5.10        0.45       158          20       0.45      NaN   \n",
       "3           6.21        2.06        80         100        NaN      NaN   \n",
       "4           6.21        2.06       110          20        NaN      NaN   \n",
       "\n",
       "   snow.1h  \n",
       "0      NaN  \n",
       "1      NaN  \n",
       "2      NaN  \n",
       "3      NaN  \n",
       "4      NaN  "
      ]
     },
     "execution_count": 44,
     "metadata": {},
     "output_type": "execute_result"
    }
   ],
   "source": [
    "data2.head()"
   ]
  },
  {
   "cell_type": "code",
   "execution_count": 45,
   "id": "98be6ae8",
   "metadata": {},
   "outputs": [
    {
     "data": {
      "text/plain": [
       "Index(['dt', 'weather', 'main.temp', 'main.feels_like', 'main.pressure',\n",
       "       'main.humidity', 'main.temp_min', 'main.temp_max', 'wind.speed',\n",
       "       'wind.deg', 'clouds.all', 'wind.gust', 'rain.1h', 'snow.1h'],\n",
       "      dtype='object')"
      ]
     },
     "execution_count": 45,
     "metadata": {},
     "output_type": "execute_result"
    }
   ],
   "source": [
    "data2.columns"
   ]
  },
  {
   "cell_type": "markdown",
   "id": "d6bd8749",
   "metadata": {},
   "source": [
    "Ingestia datelor in Pandas reprezinta fundatia oricarui proiect de analiza de date, deschizand calea catre explorare, pre-procesare si, in cele din urma, extragerea de insight-uri valoroase. Prin aplicarea practica a tehnicilor prezentate, putem transforma seturi de date brute in informatii valoroase, stimuland decizii bazate pe date intr-un context specific."
   ]
  }
 ],
 "metadata": {
  "kernelspec": {
   "display_name": "Python 3",
   "language": "python",
   "name": "python3"
  },
  "language_info": {
   "codemirror_mode": {
    "name": "ipython",
    "version": 3
   },
   "file_extension": ".py",
   "mimetype": "text/x-python",
   "name": "python",
   "nbconvert_exporter": "python",
   "pygments_lexer": "ipython3",
   "version": "3.13.1"
  }
 },
 "nbformat": 4,
 "nbformat_minor": 5
}
